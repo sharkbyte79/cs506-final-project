{
 "cells": [
  {
   "cell_type": "markdown",
   "id": "4a8db41d",
   "metadata": {},
   "source": [
    "# ICE Arrest Forecast Analysis\n",
    "This notebook walks through loading the ICE arrest data, building features, training a Random Forest, validating on a hold-out period, and forecasting 12 months into the future. Each section includes explanations."
   ]
  },
  {
   "cell_type": "markdown",
   "id": "4bd3cd14",
   "metadata": {},
   "source": [
    "## 1. Imports\n",
    "We start by importing the necessary libraries for data manipulation, modeling, and visualization."
   ]
  },
  {
   "cell_type": "code",
   "execution_count": 15,
   "id": "53848694",
   "metadata": {},
   "outputs": [],
   "source": [
    "import pandas as pd\n",
    "import numpy as np\n",
    "from sklearn.ensemble import RandomForestRegressor\n",
    "from sklearn.metrics import mean_squared_error\n",
    "from pathlib import Path\n",
    "import plotly.express as px"
   ]
  },
  {
   "cell_type": "markdown",
   "id": "58d77a6b",
   "metadata": {},
   "source": [
    "## 2. Constants & File Paths\n",
    "Define directory structure, filenames, and model hyperparameters."
   ]
  },
  {
   "cell_type": "code",
   "execution_count": 16,
   "id": "cdb3c351",
   "metadata": {},
   "outputs": [
    {
     "name": "stdout",
     "output_type": "stream",
     "text": [
      "/home/layne/school/cs506/final-project/notebooks\n",
      "/home/layne/school/cs506\n"
     ]
    }
   ],
   "source": [
    "import os\n",
    "print(os.getcwd())\n",
    "\n",
    "# Project root and data paths\n",
    "PROJECT_ROOT = Path().resolve().parents[1]\n",
    "print(PROJECT_ROOT)\n",
    "TARGET_FILE = \"ICE_data.csv\"\n",
    "FILEPATH = PROJECT_ROOT / \"cs506-final-project\" / \"data\" / \"raw\" / TARGET_FILE\n",
    "\n",
    "# Model & forecasting parameters\n",
    "N_LAGS = 3\n",
    "RF_ESTIMATORS = 100\n",
    "RF_RANDOM_STATE = 42\n",
    "HORIZON = 6       # months for validation\n",
    "FREQ = \"ME\"       # month-end frequency"
   ]
  },
  {
   "cell_type": "markdown",
   "id": "d620e7f1",
   "metadata": {},
   "source": [
    "## 3. Load & Rename Data\n",
    "Read the CSV and rename columns for use in time series forecasting."
   ]
  },
  {
   "cell_type": "code",
   "execution_count": null,
   "id": "587beebd",
   "metadata": {},
   "outputs": [
    {
     "data": {
      "text/html": [
       "<div>\n",
       "<style scoped>\n",
       "    .dataframe tbody tr th:only-of-type {\n",
       "        vertical-align: middle;\n",
       "    }\n",
       "\n",
       "    .dataframe tbody tr th {\n",
       "        vertical-align: top;\n",
       "    }\n",
       "\n",
       "    .dataframe thead th {\n",
       "        text-align: right;\n",
       "    }\n",
       "</style>\n",
       "<table border=\"1\" class=\"dataframe\">\n",
       "  <thead>\n",
       "    <tr style=\"text-align: right;\">\n",
       "      <th></th>\n",
       "      <th>Criminality</th>\n",
       "      <th>AOR</th>\n",
       "      <th>Citizenship</th>\n",
       "      <th>Fiscal Year</th>\n",
       "      <th>Fiscal Quarter</th>\n",
       "      <th>Fiscal Month</th>\n",
       "      <th>ds</th>\n",
       "      <th>Arrests</th>\n",
       "      <th>Id</th>\n",
       "    </tr>\n",
       "  </thead>\n",
       "  <tbody>\n",
       "    <tr>\n",
       "      <th>8423</th>\n",
       "      <td>Pending Criminal Charges</td>\n",
       "      <td>Houston</td>\n",
       "      <td>HONDURAS</td>\n",
       "      <td>2021</td>\n",
       "      <td>1</td>\n",
       "      <td>1</td>\n",
       "      <td>2020-10-01</td>\n",
       "      <td>34</td>\n",
       "      <td>8423</td>\n",
       "    </tr>\n",
       "    <tr>\n",
       "      <th>706</th>\n",
       "      <td>Criminal Conviction</td>\n",
       "      <td>Denver</td>\n",
       "      <td>MEXICO</td>\n",
       "      <td>2021</td>\n",
       "      <td>1</td>\n",
       "      <td>1</td>\n",
       "      <td>2020-10-01</td>\n",
       "      <td>67</td>\n",
       "      <td>706</td>\n",
       "    </tr>\n",
       "    <tr>\n",
       "      <th>2484</th>\n",
       "      <td>Criminal Conviction</td>\n",
       "      <td>San Francisco</td>\n",
       "      <td>MEXICO</td>\n",
       "      <td>2021</td>\n",
       "      <td>1</td>\n",
       "      <td>1</td>\n",
       "      <td>2020-10-01</td>\n",
       "      <td>134</td>\n",
       "      <td>2484</td>\n",
       "    </tr>\n",
       "    <tr>\n",
       "      <th>87</th>\n",
       "      <td>Criminal Conviction</td>\n",
       "      <td>Atlanta</td>\n",
       "      <td>HONDURAS</td>\n",
       "      <td>2021</td>\n",
       "      <td>1</td>\n",
       "      <td>1</td>\n",
       "      <td>2020-10-01</td>\n",
       "      <td>48</td>\n",
       "      <td>87</td>\n",
       "    </tr>\n",
       "    <tr>\n",
       "      <th>4774</th>\n",
       "      <td>Other Immigration Violator</td>\n",
       "      <td>Houston</td>\n",
       "      <td>GUATEMALA</td>\n",
       "      <td>2021</td>\n",
       "      <td>1</td>\n",
       "      <td>1</td>\n",
       "      <td>2020-10-01</td>\n",
       "      <td>11</td>\n",
       "      <td>4774</td>\n",
       "    </tr>\n",
       "  </tbody>\n",
       "</table>\n",
       "</div>"
      ],
      "text/plain": [
       "                     Criminality            AOR Citizenship  Fiscal Year  \\\n",
       "8423    Pending Criminal Charges        Houston    HONDURAS         2021   \n",
       "706          Criminal Conviction         Denver      MEXICO         2021   \n",
       "2484         Criminal Conviction  San Francisco      MEXICO         2021   \n",
       "87           Criminal Conviction        Atlanta    HONDURAS         2021   \n",
       "4774  Other Immigration Violator        Houston   GUATEMALA         2021   \n",
       "\n",
       "      Fiscal Quarter  Fiscal Month         ds  Arrests    Id  \n",
       "8423               1             1 2020-10-01       34  8423  \n",
       "706                1             1 2020-10-01       67   706  \n",
       "2484               1             1 2020-10-01      134  2484  \n",
       "87                 1             1 2020-10-01       48    87  \n",
       "4774               1             1 2020-10-01       11  4774  "
      ]
     },
     "execution_count": 17,
     "metadata": {},
     "output_type": "execute_result"
    }
   ],
   "source": [
    "# Load dataset\n",
    "df = pd.read_pickle(\"../data/processed/ICE_data.pkl\")\n",
    "df = df.rename(columns={\n",
    "    \"Month-Year\": \"ds\",\n",
    "    \"Arrests\": \"y\",\n",
    "    \"Citizenship\": \"Citizenship\"\n",
    "})\n",
    "# Parse dates\n",
    "df[\"ds\"] = pd.to_datetime(df[\"ds\"], format=\"%b %Y\")\n",
    "df.head()"
   ]
  },
  {
   "cell_type": "markdown",
   "id": "dc14152b",
   "metadata": {},
   "source": [
    "## 4. Build Monthly Panel\n",
    "Create a complete monthly time series for each citizenship, filling missing months with zero arrests."
   ]
  },
  {
   "cell_type": "code",
   "execution_count": 18,
   "id": "2f4c7563",
   "metadata": {},
   "outputs": [
    {
     "ename": "KeyError",
     "evalue": "'y'",
     "output_type": "error",
     "traceback": [
      "\u001b[31m---------------------------------------------------------------------------\u001b[39m",
      "\u001b[31mKeyError\u001b[39m                                  Traceback (most recent call last)",
      "\u001b[36mFile \u001b[39m\u001b[32m~/school/cs506/final-project/.venv/lib/python3.13/site-packages/pandas/core/indexes/base.py:3805\u001b[39m, in \u001b[36mIndex.get_loc\u001b[39m\u001b[34m(self, key)\u001b[39m\n\u001b[32m   3804\u001b[39m \u001b[38;5;28;01mtry\u001b[39;00m:\n\u001b[32m-> \u001b[39m\u001b[32m3805\u001b[39m     \u001b[38;5;28;01mreturn\u001b[39;00m \u001b[38;5;28;43mself\u001b[39;49m\u001b[43m.\u001b[49m\u001b[43m_engine\u001b[49m\u001b[43m.\u001b[49m\u001b[43mget_loc\u001b[49m\u001b[43m(\u001b[49m\u001b[43mcasted_key\u001b[49m\u001b[43m)\u001b[49m\n\u001b[32m   3806\u001b[39m \u001b[38;5;28;01mexcept\u001b[39;00m \u001b[38;5;167;01mKeyError\u001b[39;00m \u001b[38;5;28;01mas\u001b[39;00m err:\n",
      "\u001b[36mFile \u001b[39m\u001b[32mindex.pyx:167\u001b[39m, in \u001b[36mpandas._libs.index.IndexEngine.get_loc\u001b[39m\u001b[34m()\u001b[39m\n",
      "\u001b[36mFile \u001b[39m\u001b[32mindex.pyx:196\u001b[39m, in \u001b[36mpandas._libs.index.IndexEngine.get_loc\u001b[39m\u001b[34m()\u001b[39m\n",
      "\u001b[36mFile \u001b[39m\u001b[32mpandas/_libs/hashtable_class_helper.pxi:7081\u001b[39m, in \u001b[36mpandas._libs.hashtable.PyObjectHashTable.get_item\u001b[39m\u001b[34m()\u001b[39m\n",
      "\u001b[36mFile \u001b[39m\u001b[32mpandas/_libs/hashtable_class_helper.pxi:7089\u001b[39m, in \u001b[36mpandas._libs.hashtable.PyObjectHashTable.get_item\u001b[39m\u001b[34m()\u001b[39m\n",
      "\u001b[31mKeyError\u001b[39m: 'y'",
      "\nThe above exception was the direct cause of the following exception:\n",
      "\u001b[31mKeyError\u001b[39m                                  Traceback (most recent call last)",
      "\u001b[36mCell\u001b[39m\u001b[36m \u001b[39m\u001b[32mIn[18]\u001b[39m\u001b[32m, line 9\u001b[39m\n\u001b[32m      7\u001b[39m \u001b[38;5;28;01mfor\u001b[39;00m eth \u001b[38;5;129;01min\u001b[39;00m eths:\n\u001b[32m      8\u001b[39m     sub = df[df[\u001b[33m\"\u001b[39m\u001b[33mCitizenship\u001b[39m\u001b[33m\"\u001b[39m] == eth].set_index(\u001b[33m\"\u001b[39m\u001b[33mds\u001b[39m\u001b[33m\"\u001b[39m)\n\u001b[32m----> \u001b[39m\u001b[32m9\u001b[39m     monthly = \u001b[43msub\u001b[49m\u001b[43m[\u001b[49m\u001b[33;43m\"\u001b[39;49m\u001b[33;43my\u001b[39;49m\u001b[33;43m\"\u001b[39;49m\u001b[43m]\u001b[49m.resample(FREQ).sum().reindex(idx, fill_value=\u001b[32m0\u001b[39m)\n\u001b[32m     10\u001b[39m     tmp = monthly.to_frame().rename_axis(\u001b[33m\"\u001b[39m\u001b[33mds\u001b[39m\u001b[33m\"\u001b[39m).reset_index()\n\u001b[32m     11\u001b[39m     tmp[\u001b[33m\"\u001b[39m\u001b[33mCitizenship\u001b[39m\u001b[33m\"\u001b[39m] = eth\n",
      "\u001b[36mFile \u001b[39m\u001b[32m~/school/cs506/final-project/.venv/lib/python3.13/site-packages/pandas/core/frame.py:4102\u001b[39m, in \u001b[36mDataFrame.__getitem__\u001b[39m\u001b[34m(self, key)\u001b[39m\n\u001b[32m   4100\u001b[39m \u001b[38;5;28;01mif\u001b[39;00m \u001b[38;5;28mself\u001b[39m.columns.nlevels > \u001b[32m1\u001b[39m:\n\u001b[32m   4101\u001b[39m     \u001b[38;5;28;01mreturn\u001b[39;00m \u001b[38;5;28mself\u001b[39m._getitem_multilevel(key)\n\u001b[32m-> \u001b[39m\u001b[32m4102\u001b[39m indexer = \u001b[38;5;28;43mself\u001b[39;49m\u001b[43m.\u001b[49m\u001b[43mcolumns\u001b[49m\u001b[43m.\u001b[49m\u001b[43mget_loc\u001b[49m\u001b[43m(\u001b[49m\u001b[43mkey\u001b[49m\u001b[43m)\u001b[49m\n\u001b[32m   4103\u001b[39m \u001b[38;5;28;01mif\u001b[39;00m is_integer(indexer):\n\u001b[32m   4104\u001b[39m     indexer = [indexer]\n",
      "\u001b[36mFile \u001b[39m\u001b[32m~/school/cs506/final-project/.venv/lib/python3.13/site-packages/pandas/core/indexes/base.py:3812\u001b[39m, in \u001b[36mIndex.get_loc\u001b[39m\u001b[34m(self, key)\u001b[39m\n\u001b[32m   3807\u001b[39m     \u001b[38;5;28;01mif\u001b[39;00m \u001b[38;5;28misinstance\u001b[39m(casted_key, \u001b[38;5;28mslice\u001b[39m) \u001b[38;5;129;01mor\u001b[39;00m (\n\u001b[32m   3808\u001b[39m         \u001b[38;5;28misinstance\u001b[39m(casted_key, abc.Iterable)\n\u001b[32m   3809\u001b[39m         \u001b[38;5;129;01mand\u001b[39;00m \u001b[38;5;28many\u001b[39m(\u001b[38;5;28misinstance\u001b[39m(x, \u001b[38;5;28mslice\u001b[39m) \u001b[38;5;28;01mfor\u001b[39;00m x \u001b[38;5;129;01min\u001b[39;00m casted_key)\n\u001b[32m   3810\u001b[39m     ):\n\u001b[32m   3811\u001b[39m         \u001b[38;5;28;01mraise\u001b[39;00m InvalidIndexError(key)\n\u001b[32m-> \u001b[39m\u001b[32m3812\u001b[39m     \u001b[38;5;28;01mraise\u001b[39;00m \u001b[38;5;167;01mKeyError\u001b[39;00m(key) \u001b[38;5;28;01mfrom\u001b[39;00m\u001b[38;5;250m \u001b[39m\u001b[34;01merr\u001b[39;00m\n\u001b[32m   3813\u001b[39m \u001b[38;5;28;01mexcept\u001b[39;00m \u001b[38;5;167;01mTypeError\u001b[39;00m:\n\u001b[32m   3814\u001b[39m     \u001b[38;5;66;03m# If we have a listlike key, _check_indexing_error will raise\u001b[39;00m\n\u001b[32m   3815\u001b[39m     \u001b[38;5;66;03m#  InvalidIndexError. Otherwise we fall through and re-raise\u001b[39;00m\n\u001b[32m   3816\u001b[39m     \u001b[38;5;66;03m#  the TypeError.\u001b[39;00m\n\u001b[32m   3817\u001b[39m     \u001b[38;5;28mself\u001b[39m._check_indexing_error(key)\n",
      "\u001b[31mKeyError\u001b[39m: 'y'"
     ]
    }
   ],
   "source": [
    "# Unique citizenships and full date index\n",
    "eths = df[\"Citizenship\"].unique()\n",
    "idx = pd.date_range(df[\"ds\"].min(), df[\"ds\"].max(), freq=FREQ)\n",
    "\n",
    "# Build panel\n",
    "panels = []\n",
    "for eth in eths:\n",
    "    sub = df[df[\"Citizenship\"] == eth].set_index(\"ds\")\n",
    "    monthly = sub[\"y\"].resample(FREQ).sum().reindex(idx, fill_value=0)\n",
    "    tmp = monthly.to_frame().rename_axis(\"ds\").reset_index()\n",
    "    tmp[\"Citizenship\"] = eth\n",
    "    panels.append(tmp)\n",
    "panel = pd.concat(panels, ignore_index=True)\n",
    "panel.head()"
   ]
  },
  {
   "cell_type": "markdown",
   "id": "b2cd5acb",
   "metadata": {},
   "source": [
    "## 5. Feature Engineering\n",
    "Create time index, seasonality encodings, lag features, and rolling statistics."
   ]
  },
  {
   "cell_type": "code",
   "execution_count": null,
   "id": "a5f5901c",
   "metadata": {},
   "outputs": [],
   "source": [
    "def make_features(data, n_lags=N_LAGS):\n",
    "    g = data.sort_values(\"ds\").copy()\n",
    "    g[\"t\"] = np.arange(len(g))\n",
    "    g[\"month_sin\"] = np.sin(2 * np.pi * g[\"ds\"].dt.month / 12)\n",
    "    g[\"month_cos\"] = np.cos(2 * np.pi * g[\"ds\"].dt.month / 12)\n",
    "    for lag in range(1, n_lags + 1):\n",
    "        g[f\"y_lag{lag}\"] = g[\"y\"].shift(lag)\n",
    "    g[\"roll_mean_3\"] = g[\"y\"].shift(1).rolling(3).mean()\n",
    "    g[\"roll_std_3\"] = g[\"y\"].shift(1).rolling(3).std().fillna(0)\n",
    "    return g.dropna()\n",
    "\n",
    "feature_cols = [\"t\", \"month_sin\", \"month_cos\"] + [f\"y_lag{i}\" for i in range(1, N_LAGS+1)] + [\"roll_mean_3\", \"roll_std_3\"]\n"
   ]
  },
  {
   "cell_type": "markdown",
   "id": "eceef3f3",
   "metadata": {},
   "source": [
    "## 6. Train/Validation Split\n",
    "Split the data temporally into a training set and a 6‑month validation window."
   ]
  },
  {
   "cell_type": "code",
   "execution_count": null,
   "id": "50ebe49e",
   "metadata": {},
   "outputs": [],
   "source": [
    "# Determine cutoff\n",
    "last_date = panel[\"ds\"].max()\n",
    "offset = pd.tseries.frequencies.to_offset(FREQ)\n",
    "cutoff = last_date - HORIZON * offset\n",
    "\n",
    "train_panel = panel[panel[\"ds\"] <= cutoff]\n",
    "val_panel = panel[(panel[\"ds\"] > cutoff) & (panel[\"ds\"] <= last_date)]"
   ]
  },
  {
   "cell_type": "markdown",
   "id": "8689bd8d",
   "metadata": {},
   "source": [
    "## 7. Train Random Forest\n",
    "Build the training matrix per citizenship and fit a single model on pooled data."
   ]
  },
  {
   "cell_type": "code",
   "execution_count": null,
   "id": "0cfa6f2a",
   "metadata": {},
   "outputs": [],
   "source": [
    "# Prepare training set\n",
    "train_frames = []\n",
    "for eth, grp in train_panel.groupby(\"Citizenship\"):\n",
    "    train_frames.append(make_features(grp))\n",
    "train_df = pd.concat(train_frames, ignore_index=True)\n",
    "X_train = train_df[feature_cols]\n",
    "y_train = train_df[\"y\"]\n",
    "\n",
    "# Fit model\n",
    "model = RandomForestRegressor(n_estimators=RF_ESTIMATORS, random_state=RF_RANDOM_STATE)\n",
    "model.fit(X_train, y_train)"
   ]
  },
  {
   "cell_type": "markdown",
   "id": "124e0101",
   "metadata": {},
   "source": [
    "## 8. Walk‑Forward Validation\n",
    "For each citizenship, forecast the next 6 months rolling forward, compute Euclidean error."
   ]
  },
  {
   "cell_type": "code",
   "execution_count": null,
   "id": "9fcb2257",
   "metadata": {},
   "outputs": [],
   "source": [
    "# Validate\n",
    "val_preds = []\n",
    "for eth, grp in train_panel.groupby(\"Citizenship\"):\n",
    "    buf = grp[[\"ds\",\"y\"]].reset_index(drop=True)\n",
    "    future_dates = pd.date_range(start=cutoff+offset, periods=HORIZON, freq=FREQ)\n",
    "    for dt in future_dates:\n",
    "        feats = make_features(buf).iloc[[-1]][feature_cols]\n",
    "        y_pred = model.predict(feats)[0]\n",
    "        actual = val_panel[(val_panel.Citizenship==eth)&(val_panel.ds==dt)][\"y\"]\n",
    "        y_true = actual.iloc[0] if not actual.empty else np.nan\n",
    "        val_preds.append({\"Citizenship\":eth,\"ds\":dt,\"y_true\":y_true,\"y_pred\":y_pred})\n",
    "        buf = pd.concat([buf,pd.DataFrame([{\"ds\":dt,\"y\":y_true}])],ignore_index=True)\n",
    "\n",
    "val_df = pd.DataFrame(val_preds).dropna(subset=[\"y_true\"])\n",
    "mse = mean_squared_error(val_df[\"y_true\"], val_df[\"y_pred\"])\n",
    "print(f\"Validation MSE: {mse:.2f}\")\n",
    "\n",
    "mean_y = val_df[\"y_true\"].mean()\n",
    "std_y  = val_df[\"y_true\"].std()\n",
    "print(f\"Mean true arrests/month: {mean_y:.1f}  (±{std_y:.1f})\")\n",
    "print(f\"Model   RMSE: {np.sqrt(mse):.1f}\")\n",
    "\n",
    "\n",
    "from sklearn.metrics import mean_squared_error\n",
    "\n",
    "# build naive: predict “y_t = y_{t-1}” -- needed to compare with naive approach to see if our model had any sort of sway\n",
    "naive_preds = []\n",
    "for eth, grp in train_panel.groupby(\"Citizenship\"):\n",
    "    buf = grp[[\"ds\",\"y\"]].reset_index(drop=True)\n",
    "    future_dates = pd.date_range(start=cutoff+offset, periods=HORIZON, freq=FREQ)\n",
    "    for dt in future_dates:\n",
    "        y_prev = buf[\"y\"].iloc[-1]\n",
    "        naive_preds.append({\"Citizenship\": eth, \"ds\": dt, \"y_naive\": y_prev})\n",
    "        # append the true future so the next step has the real last value\n",
    "        actual = val_panel[(val_panel.Citizenship==eth)&(val_panel.ds==dt)][\"y\"].iloc[0]\n",
    "\n",
    "naive_df = pd.DataFrame(naive_preds)\n",
    "rmse_naive = mean_squared_error(val_df[\"y_true\"], naive_df[\"y_naive\"])\n",
    "print(f\"Naïve RMSE: {rmse_naive:.1f}\")\n",
    "print(f\"Your RMSE:  {np.sqrt(mse):.1f}\")"
   ]
  },
  {
   "cell_type": "markdown",
   "id": "7912acd3",
   "metadata": {},
   "source": [
    "# Naive Comparison \n",
    "1− (6629 / 82) ≈0.988\n",
    "\n",
    "Compared to the Naive approach, our approach has a ~98.8% reduction in error. "
   ]
  },
  {
   "cell_type": "markdown",
   "id": "43b55ad5",
   "metadata": {},
   "source": [
    "## 9. Forecast Next 12 Months\n",
    "Roll forward each series 12 months to generate future predictions."
   ]
  },
  {
   "cell_type": "code",
   "execution_count": null,
   "id": "493b4aa6",
   "metadata": {},
   "outputs": [],
   "source": [
    "# Future forecast\n",
    "FUTURE_HORIZON = 12\n",
    "future_preds = []\n",
    "for eth in eths:\n",
    "    buf = panel[panel.Citizenship==eth][[\"ds\",\"y\"]].reset_index(drop=True)\n",
    "    future_dates = pd.date_range(start=panel.ds.max()+offset, periods=FUTURE_HORIZON, freq=FREQ)\n",
    "    for dt in future_dates:\n",
    "        feats = make_features(buf).iloc[[-1]][feature_cols]\n",
    "        y_fore = model.predict(feats)[0]\n",
    "        future_preds.append({\"Citizenship\":eth,\"ds\":dt,\"y_pred\":y_fore})\n",
    "        buf = pd.concat([buf,pd.DataFrame([{\"ds\":dt,\"y\":y_fore}])],ignore_index=True)\n",
    "\n",
    "future_df = pd.DataFrame(future_preds)"
   ]
  },
  {
   "cell_type": "markdown",
   "id": "37302904",
   "metadata": {},
   "source": [
    "## 10. Plot Forecasts\n",
    "Visualize the 12‑month forecast for the top 5 citizenships and for all citizenships."
   ]
  },
  {
   "cell_type": "code",
   "execution_count": null,
   "id": "993c86b1",
   "metadata": {},
   "outputs": [],
   "source": [
    "# Top 5 forecast\n",
    "recent = panel[panel.ds > panel.ds.max() - 6*offset]\n",
    "top5 = recent.groupby(\"Citizenship\")[\"y\"].sum().nlargest(5).index\n",
    "fig1 = px.line(future_df[future_df.Citizenship.isin(top5)], x=\"ds\", y=\"y_pred\", color=\"Citizenship\",\n",
    "               title=\"12‑Month Forecast (Top 5)\")\n",
    "fig1.update_layout(xaxis_tickangle=-45)\n",
    "fig1.show()\n",
    "\n",
    "# All citizenships small multiples\n",
    "fig2 = px.line(future_df, x=\"ds\", y=\"y_pred\", facet_col=\"Citizenship\", facet_col_wrap=4, height=1500,\n",
    "               title=\"12‑Month Forecast (All Citizenship)\")\n",
    "for anno in fig2.layout.annotations:\n",
    "    anno.text = anno.text.split(\"=\")[-1]\n",
    "fig2.update_xaxes(tickangle=-45)\n",
    "fig2.update_layout(showlegend=False)\n",
    "\n",
    "fig2.show()"
   ]
  }
 ],
 "metadata": {
  "kernelspec": {
   "display_name": ".venv",
   "language": "python",
   "name": "python3"
  },
  "language_info": {
   "codemirror_mode": {
    "name": "ipython",
    "version": 3
   },
   "file_extension": ".py",
   "mimetype": "text/x-python",
   "name": "python",
   "nbconvert_exporter": "python",
   "pygments_lexer": "ipython3",
   "version": "3.13.3"
  }
 },
 "nbformat": 4,
 "nbformat_minor": 5
}
