{
 "cells": [
  {
   "cell_type": "markdown",
   "metadata": {},
   "source": [
    "# Imports"
   ]
  },
  {
   "cell_type": "code",
   "execution_count": 4,
   "metadata": {},
   "outputs": [],
   "source": [
    "# ensure that our src is importable\n",
    "import sys\n",
    "import os\n",
    "import pickle\n",
    "sys.path.append(os.path.abspath(\"../src\"))\n",
    "\n",
    "import pandas as pd\n",
    "from pandas import DataFrame\n",
    "import cs506_final_project.ice_modeling as im\n",
    "from cs506_final_project.process import csv_to_df, aor_to_longitude, arrests_in_aor_by_month_year\n",
    "from cs506_final_project.visualization import arrest_density_bubble_mapped"
   ]
  },
  {
   "cell_type": "markdown",
   "metadata": {},
   "source": [
    "# Preprocessing\n",
    "Here, we perform some preprocessing steps to prepare the data for modeling and/or visualization.  "
   ]
  },
  {
   "cell_type": "code",
   "execution_count": 5,
   "metadata": {},
   "outputs": [
    {
     "name": "stderr",
     "output_type": "stream",
     "text": [
      "/home/layne/school/cs506/final-project/src/cs506_final_project/process.py:55: SettingWithCopyWarning:\n",
      "\n",
      "\n",
      "A value is trying to be set on a copy of a slice from a DataFrame.\n",
      "Try using .loc[row_indexer,col_indexer] = value instead\n",
      "\n",
      "See the caveats in the documentation: https://pandas.pydata.org/pandas-docs/stable/user_guide/indexing.html#returning-a-view-versus-a-copy\n",
      "\n",
      "/home/layne/school/cs506/final-project/src/cs506_final_project/process.py:55: SettingWithCopyWarning:\n",
      "\n",
      "\n",
      "A value is trying to be set on a copy of a slice from a DataFrame.\n",
      "Try using .loc[row_indexer,col_indexer] = value instead\n",
      "\n",
      "See the caveats in the documentation: https://pandas.pydata.org/pandas-docs/stable/user_guide/indexing.html#returning-a-view-versus-a-copy\n",
      "\n"
     ]
    }
   ],
   "source": [
    "# fpath: str = \"../data/raw/ICE_data.csv\"\n",
    "# df: DataFrame = csv_to_df(fpath) # load the statistics from ICE into a dataframe with some transformations\n",
    "# df.to_pickle(\"../data/processed/ICE_data.pkl\")\n",
    "fpath: str = \"../data/processed/ICE_data.pkl\"\n",
    "df = pd.read_pickle(fpath)\n",
    "\n",
    "df.head()\n",
    "\n",
    "\n",
    "# query the OpenStreetMap API to add the latitude and longitude for each Area of Responsibility \n",
    "# results for each AOR are cached to reduce the number of calls, but it is still a slow process due to rate limits\n",
    "df = aor_to_longitude(df) "
   ]
  },
  {
   "cell_type": "markdown",
   "metadata": {},
   "source": [
    "# Early Visualization\n",
    "After performing early preprocessing tasks, we wanted to develop an understanding of the ICE data from a few different angles. "
   ]
  },
  {
   "cell_type": "markdown",
   "metadata": {},
   "source": [
    "## Density of Arrests throughout the US, over time\n",
    "Before analyzing the extent of (ethnic) demographic bias, we focused on a chronological view of arrests in the aggregate without respect to factors like country of citizenship and criminality."
   ]
  },
  {
   "cell_type": "code",
   "execution_count": null,
   "metadata": {},
   "outputs": [
    {
     "data": {
      "application/vnd.plotly.v1+json": {
       "config": {
        "plotlyServerURL": "https://plot.ly"
       },
       "data": [
        {
         "customdata": {
          "bdata": "M+PIXkrNR0DA6V28H5VewAAAAAAAgFJA4qar4FxjQED6h+Ov/zJYwAAAAAAAuI1A48+m2fL5Q0CCQpg2d8pSwAAAAAAAAFhAkvWKXZF5RkCgSnJl9UVXwAAAAAAAAGNABOBEmbJsPUA1m8dhsJ9YwAAAAAAAQINAPCcH/ZbCP0ArdX+rK59awAAAAAAAYG1AY4+awL7jQkDC0Z9H1ppewAAAAAAAAGJA7Xmj+97fQEDCsogX+hhVwAAAAAAAoIJAaAkyAipeREDY2lYOCItSwAAAAAAAQFBAFNEKZxLwREB2O1aE9udVwAAAAAAAAHZAC4G3mzulQ0A2r+qsFidTwAAAAAAAAEJAWTikrDpbREDZ0ZONYoBSwAAAAAAAgEJA4cvpV98GQUArpWd6iY9dwAAAAAAAoGdAAOn27X9xRUDvA+uTN7hTwAAAAAAAADZAzTqIQnAqRUA+y5gn/MJUwAAAAAAAQGBAtlvckJByQ0AVWjG3VkJTwAAAAAAAAFhAsT7UbNRbQEAXLUDbakpdwAAAAAAAQFRAY68cxknCPUDA9KxaiNdXwAAAAAAA8INAwGmwX2a5QEC8kuS5vgRcwAAAAAAAQG9AcTK7ODthREA4TDRIwfhbwAAAAAAA4GZA53NJMDDGOUB/9iNFZAxUwAAAAAAAwHpAowFhTJ/eQ0CvRKD6Bz9awAAAAAAAgFNAnHNLBtv5PUBwKNdvAYVWwAAAAAAAUHdA+3N2134tRUAXg4dp38NRwAAAAAAAACRA",
          "dtype": "f8",
          "shape": "24, 3"
         },
         "hovertemplate": "<b>%{hovertext}</b><br><br>Month-Year=Oct 2020<br>Arrests=%{marker.color}<extra></extra>",
         "hovertext": [
          "Seattle",
          "Dallas",
          "Philadelphia",
          "St. Paul",
          "San Antonio",
          "El Paso",
          "San Francisco",
          "Atlanta",
          "Newark",
          "Chicago",
          "Baltimore",
          "New York City",
          "Los Angeles",
          "Buffalo",
          "Detroit",
          "Washington DC",
          "San Diego",
          "Houston",
          "Phoenix",
          "Salt Lake City",
          "Miami",
          "Denver",
          "New Orleans",
          "Boston"
         ],
         "lat": {
          "bdata": "M+PIXkrNR0DipqvgXGNAQOPPptny+UNAkvWKXZF5RkAE4ESZsmw9QDwnB/2Wwj9AY4+awL7jQkDteaP73t9AQGgJMgIqXkRAFNEKZxLwREALgbebO6VDQFk4pKw6W0RA4cvpV98GQUAA6fbtf3FFQM06iEJwKkVAtlvckJByQ0CxPtRs1FtAQGOvHMZJwj1AwGmwX2a5QEBxMrs4O2FEQOdzSTAwxjlAowFhTJ/eQ0Ccc0sG2/k9QPtzdtd+LUVA",
          "dtype": "f8"
         },
         "legendgroup": "",
         "lon": {
          "bdata": "wOldvB+VXsD6h+Ov/zJYwIJCmDZ3ylLAoEpyZfVFV8A1m8dhsJ9YwCt1f6srn1rAwtGfR9aaXsDCsogX+hhVwNjaVg4Ii1LAdjtWhPbnVcA2r+qsFidTwNnRk41igFLAK6VneomPXcDvA+uTN7hTwD7LmCf8wlTAFVoxt1ZCU8AXLUDbakpdwMD0rFqI11fAvJLkub4EXMA4TDRIwfhbwH/2I0VkDFTAr0Sg+gc/WsBwKNdvAYVWwBeDh2nfw1HA",
          "dtype": "f8"
         },
         "marker": {
          "color": {
           "bdata": "SgC3A2AAmABoAusAkABUAkEAYAEkACUAvQAWAIIAYABRAH4C+gC3AKwBTgB1AQoA",
           "dtype": "i2"
          },
          "coloraxis": "coloraxis",
          "size": {
           "bdata": "SgC3A2AAmABoAusAkABUAkEAYAEkACUAvQAWAIIAYABRAH4C+gC3AKwBTgB1AQoA",
           "dtype": "i2"
          },
          "sizemode": "area",
          "sizeref": 0.49207100591715974
         },
         "mode": "markers",
         "name": "",
         "showlegend": false,
         "subplot": "mapbox",
         "type": "scattermapbox"
        }
       ],
       "frames": [
        {
         "data": [
          {
           "customdata": {
            "bdata": "M+PIXkrNR0DA6V28H5VewAAAAAAAgFJA4qar4FxjQED6h+Ov/zJYwAAAAAAAuI1A48+m2fL5Q0CCQpg2d8pSwAAAAAAAAFhAkvWKXZF5RkCgSnJl9UVXwAAAAAAAAGNABOBEmbJsPUA1m8dhsJ9YwAAAAAAAQINAPCcH/ZbCP0ArdX+rK59awAAAAAAAYG1AY4+awL7jQkDC0Z9H1ppewAAAAAAAAGJA7Xmj+97fQEDCsogX+hhVwAAAAAAAoIJAaAkyAipeREDY2lYOCItSwAAAAAAAQFBAFNEKZxLwREB2O1aE9udVwAAAAAAAAHZAC4G3mzulQ0A2r+qsFidTwAAAAAAAAEJAWTikrDpbREDZ0ZONYoBSwAAAAAAAgEJA4cvpV98GQUArpWd6iY9dwAAAAAAAoGdAAOn27X9xRUDvA+uTN7hTwAAAAAAAADZAzTqIQnAqRUA+y5gn/MJUwAAAAAAAQGBAtlvckJByQ0AVWjG3VkJTwAAAAAAAAFhAsT7UbNRbQEAXLUDbakpdwAAAAAAAQFRAY68cxknCPUDA9KxaiNdXwAAAAAAA8INAwGmwX2a5QEC8kuS5vgRcwAAAAAAAQG9AcTK7ODthREA4TDRIwfhbwAAAAAAA4GZA53NJMDDGOUB/9iNFZAxUwAAAAAAAwHpAowFhTJ/eQ0CvRKD6Bz9awAAAAAAAgFNAnHNLBtv5PUBwKNdvAYVWwAAAAAAAUHdA+3N2134tRUAXg4dp38NRwAAAAAAAACRA",
            "dtype": "f8",
            "shape": "24, 3"
           },
           "hovertemplate": "<b>%{hovertext}</b><br><br>Month-Year=Oct 2020<br>Arrests=%{marker.color}<extra></extra>",
           "hovertext": [
            "Seattle",
            "Dallas",
            "Philadelphia",
            "St. Paul",
            "San Antonio",
            "El Paso",
            "San Francisco",
            "Atlanta",
            "Newark",
            "Chicago",
            "Baltimore",
            "New York City",
            "Los Angeles",
            "Buffalo",
            "Detroit",
            "Washington DC",
            "San Diego",
            "Houston",
            "Phoenix",
            "Salt Lake City",
            "Miami",
            "Denver",
            "New Orleans",
            "Boston"
           ],
           "lat": {
            "bdata": "M+PIXkrNR0DipqvgXGNAQOPPptny+UNAkvWKXZF5RkAE4ESZsmw9QDwnB/2Wwj9AY4+awL7jQkDteaP73t9AQGgJMgIqXkRAFNEKZxLwREALgbebO6VDQFk4pKw6W0RA4cvpV98GQUAA6fbtf3FFQM06iEJwKkVAtlvckJByQ0CxPtRs1FtAQGOvHMZJwj1AwGmwX2a5QEBxMrs4O2FEQOdzSTAwxjlAowFhTJ/eQ0Ccc0sG2/k9QPtzdtd+LUVA",
            "dtype": "f8"
           },
           "legendgroup": "",
           "lon": {
            "bdata": "wOldvB+VXsD6h+Ov/zJYwIJCmDZ3ylLAoEpyZfVFV8A1m8dhsJ9YwCt1f6srn1rAwtGfR9aaXsDCsogX+hhVwNjaVg4Ii1LAdjtWhPbnVcA2r+qsFidTwNnRk41igFLAK6VneomPXcDvA+uTN7hTwD7LmCf8wlTAFVoxt1ZCU8AXLUDbakpdwMD0rFqI11fAvJLkub4EXMA4TDRIwfhbwH/2I0VkDFTAr0Sg+gc/WsBwKNdvAYVWwBeDh2nfw1HA",
            "dtype": "f8"
           },
           "marker": {
            "color": {
             "bdata": "SgC3A2AAmABoAusAkABUAkEAYAEkACUAvQAWAIIAYABRAH4C+gC3AKwBTgB1AQoA",
             "dtype": "i2"
            },
            "coloraxis": "coloraxis",
            "size": {
             "bdata": "SgC3A2AAmABoAusAkABUAkEAYAEkACUAvQAWAIIAYABRAH4C+gC3AKwBTgB1AQoA",
             "dtype": "i2"
            },
            "sizemode": "area",
            "sizeref": 0.49207100591715974
           },
           "mode": "markers",
           "name": "",
           "showlegend": false,
           "subplot": "mapbox",
           "type": "scattermapbox"
          }
         ],
         "name": "Oct 2020"
        },
        {
         "data": [
          {
           "customdata": {
            "bdata": "C4G3mzulQ0A2r+qsFidTwAAAAAAAAChAsT7UbNRbQEAXLUDbakpdwAAAAAAAgFNAaAkyAipeREDY2lYOCItSwAAAAAAAwFNAtlvckJByQ0AVWjG3VkJTwAAAAAAAgGBA7Xmj+97fQEDCsogX+hhVwAAAAAAAYH9AnHNLBtv5PUBwKNdvAYVWwAAAAAAAIHBAPCcH/ZbCP0ArdX+rK59awAAAAAAA4GNAowFhTJ/eQ0CvRKD6Bz9awAAAAAAAgElAzTqIQnAqRUA+y5gn/MJUwAAAAAAAwFZA4qar4FxjQED6h+Ov/zJYwAAAAAAAYI1AcTK7ODthREA4TDRIwfhbwAAAAAAA4GNAAOn27X9xRUDvA+uTN7hTwAAAAAAAAC5AY68cxknCPUDA9KxaiNdXwAAAAAAAWIRAkvWKXZF5RkCgSnJl9UVXwAAAAAAAgF1A+3N2134tRUAXg4dp38NRwAAAAAAAADhA53NJMDDGOUB/9iNFZAxUwAAAAAAAgHlAwGmwX2a5QEC8kuS5vgRcwAAAAAAAMHFAFNEKZxLwREB2O1aE9udVwAAAAAAAMHFA4cvpV98GQUArpWd6iY9dwAAAAAAAIGVA48+m2fL5Q0CCQpg2d8pSwAAAAAAAwFpAM+PIXkrNR0DA6V28H5VewAAAAAAAAExABOBEmbJsPUA1m8dhsJ9YwAAAAAAAsH5AY4+awL7jQkDC0Z9H1ppewAAAAAAAoGBA",
            "dtype": "f8",
            "shape": "23, 3"
           },
           "hovertemplate": "<b>%{hovertext}</b><br><br>Month-Year=Nov 2020<br>Arrests=%{marker.color}<extra></extra>",
           "hovertext": [
            "Baltimore",
            "San Diego",
            "Newark",
            "Washington DC",
            "Atlanta",
            "New Orleans",
            "El Paso",
            "Denver",
            "Detroit",
            "Dallas",
            "Salt Lake City",
            "Buffalo",
            "Houston",
            "St. Paul",
            "Boston",
            "Miami",
            "Phoenix",
            "Chicago",
            "Los Angeles",
            "Philadelphia",
            "Seattle",
            "San Antonio",
            "San Francisco"
           ],
           "lat": {
            "bdata": "C4G3mzulQ0CxPtRs1FtAQGgJMgIqXkRAtlvckJByQ0DteaP73t9AQJxzSwbb+T1APCcH/ZbCP0CjAWFMn95DQM06iEJwKkVA4qar4FxjQEBxMrs4O2FEQADp9u1/cUVAY68cxknCPUCS9YpdkXlGQPtzdtd+LUVA53NJMDDGOUDAabBfZrlAQBTRCmcS8ERA4cvpV98GQUDjz6bZ8vlDQDPjyF5KzUdABOBEmbJsPUBjj5rAvuNCQA==",
            "dtype": "f8"
           },
           "legendgroup": "",
           "lon": {
            "bdata": "Nq/qrBYnU8AXLUDbakpdwNjaVg4Ii1LAFVoxt1ZCU8DCsogX+hhVwHAo128BhVbAK3V/qyufWsCvRKD6Bz9awD7LmCf8wlTA+ofjr/8yWMA4TDRIwfhbwO8D65M3uFPAwPSsWojXV8CgSnJl9UVXwBeDh2nfw1HAf/YjRWQMVMC8kuS5vgRcwHY7VoT251XAK6VneomPXcCCQpg2d8pSwMDpXbwflV7ANZvHYbCfWMDC0Z9H1ppewA==",
            "dtype": "f8"
           },
           "marker": {
            "color": {
             "bdata": "DABOAE8AhAD2AQIBnwAzAFsArAOfAA8AiwJ2ABgAmAETARMBqQBrADgA6wGFAA==",
             "dtype": "i2"
            },
            "coloraxis": "coloraxis",
            "size": {
             "bdata": "DABOAE8AhAD2AQIBnwAzAFsArAOfAA8AiwJ2ABgAmAETARMBqQBrADgA6wGFAA==",
             "dtype": "i2"
            },
            "sizemode": "area",
            "sizeref": 0.49207100591715974
           },
           "mode": "markers",
           "name": "",
           "showlegend": false,
           "subplot": "mapbox",
           "type": "scattermapbox"
          }
         ],
         "name": "Nov 2020"
        },
        {
         "data": [
          {
           "customdata": {
            "bdata": "aAkyAipeREDY2lYOCItSwAAAAAAAgEJA+3N2134tRUAXg4dp38NRwAAAAAAAACZAzTqIQnAqRUA+y5gn/MJUwAAAAAAAgFtAAOn27X9xRUDvA+uTN7hTwAAAAAAAADVABOBEmbJsPUA1m8dhsJ9YwAAAAAAAuIFAtlvckJByQ0AVWjG3VkJTwAAAAAAAYGFA4qar4FxjQED6h+Ov/zJYwAAAAAAASI1AkvWKXZF5RkCgSnJl9UVXwAAAAAAAgGBAFNEKZxLwREB2O1aE9udVwAAAAAAAoHNA48+m2fL5Q0CCQpg2d8pSwAAAAAAAgExAcTK7ODthREA4TDRIwfhbwAAAAAAAoGJAwGmwX2a5QEC8kuS5vgRcwAAAAAAAMHFAowFhTJ/eQ0CvRKD6Bz9awAAAAAAAAElAsT7UbNRbQEAXLUDbakpdwAAAAAAAgEhA4cvpV98GQUArpWd6iY9dwAAAAAAAYGdAY68cxknCPUDA9KxaiNdXwAAAAAAAOIRA53NJMDDGOUB/9iNFZAxUwAAAAAAAcHpAY4+awL7jQkDC0Z9H1ppewAAAAAAAgF9AM+PIXkrNR0DA6V28H5VewAAAAAAAAEpAWTikrDpbREDZ0ZONYoBSwAAAAAAAACRA7Xmj+97fQEDCsogX+hhVwAAAAAAAwIBAPCcH/ZbCP0ArdX+rK59awAAAAAAAAGlAnHNLBtv5PUBwKNdvAYVWwAAAAAAAMHFA",
            "dtype": "f8",
            "shape": "23, 3"
           },
           "hovertemplate": "<b>%{hovertext}</b><br><br>Month-Year=Dec 2020<br>Arrests=%{marker.color}<extra></extra>",
           "hovertext": [
            "Newark",
            "Boston",
            "Detroit",
            "Buffalo",
            "San Antonio",
            "Washington DC",
            "Dallas",
            "St. Paul",
            "Chicago",
            "Philadelphia",
            "Salt Lake City",
            "Phoenix",
            "Denver",
            "San Diego",
            "Los Angeles",
            "Houston",
            "Miami",
            "San Francisco",
            "Seattle",
            "New York City",
            "Atlanta",
            "El Paso",
            "New Orleans"
           ],
           "lat": {
            "bdata": "aAkyAipeRED7c3bXfi1FQM06iEJwKkVAAOn27X9xRUAE4ESZsmw9QLZb3JCQckNA4qar4FxjQECS9YpdkXlGQBTRCmcS8ERA48+m2fL5Q0BxMrs4O2FEQMBpsF9muUBAowFhTJ/eQ0CxPtRs1FtAQOHL6VffBkFAY68cxknCPUDnc0kwMMY5QGOPmsC+40JAM+PIXkrNR0BZOKSsOltEQO15o/ve30BAPCcH/ZbCP0Ccc0sG2/k9QA==",
            "dtype": "f8"
           },
           "legendgroup": "",
           "lon": {
            "bdata": "2NpWDgiLUsAXg4dp38NRwD7LmCf8wlTA7wPrkze4U8A1m8dhsJ9YwBVaMbdWQlPA+ofjr/8yWMCgSnJl9UVXwHY7VoT251XAgkKYNnfKUsA4TDRIwfhbwLyS5Lm+BFzAr0Sg+gc/WsAXLUDbakpdwCulZ3qJj13AwPSsWojXV8B/9iNFZAxUwMLRn0fWml7AwOldvB+VXsDZ0ZONYoBSwMKyiBf6GFXAK3V/qyufWsBwKNdvAYVWwA==",
            "dtype": "f8"
           },
           "marker": {
            "color": {
             "bdata": "JQALAG4AFQA3AosAqQOEADoBOQCVABMBMgAxALsAhwKnAX4ANAAKABgCyAATAQ==",
             "dtype": "i2"
            },
            "coloraxis": "coloraxis",
            "size": {
             "bdata": "JQALAG4AFQA3AosAqQOEADoBOQCVABMBMgAxALsAhwKnAX4ANAAKABgCyAATAQ==",
             "dtype": "i2"
            },
            "sizemode": "area",
            "sizeref": 0.49207100591715974
           },
           "mode": "markers",
           "name": "",
           "showlegend": false,
           "subplot": "mapbox",
           "type": "scattermapbox"
          }
         ],
         "name": "Dec 2020"
        },
        {
         "data": [
          {
           "customdata": {
            "bdata": "+3N2134tRUAXg4dp38NRwAAAAAAAAC5AowFhTJ/eQ0CvRKD6Bz9awAAAAAAAgERAnHNLBtv5PUBwKNdvAYVWwAAAAAAA4GxA48+m2fL5Q0CCQpg2d8pSwAAAAAAAAFZAsT7UbNRbQEAXLUDbakpdwAAAAAAAgEpAC4G3mzulQ0A2r+qsFidTwAAAAAAAACZAtlvckJByQ0AVWjG3VkJTwAAAAAAAAFVA53NJMDDGOUB/9iNFZAxUwAAAAAAAwHRA7Xmj+97fQEDCsogX+hhVwAAAAAAAUHhA4qar4FxjQED6h+Ov/zJYwAAAAAAAOIdAY68cxknCPUDA9KxaiNdXwAAAAAAAOIZAFNEKZxLwREB2O1aE9udVwAAAAAAAYHRAcTK7ODthREA4TDRIwfhbwAAAAAAAIGFAwGmwX2a5QEC8kuS5vgRcwAAAAAAAAG1ABOBEmbJsPUA1m8dhsJ9YwAAAAAAAAIBAaAkyAipeREDY2lYOCItSwAAAAAAAAC5AkvWKXZF5RkCgSnJl9UVXwAAAAAAA4GBAY4+awL7jQkDC0Z9H1ppewAAAAAAAgFpAM+PIXkrNR0DA6V28H5VewAAAAAAAAEdAzTqIQnAqRUA+y5gn/MJUwAAAAAAAQFRAPCcH/ZbCP0ArdX+rK59awAAAAAAAAGxA4cvpV98GQUArpWd6iY9dwAAAAAAAQFpA",
            "dtype": "f8",
            "shape": "22, 3"
           },
           "hovertemplate": "<b>%{hovertext}</b><br><br>Month-Year=Jan 2021<br>Arrests=%{marker.color}<extra></extra>",
           "hovertext": [
            "Boston",
            "Denver",
            "New Orleans",
            "Philadelphia",
            "San Diego",
            "Baltimore",
            "Washington DC",
            "Miami",
            "Atlanta",
            "Dallas",
            "Houston",
            "Chicago",
            "Salt Lake City",
            "Phoenix",
            "San Antonio",
            "Newark",
            "St. Paul",
            "San Francisco",
            "Seattle",
            "Detroit",
            "El Paso",
            "Los Angeles"
           ],
           "lat": {
            "bdata": "+3N2134tRUCjAWFMn95DQJxzSwbb+T1A48+m2fL5Q0CxPtRs1FtAQAuBt5s7pUNAtlvckJByQ0Dnc0kwMMY5QO15o/ve30BA4qar4FxjQEBjrxzGScI9QBTRCmcS8ERAcTK7ODthREDAabBfZrlAQATgRJmybD1AaAkyAipeRECS9YpdkXlGQGOPmsC+40JAM+PIXkrNR0DNOohCcCpFQDwnB/2Wwj9A4cvpV98GQUA=",
            "dtype": "f8"
           },
           "legendgroup": "",
           "lon": {
            "bdata": "F4OHad/DUcCvRKD6Bz9awHAo128BhVbAgkKYNnfKUsAXLUDbakpdwDav6qwWJ1PAFVoxt1ZCU8B/9iNFZAxUwMKyiBf6GFXA+ofjr/8yWMDA9KxaiNdXwHY7VoT251XAOEw0SMH4W8C8kuS5vgRcwDWbx2Gwn1jA2NpWDgiLUsCgSnJl9UVXwMLRn0fWml7AwOldvB+VXsA+y5gn/MJUwCt1f6srn1rAK6VneomPXcA=",
            "dtype": "f8"
           },
           "marker": {
            "color": {
             "bdata": "DwApAOcAWAA1AAsAVABMAYUB5wLHAkYBiQDoAAACDwCHAGoALgBRAOAAaQA=",
             "dtype": "i2"
            },
            "coloraxis": "coloraxis",
            "size": {
             "bdata": "DwApAOcAWAA1AAsAVABMAYUB5wLHAkYBiQDoAAACDwCHAGoALgBRAOAAaQA=",
             "dtype": "i2"
            },
            "sizemode": "area",
            "sizeref": 0.49207100591715974
           },
           "mode": "markers",
           "name": "",
           "showlegend": false,
           "subplot": "mapbox",
           "type": "scattermapbox"
          }
         ],
         "name": "Jan 2021"
        },
        {
         "data": [
          {
           "customdata": {
            "bdata": "Y4+awL7jQkDC0Z9H1ppewAAAAAAAQFBA4cvpV98GQUArpWd6iY9dwAAAAAAAAExAM+PIXkrNR0DA6V28H5VewAAAAAAAgEVA+3N2134tRUAXg4dp38NRwAAAAAAAACRA53NJMDDGOUB/9iNFZAxUwAAAAAAAAFNA4qar4FxjQED6h+Ov/zJYwAAAAAAAAG9AwGmwX2a5QEC8kuS5vgRcwAAAAAAAgFFAY68cxknCPUDA9KxaiNdXwAAAAAAAwGxAaAkyAipeREDY2lYOCItSwAAAAAAAACpAzTqIQnAqRUA+y5gn/MJUwAAAAAAAAEVAowFhTJ/eQ0CvRKD6Bz9awAAAAAAAACZAkvWKXZF5RkCgSnJl9UVXwAAAAAAAADhAPCcH/ZbCP0ArdX+rK59awAAAAAAAAF9A48+m2fL5Q0CCQpg2d8pSwAAAAAAAAEpAnHNLBtv5PUBwKNdvAYVWwAAAAAAAgFJAFNEKZxLwREB2O1aE9udVwAAAAAAAgExAcTK7ODthREA4TDRIwfhbwAAAAAAAAE5ABOBEmbJsPUA1m8dhsJ9YwAAAAAAAQGpAtlvckJByQ0AVWjG3VkJTwAAAAAAAgENA7Xmj+97fQEDCsogX+hhVwAAAAAAAwF5A",
            "dtype": "f8",
            "shape": "20, 3"
           },
           "hovertemplate": "<b>%{hovertext}</b><br><br>Month-Year=Feb 2021<br>Arrests=%{marker.color}<extra></extra>",
           "hovertext": [
            "San Francisco",
            "Los Angeles",
            "Seattle",
            "Boston",
            "Miami",
            "Dallas",
            "Phoenix",
            "Houston",
            "Newark",
            "Detroit",
            "Denver",
            "St. Paul",
            "El Paso",
            "Philadelphia",
            "New Orleans",
            "Chicago",
            "Salt Lake City",
            "San Antonio",
            "Washington DC",
            "Atlanta"
           ],
           "lat": {
            "bdata": "Y4+awL7jQkDhy+lX3wZBQDPjyF5KzUdA+3N2134tRUDnc0kwMMY5QOKmq+BcY0BAwGmwX2a5QEBjrxzGScI9QGgJMgIqXkRAzTqIQnAqRUCjAWFMn95DQJL1il2ReUZAPCcH/ZbCP0Djz6bZ8vlDQJxzSwbb+T1AFNEKZxLwREBxMrs4O2FEQATgRJmybD1AtlvckJByQ0DteaP73t9AQA==",
            "dtype": "f8"
           },
           "legendgroup": "",
           "lon": {
            "bdata": "wtGfR9aaXsArpWd6iY9dwMDpXbwflV7AF4OHad/DUcB/9iNFZAxUwPqH46//MljAvJLkub4EXMDA9KxaiNdXwNjaVg4Ii1LAPsuYJ/zCVMCvRKD6Bz9awKBKcmX1RVfAK3V/qyufWsCCQpg2d8pSwHAo128BhVbAdjtWhPbnVcA4TDRIwfhbwDWbx2Gwn1jAFVoxt1ZCU8DCsogX+hhVwA==",
            "dtype": "f8"
           },
           "marker": {
            "color": {
             "bdata": "QQA4ACsACgBMAPgARgDmAA0AKgALABgAfAA0AEoAOQA8ANIAJwB7AA==",
             "dtype": "i2"
            },
            "coloraxis": "coloraxis",
            "size": {
             "bdata": "QQA4ACsACgBMAPgARgDmAA0AKgALABgAfAA0AEoAOQA8ANIAJwB7AA==",
             "dtype": "i2"
            },
            "sizemode": "area",
            "sizeref": 0.49207100591715974
           },
           "mode": "markers",
           "name": "",
           "showlegend": false,
           "subplot": "mapbox",
           "type": "scattermapbox"
          }
         ],
         "name": "Feb 2021"
        },
        {
         "data": [
          {
           "customdata": {
            "bdata": "FNEKZxLwREB2O1aE9udVwAAAAAAAIHBAY68cxknCPUDA9KxaiNdXwAAAAAAAwGtA4cvpV98GQUArpWd6iY9dwAAAAAAAgFhAwGmwX2a5QEC8kuS5vgRcwAAAAAAAgEJAtlvckJByQ0AVWjG3VkJTwAAAAAAAAExAcTK7ODthREA4TDRIwfhbwAAAAAAAgEVABOBEmbJsPUA1m8dhsJ9YwAAAAAAAwFpAzTqIQnAqRUA+y5gn/MJUwAAAAAAAAE1AnHNLBtv5PUBwKNdvAYVWwAAAAAAAgExAPCcH/ZbCP0ArdX+rK59awAAAAAAAAEpAsT7UbNRbQEAXLUDbakpdwAAAAAAAADhAY4+awL7jQkDC0Z9H1ppewAAAAAAAgFZA48+m2fL5Q0CCQpg2d8pSwAAAAAAAAE1AaAkyAipeREDY2lYOCItSwAAAAAAAAChAM+PIXkrNR0DA6V28H5VewAAAAAAAgEJA53NJMDDGOUB/9iNFZAxUwAAAAAAAgFRA7Xmj+97fQEDCsogX+hhVwAAAAAAAwFNA4qar4FxjQED6h+Ov/zJYwAAAAAAAwG9A+3N2134tRUAXg4dp38NRwAAAAAAAACRAkvWKXZF5RkCgSnJl9UVXwAAAAAAAAD9AowFhTJ/eQ0CvRKD6Bz9awAAAAAAAAEBA",
            "dtype": "f8",
            "shape": "21, 3"
           },
           "hovertemplate": "<b>%{hovertext}</b><br><br>Month-Year=Mar 2021<br>Arrests=%{marker.color}<extra></extra>",
           "hovertext": [
            "Chicago",
            "Houston",
            "Los Angeles",
            "Phoenix",
            "Washington DC",
            "Salt Lake City",
            "San Antonio",
            "Detroit",
            "New Orleans",
            "El Paso",
            "San Diego",
            "San Francisco",
            "Philadelphia",
            "Newark",
            "Seattle",
            "Miami",
            "Atlanta",
            "Dallas",
            "Boston",
            "St. Paul",
            "Denver"
           ],
           "lat": {
            "bdata": "FNEKZxLwREBjrxzGScI9QOHL6VffBkFAwGmwX2a5QEC2W9yQkHJDQHEyuzg7YURABOBEmbJsPUDNOohCcCpFQJxzSwbb+T1APCcH/ZbCP0CxPtRs1FtAQGOPmsC+40JA48+m2fL5Q0BoCTICKl5EQDPjyF5KzUdA53NJMDDGOUDteaP73t9AQOKmq+BcY0BA+3N2134tRUCS9YpdkXlGQKMBYUyf3kNA",
            "dtype": "f8"
           },
           "legendgroup": "",
           "lon": {
            "bdata": "djtWhPbnVcDA9KxaiNdXwCulZ3qJj13AvJLkub4EXMAVWjG3VkJTwDhMNEjB+FvANZvHYbCfWMA+y5gn/MJUwHAo128BhVbAK3V/qyufWsAXLUDbakpdwMLRn0fWml7AgkKYNnfKUsDY2lYOCItSwMDpXbwflV7Af/YjRWQMVMDCsogX+hhVwPqH46//MljAF4OHad/DUcCgSnJl9UVXwK9EoPoHP1rA",
            "dtype": "f8"
           },
           "marker": {
            "color": {
             "bdata": "AgHeAGIAJQA4ACsAawA6ADkANAAYAFoAOgAMACUAUgBPAP4ACgAfACAA",
             "dtype": "i2"
            },
            "coloraxis": "coloraxis",
            "size": {
             "bdata": "AgHeAGIAJQA4ACsAawA6ADkANAAYAFoAOgAMACUAUgBPAP4ACgAfACAA",
             "dtype": "i2"
            },
            "sizemode": "area",
            "sizeref": 0.49207100591715974
           },
           "mode": "markers",
           "name": "",
           "showlegend": false,
           "subplot": "mapbox",
           "type": "scattermapbox"
          }
         ],
         "name": "Mar 2021"
        },
        {
         "data": [
          {
           "customdata": {
            "bdata": "WTikrDpbREDZ0ZONYoBSwAAAAAAAAERA4cvpV98GQUArpWd6iY9dwAAAAAAA4GVAtlvckJByQ0AVWjG3VkJTwAAAAAAAADdAPCcH/ZbCP0ArdX+rK59awAAAAAAAADxAaAkyAipeREDY2lYOCItSwAAAAAAAQFBAkvWKXZF5RkCgSnJl9UVXwAAAAAAAAERA48+m2fL5Q0CCQpg2d8pSwAAAAAAAgE1A4qar4FxjQED6h+Ov/zJYwAAAAAAAcH9AowFhTJ/eQ0CvRKD6Bz9awAAAAAAAgERAcTK7ODthREA4TDRIwfhbwAAAAAAAAEhAnHNLBtv5PUBwKNdvAYVWwAAAAAAAAFhAwGmwX2a5QEC8kuS5vgRcwAAAAAAAwFJAY68cxknCPUDA9KxaiNdXwAAAAAAAAHNA53NJMDDGOUB/9iNFZAxUwAAAAAAAYGJAFNEKZxLwREB2O1aE9udVwAAAAAAA4G1AzTqIQnAqRUA+y5gn/MJUwAAAAAAAAE9A7Xmj+97fQEDCsogX+hhVwAAAAAAAIGRAsT7UbNRbQEAXLUDbakpdwAAAAAAAADhABOBEmbJsPUA1m8dhsJ9YwAAAAAAAoGFAM+PIXkrNR0DA6V28H5VewAAAAAAAAERAC4G3mzulQ0A2r+qsFidTwAAAAAAAACRA+3N2134tRUAXg4dp38NRwAAAAAAAADRAY4+awL7jQkDC0Z9H1ppewAAAAAAAQGFA",
            "dtype": "f8",
            "shape": "23, 3"
           },
           "hovertemplate": "<b>%{hovertext}</b><br><br>Month-Year=Apr 2021<br>Arrests=%{marker.color}<extra></extra>",
           "hovertext": [
            "New York City",
            "Los Angeles",
            "Washington DC",
            "El Paso",
            "Newark",
            "St. Paul",
            "Philadelphia",
            "Dallas",
            "Denver",
            "Salt Lake City",
            "New Orleans",
            "Phoenix",
            "Houston",
            "Miami",
            "Chicago",
            "Detroit",
            "Atlanta",
            "San Diego",
            "San Antonio",
            "Seattle",
            "Baltimore",
            "Boston",
            "San Francisco"
           ],
           "lat": {
            "bdata": "WTikrDpbREDhy+lX3wZBQLZb3JCQckNAPCcH/ZbCP0BoCTICKl5EQJL1il2ReUZA48+m2fL5Q0DipqvgXGNAQKMBYUyf3kNAcTK7ODthRECcc0sG2/k9QMBpsF9muUBAY68cxknCPUDnc0kwMMY5QBTRCmcS8ERAzTqIQnAqRUDteaP73t9AQLE+1GzUW0BABOBEmbJsPUAz48heSs1HQAuBt5s7pUNA+3N2134tRUBjj5rAvuNCQA==",
            "dtype": "f8"
           },
           "legendgroup": "",
           "lon": {
            "bdata": "2dGTjWKAUsArpWd6iY9dwBVaMbdWQlPAK3V/qyufWsDY2lYOCItSwKBKcmX1RVfAgkKYNnfKUsD6h+Ov/zJYwK9EoPoHP1rAOEw0SMH4W8BwKNdvAYVWwLyS5Lm+BFzAwPSsWojXV8B/9iNFZAxUwHY7VoT251XAPsuYJ/zCVMDCsogX+hhVwBctQNtqSl3ANZvHYbCfWMDA6V28H5VewDav6qwWJ1PAF4OHad/DUcDC0Z9H1ppewA==",
            "dtype": "f8"
           },
           "marker": {
            "color": {
             "bdata": "KACvABcAHABBACgAOwD3ASkAMABgAEsAMAGTAO8APgChABgAjQAoAAoAFACKAA==",
             "dtype": "i2"
            },
            "coloraxis": "coloraxis",
            "size": {
             "bdata": "KACvABcAHABBACgAOwD3ASkAMABgAEsAMAGTAO8APgChABgAjQAoAAoAFACKAA==",
             "dtype": "i2"
            },
            "sizemode": "area",
            "sizeref": 0.49207100591715974
           },
           "mode": "markers",
           "name": "",
           "showlegend": false,
           "subplot": "mapbox",
           "type": "scattermapbox"
          }
         ],
         "name": "Apr 2021"
        },
        {
         "data": [
          {
           "customdata": {
            "bdata": "FNEKZxLwREB2O1aE9udVwAAAAAAAAHNAM+PIXkrNR0DA6V28H5VewAAAAAAAgF9AnHNLBtv5PUBwKNdvAYVWwAAAAAAAQF1AWTikrDpbREDZ0ZONYoBSwAAAAAAAgGxA53NJMDDGOUB/9iNFZAxUwAAAAAAAIG1A4cvpV98GQUArpWd6iY9dwAAAAAAAwGxAwGmwX2a5QEC8kuS5vgRcwAAAAAAAQFVA7Xmj+97fQEDCsogX+hhVwAAAAAAAEHlAowFhTJ/eQ0CvRKD6Bz9awAAAAAAAQFNAtlvckJByQ0AVWjG3VkJTwAAAAAAAADpAkvWKXZF5RkCgSnJl9UVXwAAAAAAAAEBAsT7UbNRbQEAXLUDbakpdwAAAAAAAADdAcTK7ODthREA4TDRIwfhbwAAAAAAAgEpA+3N2134tRUAXg4dp38NRwAAAAAAAgEpABOBEmbJsPUA1m8dhsJ9YwAAAAAAAgGNAAOn27X9xRUDvA+uTN7hTwAAAAAAAACRAaAkyAipeREDY2lYOCItSwAAAAAAAAGpA48+m2fL5Q0CCQpg2d8pSwAAAAAAAwFNAzTqIQnAqRUA+y5gn/MJUwAAAAAAAAFxAY68cxknCPUDA9KxaiNdXwAAAAAAAsHVA4qar4FxjQED6h+Ov/zJYwAAAAAAAkH5APCcH/ZbCP0ArdX+rK59awAAAAAAAAF9AY4+awL7jQkDC0Z9H1ppewAAAAAAAwFZA",
            "dtype": "f8",
            "shape": "23, 3"
           },
           "hovertemplate": "<b>%{hovertext}</b><br><br>Month-Year=May 2021<br>Arrests=%{marker.color}<extra></extra>",
           "hovertext": [
            "Chicago",
            "Seattle",
            "New Orleans",
            "New York City",
            "Miami",
            "Los Angeles",
            "Phoenix",
            "Atlanta",
            "Denver",
            "Washington DC",
            "St. Paul",
            "San Diego",
            "Salt Lake City",
            "Boston",
            "San Antonio",
            "Buffalo",
            "Newark",
            "Philadelphia",
            "Detroit",
            "Houston",
            "Dallas",
            "El Paso",
            "San Francisco"
           ],
           "lat": {
            "bdata": "FNEKZxLwREAz48heSs1HQJxzSwbb+T1AWTikrDpbREDnc0kwMMY5QOHL6VffBkFAwGmwX2a5QEDteaP73t9AQKMBYUyf3kNAtlvckJByQ0CS9YpdkXlGQLE+1GzUW0BAcTK7ODthRED7c3bXfi1FQATgRJmybD1AAOn27X9xRUBoCTICKl5EQOPPptny+UNAzTqIQnAqRUBjrxzGScI9QOKmq+BcY0BAPCcH/ZbCP0Bjj5rAvuNCQA==",
            "dtype": "f8"
           },
           "legendgroup": "",
           "lon": {
            "bdata": "djtWhPbnVcDA6V28H5VewHAo128BhVbA2dGTjWKAUsB/9iNFZAxUwCulZ3qJj13AvJLkub4EXMDCsogX+hhVwK9EoPoHP1rAFVoxt1ZCU8CgSnJl9UVXwBctQNtqSl3AOEw0SMH4W8AXg4dp38NRwDWbx2Gwn1jA7wPrkze4U8DY2lYOCItSwIJCmDZ3ylLAPsuYJ/zCVMDA9KxaiNdXwPqH46//MljAK3V/qyufWsDC0Z9H1ppewA==",
            "dtype": "f8"
           },
           "marker": {
            "color": {
             "bdata": "MAF+AHUA5ADpAOYAVQCRAU0AGgAgABcANQA1AJwACgDQAE8AcABbAekBfABbAA==",
             "dtype": "i2"
            },
            "coloraxis": "coloraxis",
            "size": {
             "bdata": "MAF+AHUA5ADpAOYAVQCRAU0AGgAgABcANQA1AJwACgDQAE8AcABbAekBfABbAA==",
             "dtype": "i2"
            },
            "sizemode": "area",
            "sizeref": 0.49207100591715974
           },
           "mode": "markers",
           "name": "",
           "showlegend": false,
           "subplot": "mapbox",
           "type": "scattermapbox"
          }
         ],
         "name": "May 2021"
        },
        {
         "data": [
          {
           "customdata": {
            "bdata": "7Xmj+97fQEDCsogX+hhVwAAAAAAAwH9A+3N2134tRUAXg4dp38NRwAAAAAAAAFZAsT7UbNRbQEAXLUDbakpdwAAAAAAAAD1A48+m2fL5Q0CCQpg2d8pSwAAAAAAAAFZAwGmwX2a5QEC8kuS5vgRcwAAAAAAAwF1AY4+awL7jQkDC0Z9H1ppewAAAAAAAwGBA53NJMDDGOUB/9iNFZAxUwAAAAAAAsHVAzTqIQnAqRUA+y5gn/MJUwAAAAAAAgFxAFNEKZxLwREB2O1aE9udVwAAAAAAAmIBAkvWKXZF5RkCgSnJl9UVXwAAAAAAAgFZAPCcH/ZbCP0ArdX+rK59awAAAAAAAgEdA4qar4FxjQED6h+Ov/zJYwAAAAAAAqItABOBEmbJsPUA1m8dhsJ9YwAAAAAAAgGVAaAkyAipeREDY2lYOCItSwAAAAAAAQHlAAOn27X9xRUDvA+uTN7hTwAAAAAAAADtA4cvpV98GQUArpWd6iY9dwAAAAAAAwHNAcTK7ODthREA4TDRIwfhbwAAAAAAA4GRAY68cxknCPUDA9KxaiNdXwAAAAAAAsHpAWTikrDpbREDZ0ZONYoBSwAAAAAAAwIBAC4G3mzulQ0A2r+qsFidTwAAAAAAAADdAtlvckJByQ0AVWjG3VkJTwAAAAAAAADhAM+PIXkrNR0DA6V28H5VewAAAAAAAAH1AnHNLBtv5PUBwKNdvAYVWwAAAAAAAoHBAowFhTJ/eQ0CvRKD6Bz9awAAAAAAAQFdA",
            "dtype": "f8",
            "shape": "24, 3"
           },
           "hovertemplate": "<b>%{hovertext}</b><br><br>Month-Year=Jun 2021<br>Arrests=%{marker.color}<extra></extra>",
           "hovertext": [
            "Atlanta",
            "Boston",
            "San Diego",
            "Philadelphia",
            "Phoenix",
            "San Francisco",
            "Miami",
            "Detroit",
            "Chicago",
            "St. Paul",
            "El Paso",
            "Dallas",
            "San Antonio",
            "Newark",
            "Buffalo",
            "Los Angeles",
            "Salt Lake City",
            "Houston",
            "New York City",
            "Baltimore",
            "Washington DC",
            "Seattle",
            "New Orleans",
            "Denver"
           ],
           "lat": {
            "bdata": "7Xmj+97fQED7c3bXfi1FQLE+1GzUW0BA48+m2fL5Q0DAabBfZrlAQGOPmsC+40JA53NJMDDGOUDNOohCcCpFQBTRCmcS8ERAkvWKXZF5RkA8Jwf9lsI/QOKmq+BcY0BABOBEmbJsPUBoCTICKl5EQADp9u1/cUVA4cvpV98GQUBxMrs4O2FEQGOvHMZJwj1AWTikrDpbREALgbebO6VDQLZb3JCQckNAM+PIXkrNR0Ccc0sG2/k9QKMBYUyf3kNA",
            "dtype": "f8"
           },
           "legendgroup": "",
           "lon": {
            "bdata": "wrKIF/oYVcAXg4dp38NRwBctQNtqSl3AgkKYNnfKUsC8kuS5vgRcwMLRn0fWml7Af/YjRWQMVMA+y5gn/MJUwHY7VoT251XAoEpyZfVFV8ArdX+rK59awPqH46//MljANZvHYbCfWMDY2lYOCItSwO8D65M3uFPAK6VneomPXcA4TDRIwfhbwMD0rFqI11fA2dGTjWKAUsA2r+qsFidTwBVaMbdWQlPAwOldvB+VXsBwKNdvAYVWwK9EoPoHP1rA",
            "dtype": "f8"
           },
           "marker": {
            "color": {
             "bdata": "/AFYAB0AWAB3AIYAWwFyABMCWgAvAHUDrACUARsAPAGnAKsBGAIXABgA0AEKAV0A",
             "dtype": "i2"
            },
            "coloraxis": "coloraxis",
            "size": {
             "bdata": "/AFYAB0AWAB3AIYAWwFyABMCWgAvAHUDrACUARsAPAGnAKsBGAIXABgA0AEKAV0A",
             "dtype": "i2"
            },
            "sizemode": "area",
            "sizeref": 0.49207100591715974
           },
           "mode": "markers",
           "name": "",
           "showlegend": false,
           "subplot": "mapbox",
           "type": "scattermapbox"
          }
         ],
         "name": "Jun 2021"
        },
        {
         "data": [
          {
           "customdata": {
            "bdata": "53NJMDDGOUB/9iNFZAxUwAAAAAAAEHRAnHNLBtv5PUBwKNdvAYVWwAAAAAAA4G9A48+m2fL5Q0CCQpg2d8pSwAAAAAAAQFxAAOn27X9xRUDvA+uTN7hTwAAAAAAAACZAwGmwX2a5QEC8kuS5vgRcwAAAAAAAYGlAWTikrDpbREDZ0ZONYoBSwAAAAAAAUIVA4cvpV98GQUArpWd6iY9dwAAAAAAAwHNAM+PIXkrNR0DA6V28H5VewAAAAAAAQG9AsT7UbNRbQEAXLUDbakpdwAAAAAAAADRAaAkyAipeREDY2lYOCItSwAAAAAAAMHpAFNEKZxLwREB2O1aE9udVwAAAAAAA0IBAY4+awL7jQkDC0Z9H1ppewAAAAAAAwGNAY68cxknCPUDA9KxaiNdXwAAAAAAAMHtAowFhTJ/eQ0CvRKD6Bz9awAAAAAAAQFpA4qar4FxjQED6h+Ov/zJYwAAAAAAAYIZAzTqIQnAqRUA+y5gn/MJUwAAAAAAAIGFAkvWKXZF5RkCgSnJl9UVXwAAAAAAAQGJAtlvckJByQ0AVWjG3VkJTwAAAAAAAAD5AcTK7ODthREA4TDRIwfhbwAAAAAAA4GBAPCcH/ZbCP0ArdX+rK59awAAAAAAAgExA7Xmj+97fQEDCsogX+hhVwAAAAAAAIHtABOBEmbJsPUA1m8dhsJ9YwAAAAAAAYGNAC4G3mzulQ0A2r+qsFidTwAAAAAAAADZA+3N2134tRUAXg4dp38NRwAAAAAAAoGRA",
            "dtype": "f8",
            "shape": "24, 3"
           },
           "hovertemplate": "<b>%{hovertext}</b><br><br>Month-Year=Jul 2021<br>Arrests=%{marker.color}<extra></extra>",
           "hovertext": [
            "Miami",
            "New Orleans",
            "Philadelphia",
            "Buffalo",
            "Phoenix",
            "New York City",
            "Los Angeles",
            "Seattle",
            "San Diego",
            "Newark",
            "Chicago",
            "San Francisco",
            "Houston",
            "Denver",
            "Dallas",
            "Detroit",
            "St. Paul",
            "Washington DC",
            "Salt Lake City",
            "El Paso",
            "Atlanta",
            "San Antonio",
            "Baltimore",
            "Boston"
           ],
           "lat": {
            "bdata": "53NJMDDGOUCcc0sG2/k9QOPPptny+UNAAOn27X9xRUDAabBfZrlAQFk4pKw6W0RA4cvpV98GQUAz48heSs1HQLE+1GzUW0BAaAkyAipeREAU0QpnEvBEQGOPmsC+40JAY68cxknCPUCjAWFMn95DQOKmq+BcY0BAzTqIQnAqRUCS9YpdkXlGQLZb3JCQckNAcTK7ODthREA8Jwf9lsI/QO15o/ve30BABOBEmbJsPUALgbebO6VDQPtzdtd+LUVA",
            "dtype": "f8"
           },
           "legendgroup": "",
           "lon": {
            "bdata": "f/YjRWQMVMBwKNdvAYVWwIJCmDZ3ylLA7wPrkze4U8C8kuS5vgRcwNnRk41igFLAK6VneomPXcDA6V28H5VewBctQNtqSl3A2NpWDgiLUsB2O1aE9udVwMLRn0fWml7AwPSsWojXV8CvRKD6Bz9awPqH46//MljAPsuYJ/zCVMCgSnJl9UVXwBVaMbdWQlPAOEw0SMH4W8ArdX+rK59awMKyiBf6GFXANZvHYbCfWMA2r+qsFidTwBeDh2nfw1HA",
            "dtype": "f8"
           },
           "marker": {
            "color": {
             "bdata": "QQH/AHEACwDLAKoCPAH6ABQAowEaAp4AswFpAMwCiQCSAB4AhwA5ALIBmwAWAKUA",
             "dtype": "i2"
            },
            "coloraxis": "coloraxis",
            "size": {
             "bdata": "QQH/AHEACwDLAKoCPAH6ABQAowEaAp4AswFpAMwCiQCSAB4AhwA5ALIBmwAWAKUA",
             "dtype": "i2"
            },
            "sizemode": "area",
            "sizeref": 0.49207100591715974
           },
           "mode": "markers",
           "name": "",
           "showlegend": false,
           "subplot": "mapbox",
           "type": "scattermapbox"
          }
         ],
         "name": "Jul 2021"
        },
        {
         "data": [
          {
           "customdata": {
            "bdata": "wGmwX2a5QEC8kuS5vgRcwAAAAAAAQGZAkvWKXZF5RkCgSnJl9UVXwAAAAAAA4GdAPCcH/ZbCP0ArdX+rK59awAAAAAAAAFZAWTikrDpbREDZ0ZONYoBSwAAAAAAA+IRAC4G3mzulQ0A2r+qsFidTwAAAAAAAAEJAsT7UbNRbQEAXLUDbakpdwAAAAAAAADBAY68cxknCPUDA9KxaiNdXwAAAAAAAwIBAFNEKZxLwREB2O1aE9udVwAAAAAAAUIRAzTqIQnAqRUA+y5gn/MJUwAAAAAAAQGtA53NJMDDGOUB/9iNFZAxUwAAAAAAAYGBABOBEmbJsPUA1m8dhsJ9YwAAAAAAAYHBA+3N2134tRUAXg4dp38NRwAAAAAAAoG5AaAkyAipeREDY2lYOCItSwAAAAAAAqIhAcTK7ODthREA4TDRIwfhbwAAAAAAAgF5AM+PIXkrNR0DA6V28H5VewAAAAAAAoGVAAOn27X9xRUDvA+uTN7hTwAAAAAAAACpA48+m2fL5Q0CCQpg2d8pSwAAAAAAAAFtA4cvpV98GQUArpWd6iY9dwAAAAAAAMHhAY4+awL7jQkDC0Z9H1ppewAAAAAAAYG1AtlvckJByQ0AVWjG3VkJTwAAAAAAAADtAnHNLBtv5PUBwKNdvAYVWwAAAAAAAoHlA4qar4FxjQED6h+Ov/zJYwAAAAAAAkIFAowFhTJ/eQ0CvRKD6Bz9awAAAAAAAAGVA7Xmj+97fQEDCsogX+hhVwAAAAAAAmIFA",
            "dtype": "f8",
            "shape": "24, 3"
           },
           "hovertemplate": "<b>%{hovertext}</b><br><br>Month-Year=Aug 2021<br>Arrests=%{marker.color}<extra></extra>",
           "hovertext": [
            "Phoenix",
            "St. Paul",
            "El Paso",
            "New York City",
            "Baltimore",
            "San Diego",
            "Houston",
            "Chicago",
            "Detroit",
            "Miami",
            "San Antonio",
            "Boston",
            "Newark",
            "Salt Lake City",
            "Seattle",
            "Buffalo",
            "Philadelphia",
            "Los Angeles",
            "San Francisco",
            "Washington DC",
            "New Orleans",
            "Dallas",
            "Denver",
            "Atlanta"
           ],
           "lat": {
            "bdata": "wGmwX2a5QECS9YpdkXlGQDwnB/2Wwj9AWTikrDpbREALgbebO6VDQLE+1GzUW0BAY68cxknCPUAU0QpnEvBEQM06iEJwKkVA53NJMDDGOUAE4ESZsmw9QPtzdtd+LUVAaAkyAipeREBxMrs4O2FEQDPjyF5KzUdAAOn27X9xRUDjz6bZ8vlDQOHL6VffBkFAY4+awL7jQkC2W9yQkHJDQJxzSwbb+T1A4qar4FxjQECjAWFMn95DQO15o/ve30BA",
            "dtype": "f8"
           },
           "legendgroup": "",
           "lon": {
            "bdata": "vJLkub4EXMCgSnJl9UVXwCt1f6srn1rA2dGTjWKAUsA2r+qsFidTwBctQNtqSl3AwPSsWojXV8B2O1aE9udVwD7LmCf8wlTAf/YjRWQMVMA1m8dhsJ9YwBeDh2nfw1HA2NpWDgiLUsA4TDRIwfhbwMDpXbwflV7A7wPrkze4U8CCQpg2d8pSwCulZ3qJj13AwtGfR9aaXsAVWjG3VkJTwHAo128BhVbA+ofjr/8yWMCvRKD6Bz9awMKyiBf6GFXA",
            "dtype": "f8"
           },
           "marker": {
            "color": {
             "bdata": "sgC/AFgAnwIkABAAGAKKAtoAgwAGAfUAFQN6AK0ADQBsAIMB6wAbAJoBMgKoADMC",
             "dtype": "i2"
            },
            "coloraxis": "coloraxis",
            "size": {
             "bdata": "sgC/AFgAnwIkABAAGAKKAtoAgwAGAfUAFQN6AK0ADQBsAIMB6wAbAJoBMgKoADMC",
             "dtype": "i2"
            },
            "sizemode": "area",
            "sizeref": 0.49207100591715974
           },
           "mode": "markers",
           "name": "",
           "showlegend": false,
           "subplot": "mapbox",
           "type": "scattermapbox"
          }
         ],
         "name": "Aug 2021"
        },
        {
         "data": [
          {
           "customdata": {
            "bdata": "owFhTJ/eQ0CvRKD6Bz9awAAAAAAAIHVAzTqIQnAqRUA+y5gn/MJUwAAAAAAAYGlAaAkyAipeREDY2lYOCItSwAAAAAAAnJBAC4G3mzulQ0A2r+qsFidTwAAAAAAAgEJA4qar4FxjQED6h+Ov/zJYwAAAAAAA6ItAnHNLBtv5PUBwKNdvAYVWwAAAAAAAOIRAsT7UbNRbQEAXLUDbakpdwAAAAAAAgEBAWTikrDpbREDZ0ZONYoBSwAAAAAAAAI9AcTK7ODthREA4TDRIwfhbwAAAAAAA4GVAAOn27X9xRUDvA+uTN7hTwAAAAAAAQFNAkvWKXZF5RkCgSnJl9UVXwAAAAAAAgG5A4cvpV98GQUArpWd6iY9dwAAAAAAAYH5APCcH/ZbCP0ArdX+rK59awAAAAAAAQFBAwGmwX2a5QEC8kuS5vgRcwAAAAAAAgGVAY4+awL7jQkDC0Z9H1ppewAAAAAAAwHRA+3N2134tRUAXg4dp38NRwAAAAAAAcH1A53NJMDDGOUB/9iNFZAxUwAAAAAAAwG5AFNEKZxLwREB2O1aE9udVwAAAAAAAuIJAM+PIXkrNR0DA6V28H5VewAAAAAAAoG1A48+m2fL5Q0CCQpg2d8pSwAAAAAAAEHFAtlvckJByQ0AVWjG3VkJTwAAAAAAAwFJAY68cxknCPUDA9KxaiNdXwAAAAAAAEH5ABOBEmbJsPUA1m8dhsJ9YwAAAAAAA9JZA7Xmj+97fQEDCsogX+hhVwAAAAAAAkIBA",
            "dtype": "f8",
            "shape": "24, 3"
           },
           "hovertemplate": "<b>%{hovertext}</b><br><br>Month-Year=Sep 2021<br>Arrests=%{marker.color}<extra></extra>",
           "hovertext": [
            "Denver",
            "Detroit",
            "Newark",
            "Baltimore",
            "Dallas",
            "New Orleans",
            "San Diego",
            "New York City",
            "Salt Lake City",
            "Buffalo",
            "St. Paul",
            "Los Angeles",
            "El Paso",
            "Phoenix",
            "San Francisco",
            "Boston",
            "Miami",
            "Chicago",
            "Seattle",
            "Philadelphia",
            "Washington DC",
            "Houston",
            "San Antonio",
            "Atlanta"
           ],
           "lat": {
            "bdata": "owFhTJ/eQ0DNOohCcCpFQGgJMgIqXkRAC4G3mzulQ0DipqvgXGNAQJxzSwbb+T1AsT7UbNRbQEBZOKSsOltEQHEyuzg7YURAAOn27X9xRUCS9YpdkXlGQOHL6VffBkFAPCcH/ZbCP0DAabBfZrlAQGOPmsC+40JA+3N2134tRUDnc0kwMMY5QBTRCmcS8ERAM+PIXkrNR0Djz6bZ8vlDQLZb3JCQckNAY68cxknCPUAE4ESZsmw9QO15o/ve30BA",
            "dtype": "f8"
           },
           "legendgroup": "",
           "lon": {
            "bdata": "r0Sg+gc/WsA+y5gn/MJUwNjaVg4Ii1LANq/qrBYnU8D6h+Ov/zJYwHAo128BhVbAFy1A22pKXcDZ0ZONYoBSwDhMNEjB+FvA7wPrkze4U8CgSnJl9UVXwCulZ3qJj13AK3V/qyufWsC8kuS5vgRcwMLRn0fWml7AF4OHad/DUcB/9iNFZAxUwHY7VoT251XAwOldvB+VXsCCQpg2d8pSwBVaMbdWQlPAwPSsWojXV8A1m8dhsJ9YwMKyiBf6GFXA",
            "dtype": "f8"
           },
           "marker": {
            "color": {
             "bdata": "UgHLACcEJQB9A4cCIQDgA68ATQD0AOYBQQCsAEwB1wH2AFcC7QARAUsA4QG9BRIC",
             "dtype": "i2"
            },
            "coloraxis": "coloraxis",
            "size": {
             "bdata": "UgHLACcEJQB9A4cCIQDgA68ATQD0AOYBQQCsAEwB1wH2AFcC7QARAUsA4QG9BRIC",
             "dtype": "i2"
            },
            "sizemode": "area",
            "sizeref": 0.49207100591715974
           },
           "mode": "markers",
           "name": "",
           "showlegend": false,
           "subplot": "mapbox",
           "type": "scattermapbox"
          }
         ],
         "name": "Sep 2021"
        },
        {
         "data": [
          {
           "customdata": {
            "bdata": "Y4+awL7jQkDC0Z9H1ppewAAAAAAAIG9A+3N2134tRUAXg4dp38NRwAAAAAAAoGpAtlvckJByQ0AVWjG3VkJTwAAAAAAAADtAaAkyAipeREDY2lYOCItSwAAAAAAAqIdAC4G3mzulQ0A2r+qsFidTwAAAAAAAgEZAsT7UbNRbQEAXLUDbakpdwAAAAAAAoGVAM+PIXkrNR0DA6V28H5VewAAAAAAAAGhAY68cxknCPUDA9KxaiNdXwAAAAAAAAHtAcTK7ODthREA4TDRIwfhbwAAAAAAAAGBA4cvpV98GQUArpWd6iY9dwAAAAAAAMHZAwGmwX2a5QEC8kuS5vgRcwAAAAAAAgG5ARRIYRtUwOkCmo9I+jGxYwAAAAAAAMIRAnHNLBtv5PUBwKNdvAYVWwAAAAAAAqIZA4qar4FxjQED6h+Ov/zJYwAAAAAAAtJBA48+m2fL5Q0CCQpg2d8pSwAAAAAAAAGtABOBEmbJsPUA1m8dhsJ9YwAAAAAAAmI1A7Xmj+97fQEDCsogX+hhVwAAAAAAA0H9AzTqIQnAqRUA+y5gn/MJUwAAAAAAAoHFAFNEKZxLwREB2O1aE9udVwAAAAAAA8INAowFhTJ/eQ0CvRKD6Bz9awAAAAAAA4G1AkvWKXZF5RkCgSnJl9UVXwAAAAAAAoGtAWTikrDpbREDZ0ZONYoBSwAAAAAAAGIlA53NJMDDGOUB/9iNFZAxUwAAAAAAAMHlAPCcH/ZbCP0ArdX+rK59awAAAAAAAAGJA",
            "dtype": "f8",
            "shape": "24, 3"
           },
           "hovertemplate": "<b>%{hovertext}</b><br><br>Month-Year=Oct 2021<br>Arrests=%{marker.color}<extra></extra>",
           "hovertext": [
            "San Francisco",
            "Boston",
            "Washington DC",
            "Newark",
            "Baltimore",
            "San Diego",
            "Seattle",
            "Houston",
            "Salt Lake City",
            "Los Angeles",
            "Phoenix",
            "Harlingen",
            "New Orleans",
            "Dallas",
            "Philadelphia",
            "San Antonio",
            "Atlanta",
            "Detroit",
            "Chicago",
            "Denver",
            "St. Paul",
            "New York City",
            "Miami",
            "El Paso"
           ],
           "lat": {
            "bdata": "Y4+awL7jQkD7c3bXfi1FQLZb3JCQckNAaAkyAipeREALgbebO6VDQLE+1GzUW0BAM+PIXkrNR0BjrxzGScI9QHEyuzg7YURA4cvpV98GQUDAabBfZrlAQEUSGEbVMDpAnHNLBtv5PUDipqvgXGNAQOPPptny+UNABOBEmbJsPUDteaP73t9AQM06iEJwKkVAFNEKZxLwRECjAWFMn95DQJL1il2ReUZAWTikrDpbREDnc0kwMMY5QDwnB/2Wwj9A",
            "dtype": "f8"
           },
           "legendgroup": "",
           "lon": {
            "bdata": "wtGfR9aaXsAXg4dp38NRwBVaMbdWQlPA2NpWDgiLUsA2r+qsFidTwBctQNtqSl3AwOldvB+VXsDA9KxaiNdXwDhMNEjB+FvAK6VneomPXcC8kuS5vgRcwKaj0j6MbFjAcCjXbwGFVsD6h+Ov/zJYwIJCmDZ3ylLANZvHYbCfWMDCsogX+hhVwD7LmCf8wlTAdjtWhPbnVcCvRKD6Bz9awKBKcmX1RVfA2dGTjWKAUsB/9iNFZAxUwCt1f6srn1rA",
            "dtype": "f8"
           },
           "marker": {
            "color": {
             "bdata": "+QDVABsA9QItAK0AwACwAYAAYwH0AIYC1QItBNgAswP9ARoBfgLvAN0AIwOTAZAA",
             "dtype": "i2"
            },
            "coloraxis": "coloraxis",
            "size": {
             "bdata": "+QDVABsA9QItAK0AwACwAYAAYwH0AIYC1QItBNgAswP9ARoBfgLvAN0AIwOTAZAA",
             "dtype": "i2"
            },
            "sizemode": "area",
            "sizeref": 0.49207100591715974
           },
           "mode": "markers",
           "name": "",
           "showlegend": false,
           "subplot": "mapbox",
           "type": "scattermapbox"
          }
         ],
         "name": "Oct 2021"
        },
        {
         "data": [
          {
           "customdata": {
            "bdata": "7Xmj+97fQEDCsogX+hhVwAAAAAAAWIZAzTqIQnAqRUA+y5gn/MJUwAAAAAAA4GxAWTikrDpbREDZ0ZONYoBSwAAAAAAAgJFAY4+awL7jQkDC0Z9H1ppewAAAAAAAIGtAPCcH/ZbCP0ArdX+rK59awAAAAAAA4GFA4cvpV98GQUArpWd6iY9dwAAAAAAAcIVA53NJMDDGOUB/9iNFZAxUwAAAAAAAeJZAkvWKXZF5RkCgSnJl9UVXwAAAAAAAYGVAsT7UbNRbQEAXLUDbakpdwAAAAAAAAE1AY68cxknCPUDA9KxaiNdXwAAAAAAAcIVARRIYRtUwOkCmo9I+jGxYwAAAAAAA4H9AnHNLBtv5PUBwKNdvAYVWwAAAAAAAwHxA48+m2fL5Q0CCQpg2d8pSwAAAAAAAwFhAtlvckJByQ0AVWjG3VkJTwAAAAAAAAEdA4qar4FxjQED6h+Ov/zJYwAAAAAAAYIxAowFhTJ/eQ0CvRKD6Bz9awAAAAAAAAGBABOBEmbJsPUA1m8dhsJ9YwAAAAAAAAIZAcTK7ODthREA4TDRIwfhbwAAAAAAAgFtAC4G3mzulQ0A2r+qsFidTwAAAAAAAADlAM+PIXkrNR0DA6V28H5VewAAAAAAAQGNA+3N2134tRUAXg4dp38NRwAAAAAAA0I5AwGmwX2a5QEC8kuS5vgRcwAAAAAAAQGpAaAkyAipeREDY2lYOCItSwAAAAAAA8IRAFNEKZxLwREB2O1aE9udVwAAAAAAAaIlA",
            "dtype": "f8",
            "shape": "24, 3"
           },
           "hovertemplate": "<b>%{hovertext}</b><br><br>Month-Year=Nov 2021<br>Arrests=%{marker.color}<extra></extra>",
           "hovertext": [
            "Atlanta",
            "Detroit",
            "New York City",
            "San Francisco",
            "El Paso",
            "Los Angeles",
            "Miami",
            "St. Paul",
            "San Diego",
            "Houston",
            "Harlingen",
            "New Orleans",
            "Philadelphia",
            "Washington DC",
            "Dallas",
            "Denver",
            "San Antonio",
            "Salt Lake City",
            "Baltimore",
            "Seattle",
            "Boston",
            "Phoenix",
            "Newark",
            "Chicago"
           ],
           "lat": {
            "bdata": "7Xmj+97fQEDNOohCcCpFQFk4pKw6W0RAY4+awL7jQkA8Jwf9lsI/QOHL6VffBkFA53NJMDDGOUCS9YpdkXlGQLE+1GzUW0BAY68cxknCPUBFEhhG1TA6QJxzSwbb+T1A48+m2fL5Q0C2W9yQkHJDQOKmq+BcY0BAowFhTJ/eQ0AE4ESZsmw9QHEyuzg7YURAC4G3mzulQ0Az48heSs1HQPtzdtd+LUVAwGmwX2a5QEBoCTICKl5EQBTRCmcS8ERA",
            "dtype": "f8"
           },
           "legendgroup": "",
           "lon": {
            "bdata": "wrKIF/oYVcA+y5gn/MJUwNnRk41igFLAwtGfR9aaXsArdX+rK59awCulZ3qJj13Af/YjRWQMVMCgSnJl9UVXwBctQNtqSl3AwPSsWojXV8Cmo9I+jGxYwHAo128BhVbAgkKYNnfKUsAVWjG3VkJTwPqH46//MljAr0Sg+gc/WsA1m8dhsJ9YwDhMNEjB+FvANq/qrBYnU8DA6V28H5VewBeDh2nfw1HAvJLkub4EXMDY2lYOCItSwHY7VoT251XA",
            "dtype": "f8"
           },
           "marker": {
            "color": {
             "bdata": "ywLnAGAE2QCPAK4CngWrADoArgL+AcwBYwAuAIwDgADAAm4AGQCaANoD0gCeAi0D",
             "dtype": "i2"
            },
            "coloraxis": "coloraxis",
            "size": {
             "bdata": "ywLnAGAE2QCPAK4CngWrADoArgL+AcwBYwAuAIwDgADAAm4AGQCaANoD0gCeAi0D",
             "dtype": "i2"
            },
            "sizemode": "area",
            "sizeref": 0.49207100591715974
           },
           "mode": "markers",
           "name": "",
           "showlegend": false,
           "subplot": "mapbox",
           "type": "scattermapbox"
          }
         ],
         "name": "Nov 2021"
        },
        {
         "data": [
          {
           "customdata": {
            "bdata": "53NJMDDGOUB/9iNFZAxUwAAAAAAACIFA48+m2fL5Q0CCQpg2d8pSwAAAAAAAQFNA4cvpV98GQUArpWd6iY9dwAAAAAAAAHZAzTqIQnAqRUA+y5gn/MJUwAAAAAAAAF1AnHNLBtv5PUBwKNdvAYVWwAAAAAAAcH5AcTK7ODthREA4TDRIwfhbwAAAAAAAAFpAY4+awL7jQkDC0Z9H1ppewAAAAAAAwGRA4qar4FxjQED6h+Ov/zJYwAAAAAAAYIJAwGmwX2a5QEC8kuS5vgRcwAAAAAAAYGpAWTikrDpbREDZ0ZONYoBSwAAAAAAA4IhA+3N2134tRUAXg4dp38NRwAAAAAAAkHVAPCcH/ZbCP0ArdX+rK59awAAAAAAAgEBARRIYRtUwOkCmo9I+jGxYwAAAAAAA4GVAY68cxknCPUDA9KxaiNdXwAAAAAAAgIBAowFhTJ/eQ0CvRKD6Bz9awAAAAAAAAF5AtlvckJByQ0AVWjG3VkJTwAAAAAAAwFdABOBEmbJsPUA1m8dhsJ9YwAAAAAAAsH9AkvWKXZF5RkCgSnJl9UVXwAAAAAAA4GBAaAkyAipeREDY2lYOCItSwAAAAAAAUH9AM+PIXkrNR0DA6V28H5VewAAAAAAAAElAFNEKZxLwREB2O1aE9udVwAAAAAAAsIJA7Xmj+97fQEDCsogX+hhVwAAAAAAAIHdA",
            "dtype": "f8",
            "shape": "22, 3"
           },
           "hovertemplate": "<b>%{hovertext}</b><br><br>Month-Year=Dec 2021<br>Arrests=%{marker.color}<extra></extra>",
           "hovertext": [
            "Miami",
            "Philadelphia",
            "Los Angeles",
            "Detroit",
            "New Orleans",
            "Salt Lake City",
            "San Francisco",
            "Dallas",
            "Phoenix",
            "New York City",
            "Boston",
            "El Paso",
            "Harlingen",
            "Houston",
            "Denver",
            "Washington DC",
            "San Antonio",
            "St. Paul",
            "Newark",
            "Seattle",
            "Chicago",
            "Atlanta"
           ],
           "lat": {
            "bdata": "53NJMDDGOUDjz6bZ8vlDQOHL6VffBkFAzTqIQnAqRUCcc0sG2/k9QHEyuzg7YURAY4+awL7jQkDipqvgXGNAQMBpsF9muUBAWTikrDpbRED7c3bXfi1FQDwnB/2Wwj9ARRIYRtUwOkBjrxzGScI9QKMBYUyf3kNAtlvckJByQ0AE4ESZsmw9QJL1il2ReUZAaAkyAipeREAz48heSs1HQBTRCmcS8ERA7Xmj+97fQEA=",
            "dtype": "f8"
           },
           "legendgroup": "",
           "lon": {
            "bdata": "f/YjRWQMVMCCQpg2d8pSwCulZ3qJj13APsuYJ/zCVMBwKNdvAYVWwDhMNEjB+FvAwtGfR9aaXsD6h+Ov/zJYwLyS5Lm+BFzA2dGTjWKAUsAXg4dp38NRwCt1f6srn1rApqPSPoxsWMDA9KxaiNdXwK9EoPoHP1rAFVoxt1ZCU8A1m8dhsJ9YwKBKcmX1RVfA2NpWDgiLUsDA6V28H5VewHY7VoT251XAwrKIF/oYVcA=",
            "dtype": "f8"
           },
           "marker": {
            "color": {
             "bdata": "IQJNAGABdADnAWgApgBMAtMAHANZASEArwAQAngAXwD7AYcA9QEyAFYCcgE=",
             "dtype": "i2"
            },
            "coloraxis": "coloraxis",
            "size": {
             "bdata": "IQJNAGABdADnAWgApgBMAtMAHANZASEArwAQAngAXwD7AYcA9QEyAFYCcgE=",
             "dtype": "i2"
            },
            "sizemode": "area",
            "sizeref": 0.49207100591715974
           },
           "mode": "markers",
           "name": "",
           "showlegend": false,
           "subplot": "mapbox",
           "type": "scattermapbox"
          }
         ],
         "name": "Dec 2021"
        },
        {
         "data": [
          {
           "customdata": {
            "bdata": "4qar4FxjQED6h+Ov/zJYwAAAAAAACIdAsT7UbNRbQEAXLUDbakpdwAAAAAAAAD9AkvWKXZF5RkCgSnJl9UVXwAAAAAAAAGJAnHNLBtv5PUBwKNdvAYVWwAAAAAAAEHtAtlvckJByQ0AVWjG3VkJTwAAAAAAAQFBAWTikrDpbREDZ0ZONYoBSwAAAAAAA4IdAM+PIXkrNR0DA6V28H5VewAAAAAAAAFhAaAkyAipeREDY2lYOCItSwAAAAAAAQIJAwGmwX2a5QEC8kuS5vgRcwAAAAAAAAGVA48+m2fL5Q0CCQpg2d8pSwAAAAAAAQFpAPCcH/ZbCP0ArdX+rK59awAAAAAAAgE1ARRIYRtUwOkCmo9I+jGxYwAAAAAAAAHRAY4+awL7jQkDC0Z9H1ppewAAAAAAAAGJAcTK7ODthREA4TDRIwfhbwAAAAAAAIGBA53NJMDDGOUB/9iNFZAxUwAAAAAAA0HVAY68cxknCPUDA9KxaiNdXwAAAAAAAsH9A7Xmj+97fQEDCsogX+hhVwAAAAAAAAH1ABOBEmbJsPUA1m8dhsJ9YwAAAAAAAsHlAFNEKZxLwREB2O1aE9udVwAAAAAAA4H1AzTqIQnAqRUA+y5gn/MJUwAAAAAAAgF5A+3N2134tRUAXg4dp38NRwAAAAAAAQFpAowFhTJ/eQ0CvRKD6Bz9awAAAAAAAgGZA4cvpV98GQUArpWd6iY9dwAAAAAAA0HJAC4G3mzulQ0A2r+qsFidTwAAAAAAAAFlA",
            "dtype": "f8",
            "shape": "24, 3"
           },
           "hovertemplate": "<b>%{hovertext}</b><br><br>Month-Year=Jan 2022<br>Arrests=%{marker.color}<extra></extra>",
           "hovertext": [
            "Dallas",
            "San Diego",
            "St. Paul",
            "New Orleans",
            "Washington DC",
            "New York City",
            "Seattle",
            "Newark",
            "Phoenix",
            "Philadelphia",
            "El Paso",
            "Harlingen",
            "San Francisco",
            "Salt Lake City",
            "Miami",
            "Houston",
            "Atlanta",
            "San Antonio",
            "Chicago",
            "Detroit",
            "Boston",
            "Denver",
            "Los Angeles",
            "Baltimore"
           ],
           "lat": {
            "bdata": "4qar4FxjQECxPtRs1FtAQJL1il2ReUZAnHNLBtv5PUC2W9yQkHJDQFk4pKw6W0RAM+PIXkrNR0BoCTICKl5EQMBpsF9muUBA48+m2fL5Q0A8Jwf9lsI/QEUSGEbVMDpAY4+awL7jQkBxMrs4O2FEQOdzSTAwxjlAY68cxknCPUDteaP73t9AQATgRJmybD1AFNEKZxLwREDNOohCcCpFQPtzdtd+LUVAowFhTJ/eQ0Dhy+lX3wZBQAuBt5s7pUNA",
            "dtype": "f8"
           },
           "legendgroup": "",
           "lon": {
            "bdata": "+ofjr/8yWMAXLUDbakpdwKBKcmX1RVfAcCjXbwGFVsAVWjG3VkJTwNnRk41igFLAwOldvB+VXsDY2lYOCItSwLyS5Lm+BFzAgkKYNnfKUsArdX+rK59awKaj0j6MbFjAwtGfR9aaXsA4TDRIwfhbwH/2I0VkDFTAwPSsWojXV8DCsogX+hhVwDWbx2Gwn1jAdjtWhPbnVcA+y5gn/MJUwBeDh2nfw1HAr0Sg+gc/WsArpWd6iY9dwDav6qwWJ1PA",
            "dtype": "f8"
           },
           "marker": {
            "color": {
             "bdata": "4QIfAJAAsQFBAPwCYABIAqgAaQA7AEABkACBAF0B+wHQAZsB3gF6AGkAtAAtAWQA",
             "dtype": "i2"
            },
            "coloraxis": "coloraxis",
            "size": {
             "bdata": "4QIfAJAAsQFBAPwCYABIAqgAaQA7AEABkACBAF0B+wHQAZsB3gF6AGkAtAAtAWQA",
             "dtype": "i2"
            },
            "sizemode": "area",
            "sizeref": 0.49207100591715974
           },
           "mode": "markers",
           "name": "",
           "showlegend": false,
           "subplot": "mapbox",
           "type": "scattermapbox"
          }
         ],
         "name": "Jan 2022"
        },
        {
         "data": [
          {
           "customdata": {
            "bdata": "4cvpV98GQUArpWd6iY9dwAAAAAAAQHZAAOn27X9xRUDvA+uTN7hTwAAAAAAAADdAcTK7ODthREA4TDRIwfhbwAAAAAAAQGZAM+PIXkrNR0DA6V28H5VewAAAAAAAAGNAY68cxknCPUDA9KxaiNdXwAAAAAAAQIxABOBEmbJsPUA1m8dhsJ9YwAAAAAAAoHNARRIYRtUwOkCmo9I+jGxYwAAAAAAAUHVA7Xmj+97fQEDCsogX+hhVwAAAAAAAQItA53NJMDDGOUB/9iNFZAxUwAAAAAAAMItAFNEKZxLwREB2O1aE9udVwAAAAAAAcIBA4qar4FxjQED6h+Ov/zJYwAAAAAAAuIlAnHNLBtv5PUBwKNdvAYVWwAAAAAAAQH1AwGmwX2a5QEC8kuS5vgRcwAAAAAAAgGJA48+m2fL5Q0CCQpg2d8pSwAAAAAAAQGRAPCcH/ZbCP0ArdX+rK59awAAAAAAAwF5AWTikrDpbREDZ0ZONYoBSwAAAAAAAyIZAaAkyAipeREDY2lYOCItSwAAAAAAAeIRAzTqIQnAqRUA+y5gn/MJUwAAAAAAAoGdAowFhTJ/eQ0CvRKD6Bz9awAAAAAAA4GpAkvWKXZF5RkCgSnJl9UVXwAAAAAAAwFpAsT7UbNRbQEAXLUDbakpdwAAAAAAAAE9AY4+awL7jQkDC0Z9H1ppewAAAAAAAYGlAtlvckJByQ0AVWjG3VkJTwAAAAAAAgFBAC4G3mzulQ0A2r+qsFidTwAAAAAAAQGFA",
            "dtype": "f8",
            "shape": "24, 3"
           },
           "hovertemplate": "<b>%{hovertext}</b><br><br>Month-Year=Feb 2022<br>Arrests=%{marker.color}<extra></extra>",
           "hovertext": [
            "Los Angeles",
            "Buffalo",
            "Salt Lake City",
            "Seattle",
            "Houston",
            "San Antonio",
            "Harlingen",
            "Atlanta",
            "Miami",
            "Chicago",
            "Dallas",
            "New Orleans",
            "Phoenix",
            "Philadelphia",
            "El Paso",
            "New York City",
            "Newark",
            "Detroit",
            "Denver",
            "St. Paul",
            "San Diego",
            "San Francisco",
            "Washington DC",
            "Baltimore"
           ],
           "lat": {
            "bdata": "4cvpV98GQUAA6fbtf3FFQHEyuzg7YURAM+PIXkrNR0BjrxzGScI9QATgRJmybD1ARRIYRtUwOkDteaP73t9AQOdzSTAwxjlAFNEKZxLwREDipqvgXGNAQJxzSwbb+T1AwGmwX2a5QEDjz6bZ8vlDQDwnB/2Wwj9AWTikrDpbREBoCTICKl5EQM06iEJwKkVAowFhTJ/eQ0CS9YpdkXlGQLE+1GzUW0BAY4+awL7jQkC2W9yQkHJDQAuBt5s7pUNA",
            "dtype": "f8"
           },
           "legendgroup": "",
           "lon": {
            "bdata": "K6VneomPXcDvA+uTN7hTwDhMNEjB+FvAwOldvB+VXsDA9KxaiNdXwDWbx2Gwn1jApqPSPoxsWMDCsogX+hhVwH/2I0VkDFTAdjtWhPbnVcD6h+Ov/zJYwHAo128BhVbAvJLkub4EXMCCQpg2d8pSwCt1f6srn1rA2dGTjWKAUsDY2lYOCItSwD7LmCf8wlTAr0Sg+gc/WsCgSnJl9UVXwBctQNtqSl3AwtGfR9aaXsAVWjG3VkJTwDav6qwWJ1PA",
            "dtype": "f8"
           },
           "marker": {
            "color": {
             "bdata": "ZAEXALIAmACIAzoBVQFoA2YDDgI3A9QBlACiAHsA2QKPAr0A1wBrAD4AywBCAIoA",
             "dtype": "i2"
            },
            "coloraxis": "coloraxis",
            "size": {
             "bdata": "ZAEXALIAmACIAzoBVQFoA2YDDgI3A9QBlACiAHsA2QKPAr0A1wBrAD4AywBCAIoA",
             "dtype": "i2"
            },
            "sizemode": "area",
            "sizeref": 0.49207100591715974
           },
           "mode": "markers",
           "name": "",
           "showlegend": false,
           "subplot": "mapbox",
           "type": "scattermapbox"
          }
         ],
         "name": "Feb 2022"
        },
        {
         "data": [
          {
           "customdata": {
            "bdata": "kvWKXZF5RkCgSnJl9UVXwAAAAAAAYGdAcTK7ODthREA4TDRIwfhbwAAAAAAAAGhAY4+awL7jQkDC0Z9H1ppewAAAAAAAIHBAzTqIQnAqRUA+y5gn/MJUwAAAAAAAoGhAFNEKZxLwREB2O1aE9udVwAAAAAAAmIlA7Xmj+97fQEDCsogX+hhVwAAAAAAAAItARRIYRtUwOkCmo9I+jGxYwAAAAAAAEHdA53NJMDDGOUB/9iNFZAxUwAAAAAAAOI5ABOBEmbJsPUA1m8dhsJ9YwAAAAAAAMHhAM+PIXkrNR0DA6V28H5VewAAAAAAAoGRAWTikrDpbREDZ0ZONYoBSwAAAAAAAqJJAC4G3mzulQ0A2r+qsFidTwAAAAAAAQGVA+3N2134tRUAXg4dp38NRwAAAAAAAgGxAAOn27X9xRUDvA+uTN7hTwAAAAAAAADlAwGmwX2a5QEC8kuS5vgRcwAAAAAAAoGlAY68cxknCPUDA9KxaiNdXwAAAAAAAiIxAsT7UbNRbQEAXLUDbakpdwAAAAAAAADhA4qar4FxjQED6h+Ov/zJYwAAAAAAAIIpAtlvckJByQ0AVWjG3VkJTwAAAAAAAgFZAnHNLBtv5PUBwKNdvAYVWwAAAAAAAQIVAPCcH/ZbCP0ArdX+rK59awAAAAAAAQFpAaAkyAipeREDY2lYOCItSwAAAAAAAUI5AowFhTJ/eQ0CvRKD6Bz9awAAAAAAAcHJA4cvpV98GQUArpWd6iY9dwAAAAAAA0H9A48+m2fL5Q0CCQpg2d8pSwAAAAAAAYGNA",
            "dtype": "f8",
            "shape": "25, 3"
           },
           "hovertemplate": "<b>%{hovertext}</b><br><br>Month-Year=Mar 2022<br>Arrests=%{marker.color}<extra></extra>",
           "hovertext": [
            "St. Paul",
            "Salt Lake City",
            "San Francisco",
            "Detroit",
            "Chicago",
            "Atlanta",
            "Harlingen",
            "Miami",
            "San Antonio",
            "Seattle",
            "New York City",
            "Baltimore",
            "Boston",
            "Buffalo",
            "Phoenix",
            "Houston",
            "San Diego",
            "Dallas",
            "Washington DC",
            "New Orleans",
            "El Paso",
            "Newark",
            "Denver",
            "Los Angeles",
            "Philadelphia"
           ],
           "lat": {
            "bdata": "kvWKXZF5RkBxMrs4O2FEQGOPmsC+40JAzTqIQnAqRUAU0QpnEvBEQO15o/ve30BARRIYRtUwOkDnc0kwMMY5QATgRJmybD1AM+PIXkrNR0BZOKSsOltEQAuBt5s7pUNA+3N2134tRUAA6fbtf3FFQMBpsF9muUBAY68cxknCPUCxPtRs1FtAQOKmq+BcY0BAtlvckJByQ0Ccc0sG2/k9QDwnB/2Wwj9AaAkyAipeRECjAWFMn95DQOHL6VffBkFA48+m2fL5Q0A=",
            "dtype": "f8"
           },
           "legendgroup": "",
           "lon": {
            "bdata": "oEpyZfVFV8A4TDRIwfhbwMLRn0fWml7APsuYJ/zCVMB2O1aE9udVwMKyiBf6GFXApqPSPoxsWMB/9iNFZAxUwDWbx2Gwn1jAwOldvB+VXsDZ0ZONYoBSwDav6qwWJ1PAF4OHad/DUcDvA+uTN7hTwLyS5Lm+BFzAwPSsWojXV8AXLUDbakpdwPqH46//MljAFVoxt1ZCU8BwKNdvAYVWwCt1f6srn1rA2NpWDgiLUsCvRKD6Bz9awCulZ3qJj13AgkKYNnfKUsA=",
            "dtype": "f8"
           },
           "marker": {
            "color": {
             "bdata": "uwDAAAIBxQAzA2ADcQHHA4MBpQCqBKoA5AAZAM0AkQMYAEQDWgCoAmkAygMnAf0BmwA=",
             "dtype": "i2"
            },
            "coloraxis": "coloraxis",
            "size": {
             "bdata": "uwDAAAIBxQAzA2ADcQHHA4MBpQCqBKoA5AAZAM0AkQMYAEQDWgCoAmkAygMnAf0BmwA=",
             "dtype": "i2"
            },
            "sizemode": "area",
            "sizeref": 0.49207100591715974
           },
           "mode": "markers",
           "name": "",
           "showlegend": false,
           "subplot": "mapbox",
           "type": "scattermapbox"
          }
         ],
         "name": "Mar 2022"
        },
        {
         "data": [
          {
           "customdata": {
            "bdata": "cTK7ODthREA4TDRIwfhbwAAAAAAA8HdAM+PIXkrNR0DA6V28H5VewAAAAAAAIGBAFNEKZxLwREB2O1aE9udVwAAAAAAAiIBA48+m2fL5Q0CCQpg2d8pSwAAAAAAAoGVAY4+awL7jQkDC0Z9H1ppewAAAAAAAAGpA53NJMDDGOUB/9iNFZAxUwAAAAAAA+INA+3N2134tRUAXg4dp38NRwAAAAAAAIHFAY68cxknCPUDA9KxaiNdXwAAAAAAAqIJAaAkyAipeREDY2lYOCItSwAAAAAAAMI5AsT7UbNRbQEAXLUDbakpdwAAAAAAAADFAAOn27X9xRUDvA+uTN7hTwAAAAAAAAE9AWTikrDpbREDZ0ZONYoBSwAAAAAAAAI1ARRIYRtUwOkCmo9I+jGxYwAAAAAAAsH9AzTqIQnAqRUA+y5gn/MJUwAAAAAAAAGZAPCcH/ZbCP0ArdX+rK59awAAAAAAAAFtA4qar4FxjQED6h+Ov/zJYwAAAAAAAGIxA4cvpV98GQUArpWd6iY9dwAAAAAAAcIBAowFhTJ/eQ0CvRKD6Bz9awAAAAAAAEHZAwGmwX2a5QEC8kuS5vgRcwAAAAAAAYHZABOBEmbJsPUA1m8dhsJ9YwAAAAAAAgHdAkvWKXZF5RkCgSnJl9UVXwAAAAAAAAGFAtlvckJByQ0AVWjG3VkJTwAAAAAAAgFhAnHNLBtv5PUBwKNdvAYVWwAAAAAAAeIFAC4G3mzulQ0A2r+qsFidTwAAAAAAAQFxA7Xmj+97fQEDCsogX+hhVwAAAAAAAKIFA",
            "dtype": "f8",
            "shape": "25, 3"
           },
           "hovertemplate": "<b>%{hovertext}</b><br><br>Month-Year=Apr 2022<br>Arrests=%{marker.color}<extra></extra>",
           "hovertext": [
            "Salt Lake City",
            "Seattle",
            "Chicago",
            "Philadelphia",
            "San Francisco",
            "Miami",
            "Boston",
            "Houston",
            "Newark",
            "San Diego",
            "Buffalo",
            "New York City",
            "Harlingen",
            "Detroit",
            "El Paso",
            "Dallas",
            "Los Angeles",
            "Denver",
            "Phoenix",
            "San Antonio",
            "St. Paul",
            "Washington DC",
            "New Orleans",
            "Baltimore",
            "Atlanta"
           ],
           "lat": {
            "bdata": "cTK7ODthREAz48heSs1HQBTRCmcS8ERA48+m2fL5Q0Bjj5rAvuNCQOdzSTAwxjlA+3N2134tRUBjrxzGScI9QGgJMgIqXkRAsT7UbNRbQEAA6fbtf3FFQFk4pKw6W0RARRIYRtUwOkDNOohCcCpFQDwnB/2Wwj9A4qar4FxjQEDhy+lX3wZBQKMBYUyf3kNAwGmwX2a5QEAE4ESZsmw9QJL1il2ReUZAtlvckJByQ0Ccc0sG2/k9QAuBt5s7pUNA7Xmj+97fQEA=",
            "dtype": "f8"
           },
           "legendgroup": "",
           "lon": {
            "bdata": "OEw0SMH4W8DA6V28H5VewHY7VoT251XAgkKYNnfKUsDC0Z9H1ppewH/2I0VkDFTAF4OHad/DUcDA9KxaiNdXwNjaVg4Ii1LAFy1A22pKXcDvA+uTN7hTwNnRk41igFLApqPSPoxsWMA+y5gn/MJUwCt1f6srn1rA+ofjr/8yWMArpWd6iY9dwK9EoPoHP1rAvJLkub4EXMA1m8dhsJ9YwKBKcmX1RVfAFVoxt1ZCU8BwKNdvAYVWwDav6qwWJ1PAwrKIF/oYVcA=",
            "dtype": "f8"
           },
           "marker": {
            "color": {
             "bdata": "fwGBABECrQDQAH8CEgFVAsYDEQA+AKAD+wGwAGwAgwMOAmEBZgF4AYgAYgAvAnEAJQI=",
             "dtype": "i2"
            },
            "coloraxis": "coloraxis",
            "size": {
             "bdata": "fwGBABECrQDQAH8CEgFVAsYDEQA+AKAD+wGwAGwAgwMOAmEBZgF4AYgAYgAvAnEAJQI=",
             "dtype": "i2"
            },
            "sizemode": "area",
            "sizeref": 0.49207100591715974
           },
           "mode": "markers",
           "name": "",
           "showlegend": false,
           "subplot": "mapbox",
           "type": "scattermapbox"
          }
         ],
         "name": "Apr 2022"
        },
        {
         "data": [
          {
           "customdata": {
            "bdata": "C4G3mzulQ0A2r+qsFidTwAAAAAAAgEVAPCcH/ZbCP0ArdX+rK59awAAAAAAAwF1AM+PIXkrNR0DA6V28H5VewAAAAAAAAFVAsT7UbNRbQEAXLUDbakpdwAAAAAAAgENAnHNLBtv5PUBwKNdvAYVWwAAAAAAAIH1AtlvckJByQ0AVWjG3VkJTwAAAAAAAgERA48+m2fL5Q0CCQpg2d8pSwAAAAAAAgFtAcTK7ODthREA4TDRIwfhbwAAAAAAAMHxAaAkyAipeREDY2lYOCItSwAAAAAAAcI1AwGmwX2a5QEC8kuS5vgRcwAAAAAAAcHlAY4+awL7jQkDC0Z9H1ppewAAAAAAAgF1A53NJMDDGOUB/9iNFZAxUwAAAAAAA6IJA7Xmj+97fQEDCsogX+hhVwAAAAAAAsIJAAOn27X9xRUDvA+uTN7hTwAAAAAAAAENAY68cxknCPUDA9KxaiNdXwAAAAAAAWIJARRIYRtUwOkCmo9I+jGxYwAAAAAAAGINA4cvpV98GQUArpWd6iY9dwAAAAAAAcHxA+3N2134tRUAXg4dp38NRwAAAAAAAAGNAzTqIQnAqRUA+y5gn/MJUwAAAAAAA4GRABOBEmbJsPUA1m8dhsJ9YwAAAAAAA8HNA4qar4FxjQED6h+Ov/zJYwAAAAAAAGIpAkvWKXZF5RkCgSnJl9UVXwAAAAAAAYGtAowFhTJ/eQ0CvRKD6Bz9awAAAAAAAoG1AWTikrDpbREDZ0ZONYoBSwAAAAAAAwIpAFNEKZxLwREB2O1aE9udVwAAAAAAACINA",
            "dtype": "f8",
            "shape": "25, 3"
           },
           "hovertemplate": "<b>%{hovertext}</b><br><br>Month-Year=May 2022<br>Arrests=%{marker.color}<extra></extra>",
           "hovertext": [
            "Baltimore",
            "El Paso",
            "Seattle",
            "San Diego",
            "New Orleans",
            "Washington DC",
            "Philadelphia",
            "Salt Lake City",
            "Newark",
            "Phoenix",
            "San Francisco",
            "Miami",
            "Atlanta",
            "Buffalo",
            "Houston",
            "Harlingen",
            "Los Angeles",
            "Boston",
            "Detroit",
            "San Antonio",
            "Dallas",
            "St. Paul",
            "Denver",
            "New York City",
            "Chicago"
           ],
           "lat": {
            "bdata": "C4G3mzulQ0A8Jwf9lsI/QDPjyF5KzUdAsT7UbNRbQECcc0sG2/k9QLZb3JCQckNA48+m2fL5Q0BxMrs4O2FEQGgJMgIqXkRAwGmwX2a5QEBjj5rAvuNCQOdzSTAwxjlA7Xmj+97fQEAA6fbtf3FFQGOvHMZJwj1ARRIYRtUwOkDhy+lX3wZBQPtzdtd+LUVAzTqIQnAqRUAE4ESZsmw9QOKmq+BcY0BAkvWKXZF5RkCjAWFMn95DQFk4pKw6W0RAFNEKZxLwREA=",
            "dtype": "f8"
           },
           "legendgroup": "",
           "lon": {
            "bdata": "Nq/qrBYnU8ArdX+rK59awMDpXbwflV7AFy1A22pKXcBwKNdvAYVWwBVaMbdWQlPAgkKYNnfKUsA4TDRIwfhbwNjaVg4Ii1LAvJLkub4EXMDC0Z9H1ppewH/2I0VkDFTAwrKIF/oYVcDvA+uTN7hTwMD0rFqI11fApqPSPoxsWMArpWd6iY9dwBeDh2nfw1HAPsuYJ/zCVMA1m8dhsJ9YwPqH46//MljAoEpyZfVFV8CvRKD6Bz9awNnRk41igFLAdjtWhPbnVcA=",
            "dtype": "f8"
           },
           "marker": {
            "color": {
             "bdata": "KwB3AFQAJwDSASkAbgDDAa4DlwF2AF0CVgImAEsCYwLHAZgApwA/AUMD2wDtAFgDYQI=",
             "dtype": "i2"
            },
            "coloraxis": "coloraxis",
            "size": {
             "bdata": "KwB3AFQAJwDSASkAbgDDAa4DlwF2AF0CVgImAEsCYwLHAZgApwA/AUMD2wDtAFgDYQI=",
             "dtype": "i2"
            },
            "sizemode": "area",
            "sizeref": 0.49207100591715974
           },
           "mode": "markers",
           "name": "",
           "showlegend": false,
           "subplot": "mapbox",
           "type": "scattermapbox"
          }
         ],
         "name": "May 2022"
        },
        {
         "data": [
          {
           "customdata": {
            "bdata": "cTK7ODthREA4TDRIwfhbwAAAAAAA4HpA4cvpV98GQUArpWd6iY9dwAAAAAAAIIBAY68cxknCPUDA9KxaiNdXwAAAAAAAuINAAOn27X9xRUDvA+uTN7hTwAAAAAAAwFNAtlvckJByQ0AVWjG3VkJTwAAAAAAAgF1AC4G3mzulQ0A2r+qsFidTwAAAAAAAgFVAaAkyAipeREDY2lYOCItSwAAAAAAAsJJAowFhTJ/eQ0CvRKD6Bz9awAAAAAAAIG9AnHNLBtv5PUBwKNdvAYVWwAAAAAAAiIJA48+m2fL5Q0CCQpg2d8pSwAAAAAAAYGdAWTikrDpbREDZ0ZONYoBSwAAAAAAAAIhAkvWKXZF5RkCgSnJl9UVXwAAAAAAAAGxAwGmwX2a5QEC8kuS5vgRcwAAAAAAAYHZAY4+awL7jQkDC0Z9H1ppewAAAAAAAwF9AM+PIXkrNR0DA6V28H5VewAAAAAAAQFxARRIYRtUwOkCmo9I+jGxYwAAAAAAAUH1APCcH/ZbCP0ArdX+rK59awAAAAAAAAFVA7Xmj+97fQEDCsogX+hhVwAAAAAAAwIBAFNEKZxLwREB2O1aE9udVwAAAAAAAKINAzTqIQnAqRUA+y5gn/MJUwAAAAAAA4GtABOBEmbJsPUA1m8dhsJ9YwAAAAAAAAHhA4qar4FxjQED6h+Ov/zJYwAAAAAAAWI9AsT7UbNRbQEAXLUDbakpdwAAAAAAAAFVA53NJMDDGOUB/9iNFZAxUwAAAAAAAMIJA+3N2134tRUAXg4dp38NRwAAAAAAAYH5A",
            "dtype": "f8",
            "shape": "25, 3"
           },
           "hovertemplate": "<b>%{hovertext}</b><br><br>Month-Year=Jun 2022<br>Arrests=%{marker.color}<extra></extra>",
           "hovertext": [
            "Salt Lake City",
            "Los Angeles",
            "Houston",
            "Buffalo",
            "Washington DC",
            "Baltimore",
            "Newark",
            "Denver",
            "New Orleans",
            "Philadelphia",
            "New York City",
            "St. Paul",
            "Phoenix",
            "San Francisco",
            "Seattle",
            "Harlingen",
            "El Paso",
            "Atlanta",
            "Chicago",
            "Detroit",
            "San Antonio",
            "Dallas",
            "San Diego",
            "Miami",
            "Boston"
           ],
           "lat": {
            "bdata": "cTK7ODthREDhy+lX3wZBQGOvHMZJwj1AAOn27X9xRUC2W9yQkHJDQAuBt5s7pUNAaAkyAipeRECjAWFMn95DQJxzSwbb+T1A48+m2fL5Q0BZOKSsOltEQJL1il2ReUZAwGmwX2a5QEBjj5rAvuNCQDPjyF5KzUdARRIYRtUwOkA8Jwf9lsI/QO15o/ve30BAFNEKZxLwREDNOohCcCpFQATgRJmybD1A4qar4FxjQECxPtRs1FtAQOdzSTAwxjlA+3N2134tRUA=",
            "dtype": "f8"
           },
           "legendgroup": "",
           "lon": {
            "bdata": "OEw0SMH4W8ArpWd6iY9dwMD0rFqI11fA7wPrkze4U8AVWjG3VkJTwDav6qwWJ1PA2NpWDgiLUsCvRKD6Bz9awHAo128BhVbAgkKYNnfKUsDZ0ZONYoBSwKBKcmX1RVfAvJLkub4EXMDC0Z9H1ppewMDpXbwflV7ApqPSPoxsWMArdX+rK59awMKyiBf6GFXAdjtWhPbnVcA+y5gn/MJUwDWbx2Gwn1jA+ofjr/8yWMAXLUDbakpdwH/2I0VkDFTAF4OHad/DUcA=",
            "dtype": "f8"
           },
           "marker": {
            "color": {
             "bdata": "rgEEAncCTwB2AFYArAT5AFECuwAAA+AAZgF/AHEA1QFUABgCZQLfAIAB6wNUAEYC5gE=",
             "dtype": "i2"
            },
            "coloraxis": "coloraxis",
            "size": {
             "bdata": "rgEEAncCTwB2AFYArAT5AFECuwAAA+AAZgF/AHEA1QFUABgCZQLfAIAB6wNUAEYC5gE=",
             "dtype": "i2"
            },
            "sizemode": "area",
            "sizeref": 0.49207100591715974
           },
           "mode": "markers",
           "name": "",
           "showlegend": false,
           "subplot": "mapbox",
           "type": "scattermapbox"
          }
         ],
         "name": "Jun 2022"
        },
        {
         "data": [
          {
           "customdata": {
            "bdata": "Y4+awL7jQkDC0Z9H1ppewAAAAAAAwF1AkvWKXZF5RkCgSnJl9UVXwAAAAAAAQGlAaAkyAipeREDY2lYOCItSwAAAAAAAVJJAwGmwX2a5QEC8kuS5vgRcwAAAAAAAsH1A4cvpV98GQUArpWd6iY9dwAAAAAAAkIBAWTikrDpbREDZ0ZONYoBSwAAAAAAAOINA48+m2fL5Q0CCQpg2d8pSwAAAAAAAwGRAcTK7ODthREA4TDRIwfhbwAAAAAAAQHZAsT7UbNRbQEAXLUDbakpdwAAAAAAAgEtABOBEmbJsPUA1m8dhsJ9YwAAAAAAAUHdAnHNLBtv5PUBwKNdvAYVWwAAAAAAACIhA53NJMDDGOUB/9iNFZAxUwAAAAAAAiINAM+PIXkrNR0DA6V28H5VewAAAAAAAIGVAC4G3mzulQ0A2r+qsFidTwAAAAAAAAFVA7Xmj+97fQEDCsogX+hhVwAAAAAAAgIFAFNEKZxLwREB2O1aE9udVwAAAAAAA8IFAowFhTJ/eQ0CvRKD6Bz9awAAAAAAAYGlAtlvckJByQ0AVWjG3VkJTwAAAAAAAgGJA4qar4FxjQED6h+Ov/zJYwAAAAAAAYJFAzTqIQnAqRUA+y5gn/MJUwAAAAAAAEHJA+3N2134tRUAXg4dp38NRwAAAAAAAeItAAOn27X9xRUDvA+uTN7hTwAAAAAAAwFlAY68cxknCPUDA9KxaiNdXwAAAAAAAaIRARRIYRtUwOkCmo9I+jGxYwAAAAAAAsH1APCcH/ZbCP0ArdX+rK59awAAAAAAAoGBA",
            "dtype": "f8",
            "shape": "25, 3"
           },
           "hovertemplate": "<b>%{hovertext}</b><br><br>Month-Year=Jul 2022<br>Arrests=%{marker.color}<extra></extra>",
           "hovertext": [
            "San Francisco",
            "St. Paul",
            "Newark",
            "Phoenix",
            "Los Angeles",
            "New York City",
            "Philadelphia",
            "Salt Lake City",
            "San Diego",
            "San Antonio",
            "New Orleans",
            "Miami",
            "Seattle",
            "Baltimore",
            "Atlanta",
            "Chicago",
            "Denver",
            "Washington DC",
            "Dallas",
            "Detroit",
            "Boston",
            "Buffalo",
            "Houston",
            "Harlingen",
            "El Paso"
           ],
           "lat": {
            "bdata": "Y4+awL7jQkCS9YpdkXlGQGgJMgIqXkRAwGmwX2a5QEDhy+lX3wZBQFk4pKw6W0RA48+m2fL5Q0BxMrs4O2FEQLE+1GzUW0BABOBEmbJsPUCcc0sG2/k9QOdzSTAwxjlAM+PIXkrNR0ALgbebO6VDQO15o/ve30BAFNEKZxLwRECjAWFMn95DQLZb3JCQckNA4qar4FxjQEDNOohCcCpFQPtzdtd+LUVAAOn27X9xRUBjrxzGScI9QEUSGEbVMDpAPCcH/ZbCP0A=",
            "dtype": "f8"
           },
           "legendgroup": "",
           "lon": {
            "bdata": "wtGfR9aaXsCgSnJl9UVXwNjaVg4Ii1LAvJLkub4EXMArpWd6iY9dwNnRk41igFLAgkKYNnfKUsA4TDRIwfhbwBctQNtqSl3ANZvHYbCfWMBwKNdvAYVWwH/2I0VkDFTAwOldvB+VXsA2r+qsFidTwMKyiBf6GFXAdjtWhPbnVcCvRKD6Bz9awBVaMbdWQlPA+ofjr/8yWMA+y5gn/MJUwBeDh2nfw1HA7wPrkze4U8DA9KxaiNdXwKaj0j6MbFjAK3V/qyufWsA=",
            "dtype": "f8"
           },
           "marker": {
            "color": {
             "bdata": "dwDKAJUE2wESAmcCpgBkATcAdQEBA3ECqQBUADACPgLLAJQAWAQhAW8DZwCNAtsBhQA=",
             "dtype": "i2"
            },
            "coloraxis": "coloraxis",
            "size": {
             "bdata": "dwDKAJUE2wESAmcCpgBkATcAdQEBA3ECqQBUADACPgLLAJQAWAQhAW8DZwCNAtsBhQA=",
             "dtype": "i2"
            },
            "sizemode": "area",
            "sizeref": 0.49207100591715974
           },
           "mode": "markers",
           "name": "",
           "showlegend": false,
           "subplot": "mapbox",
           "type": "scattermapbox"
          }
         ],
         "name": "Jul 2022"
        },
        {
         "data": [
          {
           "customdata": {
            "bdata": "RRIYRtUwOkCmo9I+jGxYwAAAAAAAqINAY4+awL7jQkDC0Z9H1ppewAAAAAAAgGFA53NJMDDGOUB/9iNFZAxUwAAAAAAAiIhAzTqIQnAqRUA+y5gn/MJUwAAAAAAAkHZAnHNLBtv5PUBwKNdvAYVWwAAAAAAAXJJA4qar4FxjQED6h+Ov/zJYwAAAAAAAiJdAFNEKZxLwREB2O1aE9udVwAAAAAAAmIdAY68cxknCPUDA9KxaiNdXwAAAAAAAMItAwGmwX2a5QEC8kuS5vgRcwAAAAAAAoIFAC4G3mzulQ0A2r+qsFidTwAAAAAAAQGxAtlvckJByQ0AVWjG3VkJTwAAAAAAAgGNAAOn27X9xRUDvA+uTN7hTwAAAAAAAgFJAcTK7ODthREA4TDRIwfhbwAAAAAAACIdA+3N2134tRUAXg4dp38NRwAAAAAAAUJBAPCcH/ZbCP0ArdX+rK59awAAAAAAAQGVAWTikrDpbREDZ0ZONYoBSwAAAAAAAUIZAsT7UbNRbQEAXLUDbakpdwAAAAAAAwFVAaAkyAipeREDY2lYOCItSwAAAAAAA2JRAM+PIXkrNR0DA6V28H5VewAAAAAAAYG1ABOBEmbJsPUA1m8dhsJ9YwAAAAAAAGIFAowFhTJ/eQ0CvRKD6Bz9awAAAAAAAoGtA7Xmj+97fQEDCsogX+hhVwAAAAAAAIIJA48+m2fL5Q0CCQpg2d8pSwAAAAAAAQF1A4cvpV98GQUArpWd6iY9dwAAAAAAASIJAkvWKXZF5RkCgSnJl9UVXwAAAAAAAMHRA",
            "dtype": "f8",
            "shape": "25, 3"
           },
           "hovertemplate": "<b>%{hovertext}</b><br><br>Month-Year=Aug 2022<br>Arrests=%{marker.color}<extra></extra>",
           "hovertext": [
            "Harlingen",
            "San Francisco",
            "Miami",
            "Detroit",
            "New Orleans",
            "Dallas",
            "Chicago",
            "Houston",
            "Phoenix",
            "Baltimore",
            "Washington DC",
            "Buffalo",
            "Salt Lake City",
            "Boston",
            "El Paso",
            "New York City",
            "San Diego",
            "Newark",
            "Seattle",
            "San Antonio",
            "Denver",
            "Atlanta",
            "Philadelphia",
            "Los Angeles",
            "St. Paul"
           ],
           "lat": {
            "bdata": "RRIYRtUwOkBjj5rAvuNCQOdzSTAwxjlAzTqIQnAqRUCcc0sG2/k9QOKmq+BcY0BAFNEKZxLwREBjrxzGScI9QMBpsF9muUBAC4G3mzulQ0C2W9yQkHJDQADp9u1/cUVAcTK7ODthRED7c3bXfi1FQDwnB/2Wwj9AWTikrDpbRECxPtRs1FtAQGgJMgIqXkRAM+PIXkrNR0AE4ESZsmw9QKMBYUyf3kNA7Xmj+97fQEDjz6bZ8vlDQOHL6VffBkFAkvWKXZF5RkA=",
            "dtype": "f8"
           },
           "legendgroup": "",
           "lon": {
            "bdata": "pqPSPoxsWMDC0Z9H1ppewH/2I0VkDFTAPsuYJ/zCVMBwKNdvAYVWwPqH46//MljAdjtWhPbnVcDA9KxaiNdXwLyS5Lm+BFzANq/qrBYnU8AVWjG3VkJTwO8D65M3uFPAOEw0SMH4W8AXg4dp38NRwCt1f6srn1rA2dGTjWKAUsAXLUDbakpdwNjaVg4Ii1LAwOldvB+VXsA1m8dhsJ9YwK9EoPoHP1rAwrKIF/oYVcCCQpg2d8pSwCulZ3qJj13AoEpyZfVFV8A=",
            "dtype": "f8"
           },
           "marker": {
            "color": {
             "bdata": "dQKMABEDaQGXBOIF8wJmAzQC4gCcAEoA4QIUBKoAygJXADYF6wAjAt0ARAJ1AEkCQwE=",
             "dtype": "i2"
            },
            "coloraxis": "coloraxis",
            "size": {
             "bdata": "dQKMABEDaQGXBOIF8wJmAzQC4gCcAEoA4QIUBKoAygJXADYF6wAjAt0ARAJ1AEkCQwE=",
             "dtype": "i2"
            },
            "sizemode": "area",
            "sizeref": 0.49207100591715974
           },
           "mode": "markers",
           "name": "",
           "showlegend": false,
           "subplot": "mapbox",
           "type": "scattermapbox"
          }
         ],
         "name": "Aug 2022"
        },
        {
         "data": [
          {
           "customdata": {
            "bdata": "4qar4FxjQED6h+Ov/zJYwAAAAAAACJtARRIYRtUwOkCmo9I+jGxYwAAAAAAAEH9AWTikrDpbREDZ0ZONYoBSwAAAAAAAKIBAPCcH/ZbCP0ArdX+rK59awAAAAAAAAGZABOBEmbJsPUA1m8dhsJ9YwAAAAAAAMH5AsT7UbNRbQEAXLUDbakpdwAAAAAAAADlAtlvckJByQ0AVWjG3VkJTwAAAAAAAIGJAY68cxknCPUDA9KxaiNdXwAAAAAAAkIhA7Xmj+97fQEDCsogX+hhVwAAAAAAA0IJAcTK7ODthREA4TDRIwfhbwAAAAAAAAIBAC4G3mzulQ0A2r+qsFidTwAAAAAAA4GhAnHNLBtv5PUBwKNdvAYVWwAAAAAAAmI1AFNEKZxLwREB2O1aE9udVwAAAAAAAAIhA53NJMDDGOUB/9iNFZAxUwAAAAAAAIH9AzTqIQnAqRUA+y5gn/MJUwAAAAAAAYHFAM+PIXkrNR0DA6V28H5VewAAAAAAAwGhAwGmwX2a5QEC8kuS5vgRcwAAAAAAAAHZAY4+awL7jQkDC0Z9H1ppewAAAAAAAQGRAaAkyAipeREDY2lYOCItSwAAAAAAA0JJA4cvpV98GQUArpWd6iY9dwAAAAAAAIIdA48+m2fL5Q0CCQpg2d8pSwAAAAAAAgGBA+3N2134tRUAXg4dp38NRwAAAAAAAQJNAowFhTJ/eQ0CvRKD6Bz9awAAAAAAAwGVAAOn27X9xRUDvA+uTN7hTwAAAAAAAwGBAkvWKXZF5RkCgSnJl9UVXwAAAAAAAMHJA",
            "dtype": "f8",
            "shape": "25, 3"
           },
           "hovertemplate": "<b>%{hovertext}</b><br><br>Month-Year=Sep 2022<br>Arrests=%{marker.color}<extra></extra>",
           "hovertext": [
            "Dallas",
            "Harlingen",
            "New York City",
            "El Paso",
            "San Antonio",
            "San Diego",
            "Washington DC",
            "Houston",
            "Atlanta",
            "Salt Lake City",
            "Baltimore",
            "New Orleans",
            "Chicago",
            "Miami",
            "Detroit",
            "Seattle",
            "Phoenix",
            "San Francisco",
            "Newark",
            "Los Angeles",
            "Philadelphia",
            "Boston",
            "Denver",
            "Buffalo",
            "St. Paul"
           ],
           "lat": {
            "bdata": "4qar4FxjQEBFEhhG1TA6QFk4pKw6W0RAPCcH/ZbCP0AE4ESZsmw9QLE+1GzUW0BAtlvckJByQ0BjrxzGScI9QO15o/ve30BAcTK7ODthREALgbebO6VDQJxzSwbb+T1AFNEKZxLwREDnc0kwMMY5QM06iEJwKkVAM+PIXkrNR0DAabBfZrlAQGOPmsC+40JAaAkyAipeREDhy+lX3wZBQOPPptny+UNA+3N2134tRUCjAWFMn95DQADp9u1/cUVAkvWKXZF5RkA=",
            "dtype": "f8"
           },
           "legendgroup": "",
           "lon": {
            "bdata": "+ofjr/8yWMCmo9I+jGxYwNnRk41igFLAK3V/qyufWsA1m8dhsJ9YwBctQNtqSl3AFVoxt1ZCU8DA9KxaiNdXwMKyiBf6GFXAOEw0SMH4W8A2r+qsFidTwHAo128BhVbAdjtWhPbnVcB/9iNFZAxUwD7LmCf8wlTAwOldvB+VXsC8kuS5vgRcwMLRn0fWml7A2NpWDgiLUsArpWd6iY9dwIJCmDZ3ylLAF4OHad/DUcCvRKD6Bz9awO8D65M3uFPAoEpyZfVFV8A=",
            "dtype": "f8"
           },
           "marker": {
            "color": {
             "bdata": "wgbxAQUCsADjARkAkQASA1oCAALHALMDAAPyARYBxgBgAaIAtATkAoQA0ASuAIYAIwE=",
             "dtype": "i2"
            },
            "coloraxis": "coloraxis",
            "size": {
             "bdata": "wgbxAQUCsADjARkAkQASA1oCAALHALMDAAPyARYBxgBgAaIAtATkAoQA0ASuAIYAIwE=",
             "dtype": "i2"
            },
            "sizemode": "area",
            "sizeref": 0.49207100591715974
           },
           "mode": "markers",
           "name": "",
           "showlegend": false,
           "subplot": "mapbox",
           "type": "scattermapbox"
          }
         ],
         "name": "Sep 2022"
        },
        {
         "data": [
          {
           "customdata": {
            "bdata": "4qar4FxjQED6h+Ov/zJYwAAAAAAAPqBA4cvpV98GQUArpWd6iY9dwAAAAAAAEIZAaAkyAipeREDY2lYOCItSwAAAAAAAXJNAowFhTJ/eQ0CvRKD6Bz9awAAAAAAAEHlAPCcH/ZbCP0ArdX+rK59awAAAAAAAIGtA48+m2fL5Q0CCQpg2d8pSwAAAAAAAQG1A53NJMDDGOUB/9iNFZAxUwAAAAAAAMIVAnHNLBtv5PUBwKNdvAYVWwAAAAAAACJBAY4+awL7jQkDC0Z9H1ppewAAAAAAA4GdAC4G3mzulQ0A2r+qsFidTwAAAAAAAwGRAsT7UbNRbQEAXLUDbakpdwAAAAAAAAENAwGmwX2a5QEC8kuS5vgRcwAAAAAAA0HNA7Xmj+97fQEDCsogX+hhVwAAAAAAAcIlA+3N2134tRUAXg4dp38NRwAAAAAAAmJJAFNEKZxLwREB2O1aE9udVwAAAAAAAIIlAAOn27X9xRUDvA+uTN7hTwAAAAAAAAFhAtlvckJByQ0AVWjG3VkJTwAAAAAAAoGdAkvWKXZF5RkCgSnJl9UVXwAAAAAAAkHtAzTqIQnAqRUA+y5gn/MJUwAAAAAAAUHFABOBEmbJsPUA1m8dhsJ9YwAAAAAAAsH9AM+PIXkrNR0DA6V28H5VewAAAAAAAAGlAY68cxknCPUDA9KxaiNdXwAAAAAAAPJBAWTikrDpbREDZ0ZONYoBSwAAAAAAAYINAcTK7ODthREA4TDRIwfhbwAAAAAAA+INARRIYRtUwOkCmo9I+jGxYwAAAAAAAuIBA",
            "dtype": "f8",
            "shape": "25, 3"
           },
           "hovertemplate": "<b>%{hovertext}</b><br><br>Month-Year=Oct 2022<br>Arrests=%{marker.color}<extra></extra>",
           "hovertext": [
            "Dallas",
            "Los Angeles",
            "Newark",
            "Denver",
            "El Paso",
            "Philadelphia",
            "Miami",
            "New Orleans",
            "San Francisco",
            "Baltimore",
            "San Diego",
            "Phoenix",
            "Atlanta",
            "Boston",
            "Chicago",
            "Buffalo",
            "Washington DC",
            "St. Paul",
            "Detroit",
            "San Antonio",
            "Seattle",
            "Houston",
            "New York City",
            "Salt Lake City",
            "Harlingen"
           ],
           "lat": {
            "bdata": "4qar4FxjQEDhy+lX3wZBQGgJMgIqXkRAowFhTJ/eQ0A8Jwf9lsI/QOPPptny+UNA53NJMDDGOUCcc0sG2/k9QGOPmsC+40JAC4G3mzulQ0CxPtRs1FtAQMBpsF9muUBA7Xmj+97fQED7c3bXfi1FQBTRCmcS8ERAAOn27X9xRUC2W9yQkHJDQJL1il2ReUZAzTqIQnAqRUAE4ESZsmw9QDPjyF5KzUdAY68cxknCPUBZOKSsOltEQHEyuzg7YURARRIYRtUwOkA=",
            "dtype": "f8"
           },
           "legendgroup": "",
           "lon": {
            "bdata": "+ofjr/8yWMArpWd6iY9dwNjaVg4Ii1LAr0Sg+gc/WsArdX+rK59awIJCmDZ3ylLAf/YjRWQMVMBwKNdvAYVWwMLRn0fWml7ANq/qrBYnU8AXLUDbakpdwLyS5Lm+BFzAwrKIF/oYVcAXg4dp38NRwHY7VoT251XA7wPrkze4U8AVWjG3VkJTwKBKcmX1RVfAPsuYJ/zCVMA1m8dhsJ9YwMDpXbwflV7AwPSsWojXV8DZ0ZONYoBSwDhMNEjB+FvApqPSPoxsWMA=",
            "dtype": "f8"
           },
           "marker": {
            "color": {
             "bdata": "HwjCAtcEkQHZAOoApgICBL8ApgAmAD0BLgOmBCQDYAC9ALkBFQH7AcgADwRsAn8CFwI=",
             "dtype": "i2"
            },
            "coloraxis": "coloraxis",
            "size": {
             "bdata": "HwjCAtcEkQHZAOoApgICBL8ApgAmAD0BLgOmBCQDYAC9ALkBFQH7AcgADwRsAn8CFwI=",
             "dtype": "i2"
            },
            "sizemode": "area",
            "sizeref": 0.49207100591715974
           },
           "mode": "markers",
           "name": "",
           "showlegend": false,
           "subplot": "mapbox",
           "type": "scattermapbox"
          }
         ],
         "name": "Oct 2022"
        },
        {
         "data": [
          {
           "customdata": {
            "bdata": "aAkyAipeREDY2lYOCItSwAAAAAAAGJJAowFhTJ/eQ0CvRKD6Bz9awAAAAAAAIHpA4qar4FxjQED6h+Ov/zJYwAAAAAAAOJpAPCcH/ZbCP0ArdX+rK59awAAAAAAAsHNA+3N2134tRUAXg4dp38NRwAAAAAAA2I1AtlvckJByQ0AVWjG3VkJTwAAAAAAAgGlAWTikrDpbREDZ0ZONYoBSwAAAAAAA4IJAcTK7ODthREA4TDRIwfhbwAAAAAAA8HxAnHNLBtv5PUBwKNdvAYVWwAAAAAAAmJNAzTqIQnAqRUA+y5gn/MJUwAAAAAAAAHlA48+m2fL5Q0CCQpg2d8pSwAAAAAAAgG1ABOBEmbJsPUA1m8dhsJ9YwAAAAAAAMHtAAOn27X9xRUDvA+uTN7hTwAAAAAAAgF9AsT7UbNRbQEAXLUDbakpdwAAAAAAAwFNAM+PIXkrNR0DA6V28H5VewAAAAAAAIGlAC4G3mzulQ0A2r+qsFidTwAAAAAAAAF9ARRIYRtUwOkCmo9I+jGxYwAAAAAAA2IBA4cvpV98GQUArpWd6iY9dwAAAAAAAMIlA7Xmj+97fQEDCsogX+hhVwAAAAAAA8IhAkvWKXZF5RkCgSnJl9UVXwAAAAAAA8HlAwGmwX2a5QEC8kuS5vgRcwAAAAAAAYHNAY4+awL7jQkDC0Z9H1ppewAAAAAAAIHdA53NJMDDGOUB/9iNFZAxUwAAAAAAAqINAY68cxknCPUDA9KxaiNdXwAAAAAAAiJBAFNEKZxLwREB2O1aE9udVwAAAAAAA0IdA",
            "dtype": "f8",
            "shape": "25, 3"
           },
           "hovertemplate": "<b>%{hovertext}</b><br><br>Month-Year=Nov 2022<br>Arrests=%{marker.color}<extra></extra>",
           "hovertext": [
            "Newark",
            "Denver",
            "Dallas",
            "El Paso",
            "Boston",
            "Washington DC",
            "New York City",
            "Salt Lake City",
            "New Orleans",
            "Detroit",
            "Philadelphia",
            "San Antonio",
            "Buffalo",
            "San Diego",
            "Seattle",
            "Baltimore",
            "Harlingen",
            "Los Angeles",
            "Atlanta",
            "St. Paul",
            "Phoenix",
            "San Francisco",
            "Miami",
            "Houston",
            "Chicago"
           ],
           "lat": {
            "bdata": "aAkyAipeRECjAWFMn95DQOKmq+BcY0BAPCcH/ZbCP0D7c3bXfi1FQLZb3JCQckNAWTikrDpbREBxMrs4O2FEQJxzSwbb+T1AzTqIQnAqRUDjz6bZ8vlDQATgRJmybD1AAOn27X9xRUCxPtRs1FtAQDPjyF5KzUdAC4G3mzulQ0BFEhhG1TA6QOHL6VffBkFA7Xmj+97fQECS9YpdkXlGQMBpsF9muUBAY4+awL7jQkDnc0kwMMY5QGOvHMZJwj1AFNEKZxLwREA=",
            "dtype": "f8"
           },
           "legendgroup": "",
           "lon": {
            "bdata": "2NpWDgiLUsCvRKD6Bz9awPqH46//MljAK3V/qyufWsAXg4dp38NRwBVaMbdWQlPA2dGTjWKAUsA4TDRIwfhbwHAo128BhVbAPsuYJ/zCVMCCQpg2d8pSwDWbx2Gwn1jA7wPrkze4U8AXLUDbakpdwMDpXbwflV7ANq/qrBYnU8Cmo9I+jGxYwCulZ3qJj13AwrKIF/oYVcCgSnJl9UVXwLyS5Lm+BFzAwtGfR9aaXsB/9iNFZAxUwMD0rFqI11fAdjtWhPbnVcA=",
            "dtype": "f8"
           },
           "marker": {
            "color": {
             "bdata": "hgSiAY4GOwG7A8wAXALPAeYEkAHsALMBfgBPAMkAfAAbAiYDHgOfATYBcgF1AiIE+gI=",
             "dtype": "i2"
            },
            "coloraxis": "coloraxis",
            "size": {
             "bdata": "hgSiAY4GOwG7A8wAXALPAeYEkAHsALMBfgBPAMkAfAAbAiYDHgOfATYBcgF1AiIE+gI=",
             "dtype": "i2"
            },
            "sizemode": "area",
            "sizeref": 0.49207100591715974
           },
           "mode": "markers",
           "name": "",
           "showlegend": false,
           "subplot": "mapbox",
           "type": "scattermapbox"
          }
         ],
         "name": "Nov 2022"
        },
        {
         "data": [
          {
           "customdata": {
            "bdata": "7Xmj+97fQEDCsogX+hhVwAAAAAAAYHtAPCcH/ZbCP0ArdX+rK59awAAAAAAAIGlAAOn27X9xRUDvA+uTN7hTwAAAAAAAQFtA+3N2134tRUAXg4dp38NRwAAAAAAAEI9AwGmwX2a5QEC8kuS5vgRcwAAAAAAAUHNAsT7UbNRbQEAXLUDbakpdwAAAAAAAwFRA48+m2fL5Q0CCQpg2d8pSwAAAAAAAIGxA4qar4FxjQED6h+Ov/zJYwAAAAAAA9JJAM+PIXkrNR0DA6V28H5VewAAAAAAA4GZABOBEmbJsPUA1m8dhsJ9YwAAAAAAAgHVAY4+awL7jQkDC0Z9H1ppewAAAAAAAEHRAowFhTJ/eQ0CvRKD6Bz9awAAAAAAA0IJAWTikrDpbREDZ0ZONYoBSwAAAAAAA6IJAC4G3mzulQ0A2r+qsFidTwAAAAAAAQGBARRIYRtUwOkCmo9I+jGxYwAAAAAAAIHVA4cvpV98GQUArpWd6iY9dwAAAAAAAaJBAkvWKXZF5RkCgSnJl9UVXwAAAAAAAIHVAtlvckJByQ0AVWjG3VkJTwAAAAAAA4GRAnHNLBtv5PUBwKNdvAYVWwAAAAAAAJJNAY68cxknCPUDA9KxaiNdXwAAAAAAAuJFAcTK7ODthREA4TDRIwfhbwAAAAAAAUIlA53NJMDDGOUB/9iNFZAxUwAAAAAAAKIZAzTqIQnAqRUA+y5gn/MJUwAAAAAAA8HFAFNEKZxLwREB2O1aE9udVwAAAAAAAgIRAaAkyAipeREDY2lYOCItSwAAAAAAAAIxA",
            "dtype": "f8",
            "shape": "25, 3"
           },
           "hovertemplate": "<b>%{hovertext}</b><br><br>Month-Year=Dec 2022<br>Arrests=%{marker.color}<extra></extra>",
           "hovertext": [
            "Atlanta",
            "El Paso",
            "Buffalo",
            "Boston",
            "Phoenix",
            "San Diego",
            "Philadelphia",
            "Dallas",
            "Seattle",
            "San Antonio",
            "San Francisco",
            "Denver",
            "New York City",
            "Baltimore",
            "Harlingen",
            "Los Angeles",
            "St. Paul",
            "Washington DC",
            "New Orleans",
            "Houston",
            "Salt Lake City",
            "Miami",
            "Detroit",
            "Chicago",
            "Newark"
           ],
           "lat": {
            "bdata": "7Xmj+97fQEA8Jwf9lsI/QADp9u1/cUVA+3N2134tRUDAabBfZrlAQLE+1GzUW0BA48+m2fL5Q0DipqvgXGNAQDPjyF5KzUdABOBEmbJsPUBjj5rAvuNCQKMBYUyf3kNAWTikrDpbREALgbebO6VDQEUSGEbVMDpA4cvpV98GQUCS9YpdkXlGQLZb3JCQckNAnHNLBtv5PUBjrxzGScI9QHEyuzg7YURA53NJMDDGOUDNOohCcCpFQBTRCmcS8ERAaAkyAipeREA=",
            "dtype": "f8"
           },
           "legendgroup": "",
           "lon": {
            "bdata": "wrKIF/oYVcArdX+rK59awO8D65M3uFPAF4OHad/DUcC8kuS5vgRcwBctQNtqSl3AgkKYNnfKUsD6h+Ov/zJYwMDpXbwflV7ANZvHYbCfWMDC0Z9H1ppewK9EoPoHP1rA2dGTjWKAUsA2r+qsFidTwKaj0j6MbFjAK6VneomPXcCgSnJl9UVXwBVaMbdWQlPAcCjXbwGFVsDA9KxaiNdXwDhMNEjB+FvAf/YjRWQMVMA+y5gn/MJUwHY7VoT251XA2NpWDgiLUsA=",
            "dtype": "f8"
           },
           "marker": {
            "color": {
             "bdata": "tgHJAG0A4gM1AVMA4QC9BLcAWAFBAVoCXQKCAFIBGgRSAacAyQRuBCoDxQIfAZACgAM=",
             "dtype": "i2"
            },
            "coloraxis": "coloraxis",
            "size": {
             "bdata": "tgHJAG0A4gM1AVMA4QC9BLcAWAFBAVoCXQKCAFIBGgRSAacAyQRuBCoDxQIfAZACgAM=",
             "dtype": "i2"
            },
            "sizemode": "area",
            "sizeref": 0.49207100591715974
           },
           "mode": "markers",
           "name": "",
           "showlegend": false,
           "subplot": "mapbox",
           "type": "scattermapbox"
          }
         ],
         "name": "Dec 2022"
        },
        {
         "data": [
          {
           "customdata": {
            "bdata": "WTikrDpbREDZ0ZONYoBSwAAAAAAA0IhA7Xmj+97fQEDCsogX+hhVwAAAAAAAiIBA+3N2134tRUAXg4dp38NRwAAAAAAAYJJAcTK7ODthREA4TDRIwfhbwAAAAAAA6IxAowFhTJ/eQ0CvRKD6Bz9awAAAAAAAnJNAY68cxknCPUDA9KxaiNdXwAAAAAAAyJJABOBEmbJsPUA1m8dhsJ9YwAAAAAAAMHdA53NJMDDGOUB/9iNFZAxUwAAAAAAA8IVA4qar4FxjQED6h+Ov/zJYwAAAAAAAUJZAzTqIQnAqRUA+y5gn/MJUwAAAAAAA0HJAaAkyAipeREDY2lYOCItSwAAAAAAAcJJA4cvpV98GQUArpWd6iY9dwAAAAAAANJFAM+PIXkrNR0DA6V28H5VewAAAAAAAwHRAwGmwX2a5QEC8kuS5vgRcwAAAAAAAMHZARRIYRtUwOkCmo9I+jGxYwAAAAAAA4G5AFNEKZxLwREB2O1aE9udVwAAAAAAAKIlAAOn27X9xRUDvA+uTN7hTwAAAAAAAoGtA48+m2fL5Q0CCQpg2d8pSwAAAAAAA0HNAPCcH/ZbCP0ArdX+rK59awAAAAAAAUHJAnHNLBtv5PUBwKNdvAYVWwAAAAAAAWJhAtlvckJByQ0AVWjG3VkJTwAAAAAAAgGZAY4+awL7jQkDC0Z9H1ppewAAAAAAAIHBAkvWKXZF5RkCgSnJl9UVXwAAAAAAA0HtAsT7UbNRbQEAXLUDbakpdwAAAAAAA4GFAC4G3mzulQ0A2r+qsFidTwAAAAAAAAEBA",
            "dtype": "f8",
            "shape": "25, 3"
           },
           "hovertemplate": "<b>%{hovertext}</b><br><br>Month-Year=Jan 2023<br>Arrests=%{marker.color}<extra></extra>",
           "hovertext": [
            "New York City",
            "Atlanta",
            "Boston",
            "Salt Lake City",
            "Denver",
            "Houston",
            "San Antonio",
            "Miami",
            "Dallas",
            "Detroit",
            "Newark",
            "Los Angeles",
            "Seattle",
            "Phoenix",
            "Harlingen",
            "Chicago",
            "Buffalo",
            "Philadelphia",
            "El Paso",
            "New Orleans",
            "Washington DC",
            "San Francisco",
            "St. Paul",
            "San Diego",
            "Baltimore"
           ],
           "lat": {
            "bdata": "WTikrDpbREDteaP73t9AQPtzdtd+LUVAcTK7ODthRECjAWFMn95DQGOvHMZJwj1ABOBEmbJsPUDnc0kwMMY5QOKmq+BcY0BAzTqIQnAqRUBoCTICKl5EQOHL6VffBkFAM+PIXkrNR0DAabBfZrlAQEUSGEbVMDpAFNEKZxLwREAA6fbtf3FFQOPPptny+UNAPCcH/ZbCP0Ccc0sG2/k9QLZb3JCQckNAY4+awL7jQkCS9YpdkXlGQLE+1GzUW0BAC4G3mzulQ0A=",
            "dtype": "f8"
           },
           "legendgroup": "",
           "lon": {
            "bdata": "2dGTjWKAUsDCsogX+hhVwBeDh2nfw1HAOEw0SMH4W8CvRKD6Bz9awMD0rFqI11fANZvHYbCfWMB/9iNFZAxUwPqH46//MljAPsuYJ/zCVMDY2lYOCItSwCulZ3qJj13AwOldvB+VXsC8kuS5vgRcwKaj0j6MbFjAdjtWhPbnVcDvA+uTN7hTwIJCmDZ3ylLAK3V/qyufWsBwKNdvAYVWwBVaMbdWQlPAwtGfR9aaXsCgSnJl9UVXwBctQNtqSl3ANq/qrBYnU8A=",
            "dtype": "f8"
           },
           "marker": {
            "color": {
             "bdata": "GgMRApgEnQPnBLIEcwG+ApQFLQGcBE0ETAFjAfcAJQPdAD0BJQEWBrQAAgG9AY8AIAA=",
             "dtype": "i2"
            },
            "coloraxis": "coloraxis",
            "size": {
             "bdata": "GgMRApgEnQPnBLIEcwG+ApQFLQGcBE0ETAFjAfcAJQPdAD0BJQEWBrQAAgG9AY8AIAA=",
             "dtype": "i2"
            },
            "sizemode": "area",
            "sizeref": 0.49207100591715974
           },
           "mode": "markers",
           "name": "",
           "showlegend": false,
           "subplot": "mapbox",
           "type": "scattermapbox"
          }
         ],
         "name": "Jan 2023"
        },
        {
         "data": [
          {
           "customdata": {
            "bdata": "53NJMDDGOUB/9iNFZAxUwAAAAAAAwIZAkvWKXZF5RkCgSnJl9UVXwAAAAAAA8HlAC4G3mzulQ0A2r+qsFidTwAAAAAAAgF5A4cvpV98GQUArpWd6iY9dwAAAAAAAwI5AowFhTJ/eQ0CvRKD6Bz9awAAAAAAAuI9AcTK7ODthREA4TDRIwfhbwAAAAAAAcHhAFNEKZxLwREB2O1aE9udVwAAAAAAAKItAzTqIQnAqRUA+y5gn/MJUwAAAAAAAYGxAY68cxknCPUDA9KxaiNdXwAAAAAAAlJFAaAkyAipeREDY2lYOCItSwAAAAAAAIJJAnHNLBtv5PUBwKNdvAYVWwAAAAAAAbJNAM+PIXkrNR0DA6V28H5VewAAAAAAAEHNA4qar4FxjQED6h+Ov/zJYwAAAAAAAEJRAWTikrDpbREDZ0ZONYoBSwAAAAAAAIIZAtlvckJByQ0AVWjG3VkJTwAAAAAAAoGFA7Xmj+97fQEDCsogX+hhVwAAAAAAAUIBARRIYRtUwOkCmo9I+jGxYwAAAAAAA8HNA+3N2134tRUAXg4dp38NRwAAAAAAAOIZABOBEmbJsPUA1m8dhsJ9YwAAAAAAAoHZAsT7UbNRbQEAXLUDbakpdwAAAAAAAgFlAAOn27X9xRUDvA+uTN7hTwAAAAAAAwF5APCcH/ZbCP0ArdX+rK59awAAAAAAAoG5AY4+awL7jQkDC0Z9H1ppewAAAAAAAAGxAwGmwX2a5QEC8kuS5vgRcwAAAAAAAQHZA48+m2fL5Q0CCQpg2d8pSwAAAAAAA8HFA",
            "dtype": "f8",
            "shape": "25, 3"
           },
           "hovertemplate": "<b>%{hovertext}</b><br><br>Month-Year=Feb 2023<br>Arrests=%{marker.color}<extra></extra>",
           "hovertext": [
            "Miami",
            "St. Paul",
            "Baltimore",
            "Los Angeles",
            "Denver",
            "Salt Lake City",
            "Chicago",
            "Detroit",
            "Houston",
            "Newark",
            "New Orleans",
            "Seattle",
            "Dallas",
            "New York City",
            "Washington DC",
            "Atlanta",
            "Harlingen",
            "Boston",
            "San Antonio",
            "San Diego",
            "Buffalo",
            "El Paso",
            "San Francisco",
            "Phoenix",
            "Philadelphia"
           ],
           "lat": {
            "bdata": "53NJMDDGOUCS9YpdkXlGQAuBt5s7pUNA4cvpV98GQUCjAWFMn95DQHEyuzg7YURAFNEKZxLwREDNOohCcCpFQGOvHMZJwj1AaAkyAipeRECcc0sG2/k9QDPjyF5KzUdA4qar4FxjQEBZOKSsOltEQLZb3JCQckNA7Xmj+97fQEBFEhhG1TA6QPtzdtd+LUVABOBEmbJsPUCxPtRs1FtAQADp9u1/cUVAPCcH/ZbCP0Bjj5rAvuNCQMBpsF9muUBA48+m2fL5Q0A=",
            "dtype": "f8"
           },
           "legendgroup": "",
           "lon": {
            "bdata": "f/YjRWQMVMCgSnJl9UVXwDav6qwWJ1PAK6VneomPXcCvRKD6Bz9awDhMNEjB+FvAdjtWhPbnVcA+y5gn/MJUwMD0rFqI11fA2NpWDgiLUsBwKNdvAYVWwMDpXbwflV7A+ofjr/8yWMDZ0ZONYoBSwBVaMbdWQlPAwrKIF/oYVcCmo9I+jGxYwBeDh2nfw1HANZvHYbCfWMAXLUDbakpdwO8D65M3uFPAK3V/qyufWsDC0Z9H1ppewLyS5Lm+BFzAgkKYNnfKUsA=",
            "dtype": "f8"
           },
           "marker": {
            "color": {
             "bdata": "2AKfAXoA2AP3A4cBZQPjAGUEiATbBDEBBAXEAo0ACgI/AccCagFmAHsA9QDgAGQBHwE=",
             "dtype": "i2"
            },
            "coloraxis": "coloraxis",
            "size": {
             "bdata": "2AKfAXoA2AP3A4cBZQPjAGUEiATbBDEBBAXEAo0ACgI/AccCagFmAHsA9QDgAGQBHwE=",
             "dtype": "i2"
            },
            "sizemode": "area",
            "sizeref": 0.49207100591715974
           },
           "mode": "markers",
           "name": "",
           "showlegend": false,
           "subplot": "mapbox",
           "type": "scattermapbox"
          }
         ],
         "name": "Feb 2023"
        },
        {
         "data": [
          {
           "customdata": {
            "bdata": "48+m2fL5Q0CCQpg2d8pSwAAAAAAAQGVAkvWKXZF5RkCgSnJl9UVXwAAAAAAAcHhAcTK7ODthREA4TDRIwfhbwAAAAAAAMHRAAOn27X9xRUDvA+uTN7hTwAAAAAAAwFFAowFhTJ/eQ0CvRKD6Bz9awAAAAAAAGIdA4cvpV98GQUArpWd6iY9dwAAAAAAAEIxAaAkyAipeREDY2lYOCItSwAAAAAAAeIxAFNEKZxLwREB2O1aE9udVwAAAAAAAMItAY68cxknCPUDA9KxaiNdXwAAAAAAAuJNAtlvckJByQ0AVWjG3VkJTwAAAAAAAQGdAM+PIXkrNR0DA6V28H5VewAAAAAAAIHdA7Xmj+97fQEDCsogX+hhVwAAAAAAAcIFAPCcH/ZbCP0ArdX+rK59awAAAAAAAIGNAnHNLBtv5PUBwKNdvAYVWwAAAAAAALJBAC4G3mzulQ0A2r+qsFidTwAAAAAAAQFRAsT7UbNRbQEAXLUDbakpdwAAAAAAAgGBA53NJMDDGOUB/9iNFZAxUwAAAAAAACIpARRIYRtUwOkCmo9I+jGxYwAAAAAAAEIBAwGmwX2a5QEC8kuS5vgRcwAAAAAAAMHpAWTikrDpbREDZ0ZONYoBSwAAAAAAA8IRAzTqIQnAqRUA+y5gn/MJUwAAAAAAAIGlAY4+awL7jQkDC0Z9H1ppewAAAAAAAUHFA4qar4FxjQED6h+Ov/zJYwAAAAAAAoJZABOBEmbJsPUA1m8dhsJ9YwAAAAAAA2IBA+3N2134tRUAXg4dp38NRwAAAAAAAgIlA",
            "dtype": "f8",
            "shape": "25, 3"
           },
           "hovertemplate": "<b>%{hovertext}</b><br><br>Month-Year=Mar 2023<br>Arrests=%{marker.color}<extra></extra>",
           "hovertext": [
            "Philadelphia",
            "St. Paul",
            "Salt Lake City",
            "Buffalo",
            "Denver",
            "Los Angeles",
            "Newark",
            "Chicago",
            "Houston",
            "Washington DC",
            "Seattle",
            "Atlanta",
            "El Paso",
            "New Orleans",
            "Baltimore",
            "San Diego",
            "Miami",
            "Harlingen",
            "Phoenix",
            "New York City",
            "Detroit",
            "San Francisco",
            "Dallas",
            "San Antonio",
            "Boston"
           ],
           "lat": {
            "bdata": "48+m2fL5Q0CS9YpdkXlGQHEyuzg7YURAAOn27X9xRUCjAWFMn95DQOHL6VffBkFAaAkyAipeREAU0QpnEvBEQGOvHMZJwj1AtlvckJByQ0Az48heSs1HQO15o/ve30BAPCcH/ZbCP0Ccc0sG2/k9QAuBt5s7pUNAsT7UbNRbQEDnc0kwMMY5QEUSGEbVMDpAwGmwX2a5QEBZOKSsOltEQM06iEJwKkVAY4+awL7jQkDipqvgXGNAQATgRJmybD1A+3N2134tRUA=",
            "dtype": "f8"
           },
           "legendgroup": "",
           "lon": {
            "bdata": "gkKYNnfKUsCgSnJl9UVXwDhMNEjB+FvA7wPrkze4U8CvRKD6Bz9awCulZ3qJj13A2NpWDgiLUsB2O1aE9udVwMD0rFqI11fAFVoxt1ZCU8DA6V28H5VewMKyiBf6GFXAK3V/qyufWsBwKNdvAYVWwDav6qwWJ1PAFy1A22pKXcB/9iNFZAxUwKaj0j6MbFjAvJLkub4EXMDZ0ZONYoBSwD7LmCf8wlTAwtGfR9aaXsD6h+Ov/zJYwDWbx2Gwn1jAF4OHad/DUcA=",
            "dtype": "f8"
           },
           "marker": {
            "color": {
             "bdata": "qgCHAUMBRwDjAoIDjwNmA+4EugByAS4CmQALBFEAhABBAwICowGeAskAFQGoBRsCMAM=",
             "dtype": "i2"
            },
            "coloraxis": "coloraxis",
            "size": {
             "bdata": "qgCHAUMBRwDjAoIDjwNmA+4EugByAS4CmQALBFEAhABBAwICowGeAskAFQGoBRsCMAM=",
             "dtype": "i2"
            },
            "sizemode": "area",
            "sizeref": 0.49207100591715974
           },
           "mode": "markers",
           "name": "",
           "showlegend": false,
           "subplot": "mapbox",
           "type": "scattermapbox"
          }
         ],
         "name": "Mar 2023"
        },
        {
         "data": [
          {
           "customdata": {
            "bdata": "aAkyAipeREDY2lYOCItSwAAAAAAAQIJAwGmwX2a5QEC8kuS5vgRcwAAAAAAAwH1AC4G3mzulQ0A2r+qsFidTwAAAAAAAQFFAtlvckJByQ0AVWjG3VkJTwAAAAAAAgGJAWTikrDpbREDZ0ZONYoBSwAAAAAAAwINA53NJMDDGOUB/9iNFZAxUwAAAAAAAoIhA+3N2134tRUAXg4dp38NRwAAAAAAAoIVABOBEmbJsPUA1m8dhsJ9YwAAAAAAA8H1APCcH/ZbCP0ArdX+rK59awAAAAAAAAFhAnHNLBtv5PUBwKNdvAYVWwAAAAAAASIZAzTqIQnAqRUA+y5gn/MJUwAAAAAAAQGtAcTK7ODthREA4TDRIwfhbwAAAAAAAUHFA48+m2fL5Q0CCQpg2d8pSwAAAAAAAYGBAFNEKZxLwREB2O1aE9udVwAAAAAAAyIVAowFhTJ/eQ0CvRKD6Bz9awAAAAAAAcINAY4+awL7jQkDC0Z9H1ppewAAAAAAAQGRAY68cxknCPUDA9KxaiNdXwAAAAAAA0JJA7Xmj+97fQEDCsogX+hhVwAAAAAAAYH1AsT7UbNRbQEAXLUDbakpdwAAAAAAAAFFAM+PIXkrNR0DA6V28H5VewAAAAAAAIHRA4qar4FxjQED6h+Ov/zJYwAAAAAAAaJFARRIYRtUwOkCmo9I+jGxYwAAAAAAAsHpA4cvpV98GQUArpWd6iY9dwAAAAAAAIIZAAOn27X9xRUDvA+uTN7hTwAAAAAAAgERAkvWKXZF5RkCgSnJl9UVXwAAAAAAAEHRA",
            "dtype": "f8",
            "shape": "25, 3"
           },
           "hovertemplate": "<b>%{hovertext}</b><br><br>Month-Year=Apr 2023<br>Arrests=%{marker.color}<extra></extra>",
           "hovertext": [
            "Newark",
            "Phoenix",
            "Baltimore",
            "Washington DC",
            "New York City",
            "Miami",
            "Boston",
            "San Antonio",
            "El Paso",
            "New Orleans",
            "Detroit",
            "Salt Lake City",
            "Philadelphia",
            "Chicago",
            "Denver",
            "San Francisco",
            "Houston",
            "Atlanta",
            "San Diego",
            "Seattle",
            "Dallas",
            "Harlingen",
            "Los Angeles",
            "Buffalo",
            "St. Paul"
           ],
           "lat": {
            "bdata": "aAkyAipeREDAabBfZrlAQAuBt5s7pUNAtlvckJByQ0BZOKSsOltEQOdzSTAwxjlA+3N2134tRUAE4ESZsmw9QDwnB/2Wwj9AnHNLBtv5PUDNOohCcCpFQHEyuzg7YURA48+m2fL5Q0AU0QpnEvBEQKMBYUyf3kNAY4+awL7jQkBjrxzGScI9QO15o/ve30BAsT7UbNRbQEAz48heSs1HQOKmq+BcY0BARRIYRtUwOkDhy+lX3wZBQADp9u1/cUVAkvWKXZF5RkA=",
            "dtype": "f8"
           },
           "legendgroup": "",
           "lon": {
            "bdata": "2NpWDgiLUsC8kuS5vgRcwDav6qwWJ1PAFVoxt1ZCU8DZ0ZONYoBSwH/2I0VkDFTAF4OHad/DUcA1m8dhsJ9YwCt1f6srn1rAcCjXbwGFVsA+y5gn/MJUwDhMNEjB+FvAgkKYNnfKUsB2O1aE9udVwK9EoPoHP1rAwtGfR9aaXsDA9KxaiNdXwMKyiBf6GFXAFy1A22pKXcDA6V28H5VewPqH46//MljApqPSPoxsWMArpWd6iY9dwO8D65M3uFPAoEpyZfVFV8A=",
            "dtype": "f8"
           },
           "marker": {
            "color": {
             "bdata": "SALcAUUAlAB4AhQDtALfAWAAyQLaABUBgwC5Am4CogC0BNYBRABCAVoEqwHEAikAQQE=",
             "dtype": "i2"
            },
            "coloraxis": "coloraxis",
            "size": {
             "bdata": "SALcAUUAlAB4AhQDtALfAWAAyQLaABUBgwC5Am4CogC0BNYBRABCAVoEqwHEAikAQQE=",
             "dtype": "i2"
            },
            "sizemode": "area",
            "sizeref": 0.49207100591715974
           },
           "mode": "markers",
           "name": "",
           "showlegend": false,
           "subplot": "mapbox",
           "type": "scattermapbox"
          }
         ],
         "name": "Apr 2023"
        },
        {
         "data": [
          {
           "customdata": {
            "bdata": "4qar4FxjQED6h+Ov/zJYwAAAAAAAlJFA48+m2fL5Q0CCQpg2d8pSwAAAAAAAwGdAAOn27X9xRUDvA+uTN7hTwAAAAAAAAElAsT7UbNRbQEAXLUDbakpdwAAAAAAAgE1AcTK7ODthREA4TDRIwfhbwAAAAAAAQHBAPCcH/ZbCP0ArdX+rK59awAAAAAAAQF5AkvWKXZF5RkCgSnJl9UVXwAAAAAAAMHVAnHNLBtv5PUBwKNdvAYVWwAAAAAAAYIdA+3N2134tRUAXg4dp38NRwAAAAAAAoHhA53NJMDDGOUB/9iNFZAxUwAAAAAAAqIpA4cvpV98GQUArpWd6iY9dwAAAAAAA8IZAtlvckJByQ0AVWjG3VkJTwAAAAAAAAGRAowFhTJ/eQ0CvRKD6Bz9awAAAAAAAMINAaAkyAipeREDY2lYOCItSwAAAAAAAkIVAwGmwX2a5QEC8kuS5vgRcwAAAAAAAgIBAFNEKZxLwREB2O1aE9udVwAAAAAAAUIlAWTikrDpbREDZ0ZONYoBSwAAAAAAAsIVAC4G3mzulQ0A2r+qsFidTwAAAAAAAgF9AM+PIXkrNR0DA6V28H5VewAAAAAAAQGtAY4+awL7jQkDC0Z9H1ppewAAAAAAAwGtAzTqIQnAqRUA+y5gn/MJUwAAAAAAAgGlABOBEmbJsPUA1m8dhsJ9YwAAAAAAAMH1AY68cxknCPUDA9KxaiNdXwAAAAAAArJJA7Xmj+97fQEDCsogX+hhVwAAAAAAAwHxARRIYRtUwOkCmo9I+jGxYwAAAAAAAEHxA",
            "dtype": "f8",
            "shape": "25, 3"
           },
           "hovertemplate": "<b>%{hovertext}</b><br><br>Month-Year=May 2023<br>Arrests=%{marker.color}<extra></extra>",
           "hovertext": [
            "Dallas",
            "Philadelphia",
            "Buffalo",
            "San Diego",
            "Salt Lake City",
            "El Paso",
            "St. Paul",
            "New Orleans",
            "Boston",
            "Miami",
            "Los Angeles",
            "Washington DC",
            "Denver",
            "Newark",
            "Phoenix",
            "Chicago",
            "New York City",
            "Baltimore",
            "Seattle",
            "San Francisco",
            "Detroit",
            "San Antonio",
            "Houston",
            "Atlanta",
            "Harlingen"
           ],
           "lat": {
            "bdata": "4qar4FxjQEDjz6bZ8vlDQADp9u1/cUVAsT7UbNRbQEBxMrs4O2FEQDwnB/2Wwj9AkvWKXZF5RkCcc0sG2/k9QPtzdtd+LUVA53NJMDDGOUDhy+lX3wZBQLZb3JCQckNAowFhTJ/eQ0BoCTICKl5EQMBpsF9muUBAFNEKZxLwREBZOKSsOltEQAuBt5s7pUNAM+PIXkrNR0Bjj5rAvuNCQM06iEJwKkVABOBEmbJsPUBjrxzGScI9QO15o/ve30BARRIYRtUwOkA=",
            "dtype": "f8"
           },
           "legendgroup": "",
           "lon": {
            "bdata": "+ofjr/8yWMCCQpg2d8pSwO8D65M3uFPAFy1A22pKXcA4TDRIwfhbwCt1f6srn1rAoEpyZfVFV8BwKNdvAYVWwBeDh2nfw1HAf/YjRWQMVMArpWd6iY9dwBVaMbdWQlPAr0Sg+gc/WsDY2lYOCItSwLyS5Lm+BFzAdjtWhPbnVcDZ0ZONYoBSwDav6qwWJ1PAwOldvB+VXsDC0Z9H1ppewD7LmCf8wlTANZvHYbCfWMDA9KxaiNdXwMKyiBf6GFXApqPSPoxsWMA=",
            "dtype": "f8"
           },
           "marker": {
            "color": {
             "bdata": "ZQS+ADIAOwAEAXkAUwHsAooBVQPeAqAAZgKyAhACKgO2An4A2gDeAMwA0wGrBMwBwQE=",
             "dtype": "i2"
            },
            "coloraxis": "coloraxis",
            "size": {
             "bdata": "ZQS+ADIAOwAEAXkAUwHsAooBVQPeAqAAZgKyAhACKgO2An4A2gDeAMwA0wGrBMwBwQE=",
             "dtype": "i2"
            },
            "sizemode": "area",
            "sizeref": 0.49207100591715974
           },
           "mode": "markers",
           "name": "",
           "showlegend": false,
           "subplot": "mapbox",
           "type": "scattermapbox"
          }
         ],
         "name": "May 2023"
        },
        {
         "data": [
          {
           "customdata": {
            "bdata": "cTK7ODthREA4TDRIwfhbwAAAAAAAUHBA4qar4FxjQED6h+Ov/zJYwAAAAAAAMJBAFNEKZxLwREB2O1aE9udVwAAAAAAAeIpAwGmwX2a5QEC8kuS5vgRcwAAAAAAAcHlAWTikrDpbREDZ0ZONYoBSwAAAAAAAMIVA48+m2fL5Q0CCQpg2d8pSwAAAAAAAgFFA4cvpV98GQUArpWd6iY9dwAAAAAAACIRAY68cxknCPUDA9KxaiNdXwAAAAAAA0JFA7Xmj+97fQEDCsogX+hhVwAAAAAAA0HlAM+PIXkrNR0DA6V28H5VewAAAAAAAAG9AY4+awL7jQkDC0Z9H1ppewAAAAAAAAGhA53NJMDDGOUB/9iNFZAxUwAAAAAAAAIpAkvWKXZF5RkCgSnJl9UVXwAAAAAAAQG1ARRIYRtUwOkCmo9I+jGxYwAAAAAAAEHpAC4G3mzulQ0A2r+qsFidTwAAAAAAAwFZAtlvckJByQ0AVWjG3VkJTwAAAAAAAQGRAPCcH/ZbCP0ArdX+rK59awAAAAAAAQFtAsT7UbNRbQEAXLUDbakpdwAAAAAAAAEdAzTqIQnAqRUA+y5gn/MJUwAAAAAAAwFhAnHNLBtv5PUBwKNdvAYVWwAAAAAAAuIpABOBEmbJsPUA1m8dhsJ9YwAAAAAAAYH1AAOn27X9xRUDvA+uTN7hTwAAAAAAAAC5A+3N2134tRUAXg4dp38NRwAAAAAAAIG5AowFhTJ/eQ0CvRKD6Bz9awAAAAAAA0H1AaAkyAipeREDY2lYOCItSwAAAAAAAuIRA",
            "dtype": "f8",
            "shape": "25, 3"
           },
           "hovertemplate": "<b>%{hovertext}</b><br><br>Month-Year=Jun 2023<br>Arrests=%{marker.color}<extra></extra>",
           "hovertext": [
            "Salt Lake City",
            "Dallas",
            "Chicago",
            "Phoenix",
            "New York City",
            "Philadelphia",
            "Los Angeles",
            "Houston",
            "Atlanta",
            "Seattle",
            "San Francisco",
            "Miami",
            "St. Paul",
            "Harlingen",
            "Baltimore",
            "Washington DC",
            "El Paso",
            "San Diego",
            "Detroit",
            "New Orleans",
            "San Antonio",
            "Buffalo",
            "Boston",
            "Denver",
            "Newark"
           ],
           "lat": {
            "bdata": "cTK7ODthREDipqvgXGNAQBTRCmcS8ERAwGmwX2a5QEBZOKSsOltEQOPPptny+UNA4cvpV98GQUBjrxzGScI9QO15o/ve30BAM+PIXkrNR0Bjj5rAvuNCQOdzSTAwxjlAkvWKXZF5RkBFEhhG1TA6QAuBt5s7pUNAtlvckJByQ0A8Jwf9lsI/QLE+1GzUW0BAzTqIQnAqRUCcc0sG2/k9QATgRJmybD1AAOn27X9xRUD7c3bXfi1FQKMBYUyf3kNAaAkyAipeREA=",
            "dtype": "f8"
           },
           "legendgroup": "",
           "lon": {
            "bdata": "OEw0SMH4W8D6h+Ov/zJYwHY7VoT251XAvJLkub4EXMDZ0ZONYoBSwIJCmDZ3ylLAK6VneomPXcDA9KxaiNdXwMKyiBf6GFXAwOldvB+VXsDC0Z9H1ppewH/2I0VkDFTAoEpyZfVFV8Cmo9I+jGxYwDav6qwWJ1PAFVoxt1ZCU8ArdX+rK59awBctQNtqSl3APsuYJ/zCVMBwKNdvAYVWwDWbx2Gwn1jA7wPrkze4U8AXg4dp38NRwK9EoPoHP1rA2NpWDgiLUsA=",
            "dtype": "f8"
           },
           "marker": {
            "color": {
             "bdata": "BQEMBE8DlwGmAkYAgQJ0BJ0B+ADAAEAD6gChAVsAogBtAC4AYwBXA9YBDwDxAN0BlwI=",
             "dtype": "i2"
            },
            "coloraxis": "coloraxis",
            "size": {
             "bdata": "BQEMBE8DlwGmAkYAgQJ0BJ0B+ADAAEAD6gChAVsAogBtAC4AYwBXA9YBDwDxAN0BlwI=",
             "dtype": "i2"
            },
            "sizemode": "area",
            "sizeref": 0.49207100591715974
           },
           "mode": "markers",
           "name": "",
           "showlegend": false,
           "subplot": "mapbox",
           "type": "scattermapbox"
          }
         ],
         "name": "Jun 2023"
        },
        {
         "data": [
          {
           "customdata": {
            "bdata": "Y4+awL7jQkDC0Z9H1ppewAAAAAAAAGNAowFhTJ/eQ0CvRKD6Bz9awAAAAAAAkHJA53NJMDDGOUB/9iNFZAxUwAAAAAAAsINAAOn27X9xRUDvA+uTN7hTwAAAAAAAACpAcTK7ODthREA4TDRIwfhbwAAAAAAAgGlARRIYRtUwOkCmo9I+jGxYwAAAAAAAmIZA7Xmj+97fQEDCsogX+hhVwAAAAAAAQHdAY68cxknCPUDA9KxaiNdXwAAAAAAASI1AFNEKZxLwREB2O1aE9udVwAAAAAAAkIVA4qar4FxjQED6h+Ov/zJYwAAAAAAAEJBAM+PIXkrNR0DA6V28H5VewAAAAAAAgGhA48+m2fL5Q0CCQpg2d8pSwAAAAAAAAFpA+3N2134tRUAXg4dp38NRwAAAAAAA4GVA4cvpV98GQUArpWd6iY9dwAAAAAAA4IFAC4G3mzulQ0A2r+qsFidTwAAAAAAAgGFAzTqIQnAqRUA+y5gn/MJUwAAAAAAAwF5AtlvckJByQ0AVWjG3VkJTwAAAAAAAQGFAWTikrDpbREDZ0ZONYoBSwAAAAAAAIIdAsT7UbNRbQEAXLUDbakpdwAAAAAAAAD9AaAkyAipeREDY2lYOCItSwAAAAAAAcHpAPCcH/ZbCP0ArdX+rK59awAAAAAAAwFlABOBEmbJsPUA1m8dhsJ9YwAAAAAAAMH1AkvWKXZF5RkCgSnJl9UVXwAAAAAAAYGpAnHNLBtv5PUBwKNdvAYVWwAAAAAAAAIVAwGmwX2a5QEC8kuS5vgRcwAAAAAAAAHNA",
            "dtype": "f8",
            "shape": "25, 3"
           },
           "hovertemplate": "<b>%{hovertext}</b><br><br>Month-Year=Jul 2023<br>Arrests=%{marker.color}<extra></extra>",
           "hovertext": [
            "San Francisco",
            "Denver",
            "Miami",
            "Buffalo",
            "Salt Lake City",
            "Harlingen",
            "Atlanta",
            "Houston",
            "Chicago",
            "Dallas",
            "Seattle",
            "Philadelphia",
            "Boston",
            "Los Angeles",
            "Baltimore",
            "Detroit",
            "Washington DC",
            "New York City",
            "San Diego",
            "Newark",
            "El Paso",
            "San Antonio",
            "St. Paul",
            "New Orleans",
            "Phoenix"
           ],
           "lat": {
            "bdata": "Y4+awL7jQkCjAWFMn95DQOdzSTAwxjlAAOn27X9xRUBxMrs4O2FEQEUSGEbVMDpA7Xmj+97fQEBjrxzGScI9QBTRCmcS8ERA4qar4FxjQEAz48heSs1HQOPPptny+UNA+3N2134tRUDhy+lX3wZBQAuBt5s7pUNAzTqIQnAqRUC2W9yQkHJDQFk4pKw6W0RAsT7UbNRbQEBoCTICKl5EQDwnB/2Wwj9ABOBEmbJsPUCS9YpdkXlGQJxzSwbb+T1AwGmwX2a5QEA=",
            "dtype": "f8"
           },
           "legendgroup": "",
           "lon": {
            "bdata": "wtGfR9aaXsCvRKD6Bz9awH/2I0VkDFTA7wPrkze4U8A4TDRIwfhbwKaj0j6MbFjAwrKIF/oYVcDA9KxaiNdXwHY7VoT251XA+ofjr/8yWMDA6V28H5VewIJCmDZ3ylLAF4OHad/DUcArpWd6iY9dwDav6qwWJ1PAPsuYJ/zCVMAVWjG3VkJTwNnRk41igFLAFy1A22pKXcDY2lYOCItSwCt1f6srn1rANZvHYbCfWMCgSnJl9UVXwHAo128BhVbAvJLkub4EXMA=",
            "dtype": "f8"
           },
           "marker": {
            "color": {
             "bdata": "mAApAXYCDQDMANMCdAGpA7ICBATEAGgArwA8AowAewCKAOQCHwCnAWcA0wHTAKACMAE=",
             "dtype": "i2"
            },
            "coloraxis": "coloraxis",
            "size": {
             "bdata": "mAApAXYCDQDMANMCdAGpA7ICBATEAGgArwA8AowAewCKAOQCHwCnAWcA0wHTAKACMAE=",
             "dtype": "i2"
            },
            "sizemode": "area",
            "sizeref": 0.49207100591715974
           },
           "mode": "markers",
           "name": "",
           "showlegend": false,
           "subplot": "mapbox",
           "type": "scattermapbox"
          }
         ],
         "name": "Jul 2023"
        },
        {
         "data": [
          {
           "customdata": {
            "bdata": "BOBEmbJsPUA1m8dhsJ9YwAAAAAAA0IBAFNEKZxLwREB2O1aE9udVwAAAAAAAYIVAY4+awL7jQkDC0Z9H1ppewAAAAAAAoGZAcTK7ODthREA4TDRIwfhbwAAAAAAA4GZA+3N2134tRUAXg4dp38NRwAAAAAAAgGJAM+PIXkrNR0DA6V28H5VewAAAAAAAQGdAsT7UbNRbQEAXLUDbakpdwAAAAAAAADRA7Xmj+97fQEDCsogX+hhVwAAAAAAAwHpAAOn27X9xRUDvA+uTN7hTwAAAAAAAAEdAC4G3mzulQ0A2r+qsFidTwAAAAAAAQFhA4cvpV98GQUArpWd6iY9dwAAAAAAA4H1AzTqIQnAqRUA+y5gn/MJUwAAAAAAAYGNAWTikrDpbREDZ0ZONYoBSwAAAAAAAcIVAPCcH/ZbCP0ArdX+rK59awAAAAAAAgFFA4qar4FxjQED6h+Ov/zJYwAAAAAAAGIlAY68cxknCPUDA9KxaiNdXwAAAAAAASIZA53NJMDDGOUB/9iNFZAxUwAAAAAAAUIBAtlvckJByQ0AVWjG3VkJTwAAAAAAAQF9AowFhTJ/eQ0CvRKD6Bz9awAAAAAAAoIFARRIYRtUwOkCmo9I+jGxYwAAAAAAAAIhAwGmwX2a5QEC8kuS5vgRcwAAAAAAAoGxA48+m2fL5Q0CCQpg2d8pSwAAAAAAAAGZAaAkyAipeREDY2lYOCItSwAAAAAAAcHlAkvWKXZF5RkCgSnJl9UVXwAAAAAAAMHFAnHNLBtv5PUBwKNdvAYVWwAAAAAAAAIVA",
            "dtype": "f8",
            "shape": "25, 3"
           },
           "hovertemplate": "<b>%{hovertext}</b><br><br>Month-Year=Aug 2023<br>Arrests=%{marker.color}<extra></extra>",
           "hovertext": [
            "San Antonio",
            "Chicago",
            "San Francisco",
            "Salt Lake City",
            "Boston",
            "Seattle",
            "San Diego",
            "Atlanta",
            "Buffalo",
            "Baltimore",
            "Los Angeles",
            "Detroit",
            "New York City",
            "El Paso",
            "Dallas",
            "Houston",
            "Miami",
            "Washington DC",
            "Denver",
            "Harlingen",
            "Phoenix",
            "Philadelphia",
            "Newark",
            "St. Paul",
            "New Orleans"
           ],
           "lat": {
            "bdata": "BOBEmbJsPUAU0QpnEvBEQGOPmsC+40JAcTK7ODthRED7c3bXfi1FQDPjyF5KzUdAsT7UbNRbQEDteaP73t9AQADp9u1/cUVAC4G3mzulQ0Dhy+lX3wZBQM06iEJwKkVAWTikrDpbREA8Jwf9lsI/QOKmq+BcY0BAY68cxknCPUDnc0kwMMY5QLZb3JCQckNAowFhTJ/eQ0BFEhhG1TA6QMBpsF9muUBA48+m2fL5Q0BoCTICKl5EQJL1il2ReUZAnHNLBtv5PUA=",
            "dtype": "f8"
           },
           "legendgroup": "",
           "lon": {
            "bdata": "NZvHYbCfWMB2O1aE9udVwMLRn0fWml7AOEw0SMH4W8AXg4dp38NRwMDpXbwflV7AFy1A22pKXcDCsogX+hhVwO8D65M3uFPANq/qrBYnU8ArpWd6iY9dwD7LmCf8wlTA2dGTjWKAUsArdX+rK59awPqH46//MljAwPSsWojXV8B/9iNFZAxUwBVaMbdWQlPAr0Sg+gc/WsCmo9I+jGxYwLyS5Lm+BFzAgkKYNnfKUsDY2lYOCItSwKBKcmX1RVfAcCjXbwGFVsA=",
            "dtype": "f8"
           },
           "marker": {
            "color": {
             "bdata": "GgKsArUAtwCUALoAFACsAS4AYQDeAZsArgJGACMDyQIKAn0ANAIAA+UAsACXARMBoAI=",
             "dtype": "i2"
            },
            "coloraxis": "coloraxis",
            "size": {
             "bdata": "GgKsArUAtwCUALoAFACsAS4AYQDeAZsArgJGACMDyQIKAn0ANAIAA+UAsACXARMBoAI=",
             "dtype": "i2"
            },
            "sizemode": "area",
            "sizeref": 0.49207100591715974
           },
           "mode": "markers",
           "name": "",
           "showlegend": false,
           "subplot": "mapbox",
           "type": "scattermapbox"
          }
         ],
         "name": "Aug 2023"
        },
        {
         "data": [
          {
           "customdata": {
            "bdata": "PCcH/ZbCP0ArdX+rK59awAAAAAAAoHRAsT7UbNRbQEAXLUDbakpdwAAAAAAAADdA48+m2fL5Q0CCQpg2d8pSwAAAAAAAAFlAC4G3mzulQ0A2r+qsFidTwAAAAAAAAFVAnHNLBtv5PUBwKNdvAYVWwAAAAAAAyINA4qar4FxjQED6h+Ov/zJYwAAAAAAAuIlAtlvckJByQ0AVWjG3VkJTwAAAAAAAgFRA7Xmj+97fQEDCsogX+hhVwAAAAAAAoHhAcTK7ODthREA4TDRIwfhbwAAAAAAAwGRA53NJMDDGOUB/9iNFZAxUwAAAAAAAeIBAkvWKXZF5RkCgSnJl9UVXwAAAAAAAIGZAwGmwX2a5QEC8kuS5vgRcwAAAAAAAYGtAY68cxknCPUDA9KxaiNdXwAAAAAAAcINAowFhTJ/eQ0CvRKD6Bz9awAAAAAAAMHBAM+PIXkrNR0DA6V28H5VewAAAAAAAgGVAY4+awL7jQkDC0Z9H1ppewAAAAAAAgGFAWTikrDpbREDZ0ZONYoBSwAAAAAAAoHxAaAkyAipeREDY2lYOCItSwAAAAAAA8HFAFNEKZxLwREB2O1aE9udVwAAAAAAAIIFA+3N2134tRUAXg4dp38NRwAAAAAAAgFdABOBEmbJsPUA1m8dhsJ9YwAAAAAAA8IRARRIYRtUwOkCmo9I+jGxYwAAAAAAAIHxAzTqIQnAqRUA+y5gn/MJUwAAAAAAAgGBA4cvpV98GQUArpWd6iY9dwAAAAAAAQHVA",
            "dtype": "f8",
            "shape": "24, 3"
           },
           "hovertemplate": "<b>%{hovertext}</b><br><br>Month-Year=Sep 2023<br>Arrests=%{marker.color}<extra></extra>",
           "hovertext": [
            "El Paso",
            "San Diego",
            "Philadelphia",
            "Baltimore",
            "New Orleans",
            "Dallas",
            "Washington DC",
            "Atlanta",
            "Salt Lake City",
            "Miami",
            "St. Paul",
            "Phoenix",
            "Houston",
            "Denver",
            "Seattle",
            "San Francisco",
            "New York City",
            "Newark",
            "Chicago",
            "Boston",
            "San Antonio",
            "Harlingen",
            "Detroit",
            "Los Angeles"
           ],
           "lat": {
            "bdata": "PCcH/ZbCP0CxPtRs1FtAQOPPptny+UNAC4G3mzulQ0Ccc0sG2/k9QOKmq+BcY0BAtlvckJByQ0DteaP73t9AQHEyuzg7YURA53NJMDDGOUCS9YpdkXlGQMBpsF9muUBAY68cxknCPUCjAWFMn95DQDPjyF5KzUdAY4+awL7jQkBZOKSsOltEQGgJMgIqXkRAFNEKZxLwRED7c3bXfi1FQATgRJmybD1ARRIYRtUwOkDNOohCcCpFQOHL6VffBkFA",
            "dtype": "f8"
           },
           "legendgroup": "",
           "lon": {
            "bdata": "K3V/qyufWsAXLUDbakpdwIJCmDZ3ylLANq/qrBYnU8BwKNdvAYVWwPqH46//MljAFVoxt1ZCU8DCsogX+hhVwDhMNEjB+FvAf/YjRWQMVMCgSnJl9UVXwLyS5Lm+BFzAwPSsWojXV8CvRKD6Bz9awMDpXbwflV7AwtGfR9aaXsDZ0ZONYoBSwNjaVg4Ii1LAdjtWhPbnVcAXg4dp38NRwDWbx2Gwn1jApqPSPoxsWMA+y5gn/MJUwCulZ3qJj13A",
            "dtype": "f8"
           },
           "marker": {
            "color": {
             "bdata": "SgEXAGQAVAB5AjcDUgCKAaYADwKxANsAbgIDAawAjADKAR8BJAJeAJ4CwgGEAFQB",
             "dtype": "i2"
            },
            "coloraxis": "coloraxis",
            "size": {
             "bdata": "SgEXAGQAVAB5AjcDUgCKAaYADwKxANsAbgIDAawAjADKAR8BJAJeAJ4CwgGEAFQB",
             "dtype": "i2"
            },
            "sizemode": "area",
            "sizeref": 0.49207100591715974
           },
           "mode": "markers",
           "name": "",
           "showlegend": false,
           "subplot": "mapbox",
           "type": "scattermapbox"
          }
         ],
         "name": "Sep 2023"
        },
        {
         "data": [
          {
           "customdata": {
            "bdata": "WTikrDpbREDZ0ZONYoBSwAAAAAAAkH5AC4G3mzulQ0A2r+qsFidTwAAAAAAAAEZABOBEmbJsPUA1m8dhsJ9YwAAAAAAAQHZAowFhTJ/eQ0CvRKD6Bz9awAAAAAAA8IJA+3N2134tRUAXg4dp38NRwAAAAAAAAGBAzTqIQnAqRUA+y5gn/MJUwAAAAAAAYGFAnHNLBtv5PUBwKNdvAYVWwAAAAAAAcIRAaAkyAipeREDY2lYOCItSwAAAAAAAYG1AwGmwX2a5QEC8kuS5vgRcwAAAAAAAMHBA4qar4FxjQED6h+Ov/zJYwAAAAAAAmIVAY4+awL7jQkDC0Z9H1ppewAAAAAAAgGBARRIYRtUwOkCmo9I+jGxYwAAAAAAAcIFAcTK7ODthREA4TDRIwfhbwAAAAAAAwGVAFNEKZxLwREB2O1aE9udVwAAAAAAAAIZA7Xmj+97fQEDCsogX+hhVwAAAAAAAGIBAM+PIXkrNR0DA6V28H5VewAAAAAAAQGFAkvWKXZF5RkCgSnJl9UVXwAAAAAAAYGZAtlvckJByQ0AVWjG3VkJTwAAAAAAAAFJA4cvpV98GQUArpWd6iY9dwAAAAAAAwHdA48+m2fL5Q0CCQpg2d8pSwAAAAAAAgFBAPCcH/ZbCP0ArdX+rK59awAAAAAAAIGRAsT7UbNRbQEAXLUDbakpdwAAAAAAAACpAY68cxknCPUDA9KxaiNdXwAAAAAAAuIVA53NJMDDGOUB/9iNFZAxUwAAAAAAAOINA",
            "dtype": "f8",
            "shape": "24, 3"
           },
           "hovertemplate": "<b>%{hovertext}</b><br><br>Month-Year=Oct 2023<br>Arrests=%{marker.color}<extra></extra>",
           "hovertext": [
            "New York City",
            "Baltimore",
            "San Antonio",
            "Denver",
            "Boston",
            "Detroit",
            "New Orleans",
            "Newark",
            "Phoenix",
            "Dallas",
            "San Francisco",
            "Harlingen",
            "Salt Lake City",
            "Chicago",
            "Atlanta",
            "Seattle",
            "St. Paul",
            "Washington DC",
            "Los Angeles",
            "Philadelphia",
            "El Paso",
            "San Diego",
            "Houston",
            "Miami"
           ],
           "lat": {
            "bdata": "WTikrDpbREALgbebO6VDQATgRJmybD1AowFhTJ/eQ0D7c3bXfi1FQM06iEJwKkVAnHNLBtv5PUBoCTICKl5EQMBpsF9muUBA4qar4FxjQEBjj5rAvuNCQEUSGEbVMDpAcTK7ODthREAU0QpnEvBEQO15o/ve30BAM+PIXkrNR0CS9YpdkXlGQLZb3JCQckNA4cvpV98GQUDjz6bZ8vlDQDwnB/2Wwj9AsT7UbNRbQEBjrxzGScI9QOdzSTAwxjlA",
            "dtype": "f8"
           },
           "legendgroup": "",
           "lon": {
            "bdata": "2dGTjWKAUsA2r+qsFidTwDWbx2Gwn1jAr0Sg+gc/WsAXg4dp38NRwD7LmCf8wlTAcCjXbwGFVsDY2lYOCItSwLyS5Lm+BFzA+ofjr/8yWMDC0Z9H1ppewKaj0j6MbFjAOEw0SMH4W8B2O1aE9udVwMKyiBf6GFXAwOldvB+VXsCgSnJl9UVXwBVaMbdWQlPAK6VneomPXcCCQpg2d8pSwCt1f6srn1rAFy1A22pKXcDA9KxaiNdXwH/2I0VkDFTA",
            "dtype": "f8"
           },
           "marker": {
            "color": {
             "bdata": "6QEsAGQBXgKAAIsAjgLrAAMBswKEAC4CrgDAAgMCigCzAEgAfAFCAKEADQC3AmcC",
             "dtype": "i2"
            },
            "coloraxis": "coloraxis",
            "size": {
             "bdata": "6QEsAGQBXgKAAIsAjgLrAAMBswKEAC4CrgDAAgMCigCzAEgAfAFCAKEADQC3AmcC",
             "dtype": "i2"
            },
            "sizemode": "area",
            "sizeref": 0.49207100591715974
           },
           "mode": "markers",
           "name": "",
           "showlegend": false,
           "subplot": "mapbox",
           "type": "scattermapbox"
          }
         ],
         "name": "Oct 2023"
        },
        {
         "data": [
          {
           "customdata": {
            "bdata": "BOBEmbJsPUA1m8dhsJ9YwAAAAAAAoHlA4cvpV98GQUArpWd6iY9dwAAAAAAAMHRAY68cxknCPUDA9KxaiNdXwAAAAAAA4IFAY4+awL7jQkDC0Z9H1ppewAAAAAAAYGBAtlvckJByQ0AVWjG3VkJTwAAAAAAAwFdAWTikrDpbREDZ0ZONYoBSwAAAAAAA8H5AzTqIQnAqRUA+y5gn/MJUwAAAAAAAwGBA7Xmj+97fQEDCsogX+hhVwAAAAAAAwHhA53NJMDDGOUB/9iNFZAxUwAAAAAAAeIFAC4G3mzulQ0A2r+qsFidTwAAAAAAAAEFAPCcH/ZbCP0ArdX+rK59awAAAAAAAwFlAnHNLBtv5PUBwKNdvAYVWwAAAAAAACIRAsT7UbNRbQEAXLUDbakpdwAAAAAAAADZAkvWKXZF5RkCgSnJl9UVXwAAAAAAA4GRARRIYRtUwOkCmo9I+jGxYwAAAAAAA8H1A48+m2fL5Q0CCQpg2d8pSwAAAAAAAwFVAAOn27X9xRUDvA+uTN7hTwAAAAAAAADRA+3N2134tRUAXg4dp38NRwAAAAAAAADpAaAkyAipeREDY2lYOCItSwAAAAAAAIGJAcTK7ODthREA4TDRIwfhbwAAAAAAAgGdA4qar4FxjQED6h+Ov/zJYwAAAAAAAgIZAwGmwX2a5QEC8kuS5vgRcwAAAAAAA4G1AM+PIXkrNR0DA6V28H5VewAAAAAAAAFdAowFhTJ/eQ0CvRKD6Bz9awAAAAAAAAGNAFNEKZxLwREB2O1aE9udVwAAAAAAAWINA",
            "dtype": "f8",
            "shape": "25, 3"
           },
           "hovertemplate": "<b>%{hovertext}</b><br><br>Month-Year=Nov 2023<br>Arrests=%{marker.color}<extra></extra>",
           "hovertext": [
            "San Antonio",
            "Los Angeles",
            "Houston",
            "San Francisco",
            "Washington DC",
            "New York City",
            "Detroit",
            "Atlanta",
            "Miami",
            "Baltimore",
            "El Paso",
            "New Orleans",
            "San Diego",
            "St. Paul",
            "Harlingen",
            "Philadelphia",
            "Buffalo",
            "Boston",
            "Newark",
            "Salt Lake City",
            "Dallas",
            "Phoenix",
            "Seattle",
            "Denver",
            "Chicago"
           ],
           "lat": {
            "bdata": "BOBEmbJsPUDhy+lX3wZBQGOvHMZJwj1AY4+awL7jQkC2W9yQkHJDQFk4pKw6W0RAzTqIQnAqRUDteaP73t9AQOdzSTAwxjlAC4G3mzulQ0A8Jwf9lsI/QJxzSwbb+T1AsT7UbNRbQECS9YpdkXlGQEUSGEbVMDpA48+m2fL5Q0AA6fbtf3FFQPtzdtd+LUVAaAkyAipeREBxMrs4O2FEQOKmq+BcY0BAwGmwX2a5QEAz48heSs1HQKMBYUyf3kNAFNEKZxLwREA=",
            "dtype": "f8"
           },
           "legendgroup": "",
           "lon": {
            "bdata": "NZvHYbCfWMArpWd6iY9dwMD0rFqI11fAwtGfR9aaXsAVWjG3VkJTwNnRk41igFLAPsuYJ/zCVMDCsogX+hhVwH/2I0VkDFTANq/qrBYnU8ArdX+rK59awHAo128BhVbAFy1A22pKXcCgSnJl9UVXwKaj0j6MbFjAgkKYNnfKUsDvA+uTN7hTwBeDh2nfw1HA2NpWDgiLUsA4TDRIwfhbwPqH46//MljAvJLkub4EXMDA6V28H5VewK9EoPoHP1rAdjtWhPbnVcA=",
            "dtype": "f8"
           },
           "marker": {
            "color": {
             "bdata": "mgFDATwCgwBfAO8BhgCMAS8CIgBnAIECFgCnAN8BVwAUABoAkQC8ANAC7wBcAJgAawI=",
             "dtype": "i2"
            },
            "coloraxis": "coloraxis",
            "size": {
             "bdata": "mgFDATwCgwBfAO8BhgCMAS8CIgBnAIECFgCnAN8BVwAUABoAkQC8ANAC7wBcAJgAawI=",
             "dtype": "i2"
            },
            "sizemode": "area",
            "sizeref": 0.49207100591715974
           },
           "mode": "markers",
           "name": "",
           "showlegend": false,
           "subplot": "mapbox",
           "type": "scattermapbox"
          }
         ],
         "name": "Nov 2023"
        },
        {
         "data": [
          {
           "customdata": {
            "bdata": "AOn27X9xRUDvA+uTN7hTwAAAAAAAACRAtlvckJByQ0AVWjG3VkJTwAAAAAAAwFdABOBEmbJsPUA1m8dhsJ9YwAAAAAAAeI5AsT7UbNRbQEAXLUDbakpdwAAAAAAAADFAnHNLBtv5PUBwKNdvAYVWwAAAAAAAiIBAWTikrDpbREDZ0ZONYoBSwAAAAAAAQH1A+3N2134tRUAXg4dp38NRwAAAAAAAwFJAY4+awL7jQkDC0Z9H1ppewAAAAAAAAGBARRIYRtUwOkCmo9I+jGxYwAAAAAAAQIRAowFhTJ/eQ0CvRKD6Bz9awAAAAAAAQFZAPCcH/ZbCP0ArdX+rK59awAAAAAAAwFxA4qar4FxjQED6h+Ov/zJYwAAAAAAATJBAwGmwX2a5QEC8kuS5vgRcwAAAAAAAMHJA48+m2fL5Q0CCQpg2d8pSwAAAAAAAAE1AkvWKXZF5RkCgSnJl9UVXwAAAAAAA4GJAFNEKZxLwREB2O1aE9udVwAAAAAAA2IFAcTK7ODthREA4TDRIwfhbwAAAAAAAwGBAY68cxknCPUDA9KxaiNdXwAAAAAAAYI5A4cvpV98GQUArpWd6iY9dwAAAAAAAMHZAaAkyAipeREDY2lYOCItSwAAAAAAAYGhAzTqIQnAqRUA+y5gn/MJUwAAAAAAAwFJAM+PIXkrNR0DA6V28H5VewAAAAAAAAF5A53NJMDDGOUB/9iNFZAxUwAAAAAAAKIBA7Xmj+97fQEDCsogX+hhVwAAAAAAA8HVA",
            "dtype": "f8",
            "shape": "24, 3"
           },
           "hovertemplate": "<b>%{hovertext}</b><br><br>Month-Year=Dec 2023<br>Arrests=%{marker.color}<extra></extra>",
           "hovertext": [
            "Buffalo",
            "Washington DC",
            "San Antonio",
            "San Diego",
            "New Orleans",
            "New York City",
            "Boston",
            "San Francisco",
            "Harlingen",
            "Denver",
            "El Paso",
            "Dallas",
            "Phoenix",
            "Philadelphia",
            "St. Paul",
            "Chicago",
            "Salt Lake City",
            "Houston",
            "Los Angeles",
            "Newark",
            "Detroit",
            "Seattle",
            "Miami",
            "Atlanta"
           ],
           "lat": {
            "bdata": "AOn27X9xRUC2W9yQkHJDQATgRJmybD1AsT7UbNRbQECcc0sG2/k9QFk4pKw6W0RA+3N2134tRUBjj5rAvuNCQEUSGEbVMDpAowFhTJ/eQ0A8Jwf9lsI/QOKmq+BcY0BAwGmwX2a5QEDjz6bZ8vlDQJL1il2ReUZAFNEKZxLwREBxMrs4O2FEQGOvHMZJwj1A4cvpV98GQUBoCTICKl5EQM06iEJwKkVAM+PIXkrNR0Dnc0kwMMY5QO15o/ve30BA",
            "dtype": "f8"
           },
           "legendgroup": "",
           "lon": {
            "bdata": "7wPrkze4U8AVWjG3VkJTwDWbx2Gwn1jAFy1A22pKXcBwKNdvAYVWwNnRk41igFLAF4OHad/DUcDC0Z9H1ppewKaj0j6MbFjAr0Sg+gc/WsArdX+rK59awPqH46//MljAvJLkub4EXMCCQpg2d8pSwKBKcmX1RVfAdjtWhPbnVcA4TDRIwfhbwMD0rFqI11fAK6VneomPXcDY2lYOCItSwD7LmCf8wlTAwOldvB+VXsB/9iNFZAxUwMKyiBf6GFXA",
            "dtype": "f8"
           },
           "marker": {
            "color": {
             "bdata": "CgBfAM8DEQARAtQBSwCAAIgCWQBzABMEIwE6AJcAOwKGAMwDYwHDAEsAeAAFAl8B",
             "dtype": "i2"
            },
            "coloraxis": "coloraxis",
            "size": {
             "bdata": "CgBfAM8DEQARAtQBSwCAAIgCWQBzABMEIwE6AJcAOwKGAMwDYwHDAEsAeAAFAl8B",
             "dtype": "i2"
            },
            "sizemode": "area",
            "sizeref": 0.49207100591715974
           },
           "mode": "markers",
           "name": "",
           "showlegend": false,
           "subplot": "mapbox",
           "type": "scattermapbox"
          }
         ],
         "name": "Dec 2023"
        },
        {
         "data": [
          {
           "customdata": {
            "bdata": "M+PIXkrNR0DA6V28H5VewAAAAAAAQF1APCcH/ZbCP0ArdX+rK59awAAAAAAAQFVA48+m2fL5Q0CCQpg2d8pSwAAAAAAAAFBAnHNLBtv5PUBwKNdvAYVWwAAAAAAA2IJAC4G3mzulQ0A2r+qsFidTwAAAAAAAAEdAwGmwX2a5QEC8kuS5vgRcwAAAAAAA0HFAY68cxknCPUDA9KxaiNdXwAAAAAAAiIJARRIYRtUwOkCmo9I+jGxYwAAAAAAAAHhA4qar4FxjQED6h+Ov/zJYwAAAAAAA2IRAY4+awL7jQkDC0Z9H1ppewAAAAAAAgGJAFNEKZxLwREB2O1aE9udVwAAAAAAAwIVA7Xmj+97fQEDCsogX+hhVwAAAAAAAUHNAtlvckJByQ0AVWjG3VkJTwAAAAAAAQFhAcTK7ODthREA4TDRIwfhbwAAAAAAAgGBA4cvpV98GQUArpWd6iY9dwAAAAAAAIHVA53NJMDDGOUB/9iNFZAxUwAAAAAAAwIJAWTikrDpbREDZ0ZONYoBSwAAAAAAA4HhA+3N2134tRUAXg4dp38NRwAAAAAAAwFZAzTqIQnAqRUA+y5gn/MJUwAAAAAAAwF9AowFhTJ/eQ0CvRKD6Bz9awAAAAAAAgE1AsT7UbNRbQEAXLUDbakpdwAAAAAAAAD1AaAkyAipeREDY2lYOCItSwAAAAAAAIGhAkvWKXZF5RkCgSnJl9UVXwAAAAAAA4GJABOBEmbJsPUA1m8dhsJ9YwAAAAAAAgH1A",
            "dtype": "f8",
            "shape": "24, 3"
           },
           "hovertemplate": "<b>%{hovertext}</b><br><br>Month-Year=Jan 2024<br>Arrests=%{marker.color}<extra></extra>",
           "hovertext": [
            "Seattle",
            "El Paso",
            "Philadelphia",
            "New Orleans",
            "Baltimore",
            "Phoenix",
            "Houston",
            "Harlingen",
            "Dallas",
            "San Francisco",
            "Chicago",
            "Atlanta",
            "Washington DC",
            "Salt Lake City",
            "Los Angeles",
            "Miami",
            "New York City",
            "Boston",
            "Detroit",
            "Denver",
            "San Diego",
            "Newark",
            "St. Paul",
            "San Antonio"
           ],
           "lat": {
            "bdata": "M+PIXkrNR0A8Jwf9lsI/QOPPptny+UNAnHNLBtv5PUALgbebO6VDQMBpsF9muUBAY68cxknCPUBFEhhG1TA6QOKmq+BcY0BAY4+awL7jQkAU0QpnEvBEQO15o/ve30BAtlvckJByQ0BxMrs4O2FEQOHL6VffBkFA53NJMDDGOUBZOKSsOltEQPtzdtd+LUVAzTqIQnAqRUCjAWFMn95DQLE+1GzUW0BAaAkyAipeRECS9YpdkXlGQATgRJmybD1A",
            "dtype": "f8"
           },
           "legendgroup": "",
           "lon": {
            "bdata": "wOldvB+VXsArdX+rK59awIJCmDZ3ylLAcCjXbwGFVsA2r+qsFidTwLyS5Lm+BFzAwPSsWojXV8Cmo9I+jGxYwPqH46//MljAwtGfR9aaXsB2O1aE9udVwMKyiBf6GFXAFVoxt1ZCU8A4TDRIwfhbwCulZ3qJj13Af/YjRWQMVMDZ0ZONYoBSwBeDh2nfw1HAPsuYJ/zCVMCvRKD6Bz9awBctQNtqSl3A2NpWDgiLUsCgSnJl9UVXwDWbx2Gwn1jA",
            "dtype": "f8"
           },
           "marker": {
            "color": {
             "bdata": "dQBVAEAAWwIuAB0BUQKAAZsClAC4AjUBYQCEAFIBWAKOAVsAfwA7AB0AwQCXANgB",
             "dtype": "i2"
            },
            "coloraxis": "coloraxis",
            "size": {
             "bdata": "dQBVAEAAWwIuAB0BUQKAAZsClAC4AjUBYQCEAFIBWAKOAVsAfwA7AB0AwQCXANgB",
             "dtype": "i2"
            },
            "sizemode": "area",
            "sizeref": 0.49207100591715974
           },
           "mode": "markers",
           "name": "",
           "showlegend": false,
           "subplot": "mapbox",
           "type": "scattermapbox"
          }
         ],
         "name": "Jan 2024"
        },
        {
         "data": [
          {
           "customdata": {
            "bdata": "aAkyAipeREDY2lYOCItSwAAAAAAAAGxAY68cxknCPUDA9KxaiNdXwAAAAAAASIVARRIYRtUwOkCmo9I+jGxYwAAAAAAAwHlAWTikrDpbREDZ0ZONYoBSwAAAAAAAIHVAFNEKZxLwREB2O1aE9udVwAAAAAAAoINAsT7UbNRbQEAXLUDbakpdwAAAAAAAADxABOBEmbJsPUA1m8dhsJ9YwAAAAAAAGIFA+3N2134tRUAXg4dp38NRwAAAAAAAwFhA4qar4FxjQED6h+Ov/zJYwAAAAAAAEIdAkvWKXZF5RkCgSnJl9UVXwAAAAAAAoGRAcTK7ODthREA4TDRIwfhbwAAAAAAAQGtAPCcH/ZbCP0ArdX+rK59awAAAAAAAgFpAY4+awL7jQkDC0Z9H1ppewAAAAAAAgGZAwGmwX2a5QEC8kuS5vgRcwAAAAAAAoHNAC4G3mzulQ0A2r+qsFidTwAAAAAAAgExAtlvckJByQ0AVWjG3VkJTwAAAAAAAwFlAM+PIXkrNR0DA6V28H5VewAAAAAAAYGJA4cvpV98GQUArpWd6iY9dwAAAAAAAUHlAzTqIQnAqRUA+y5gn/MJUwAAAAAAAQF5AAOn27X9xRUDvA+uTN7hTwAAAAAAAADVA7Xmj+97fQEDCsogX+hhVwAAAAAAAkHdAowFhTJ/eQ0CvRKD6Bz9awAAAAAAAIGZA48+m2fL5Q0CCQpg2d8pSwAAAAAAAAFdAnHNLBtv5PUBwKNdvAYVWwAAAAAAAOIdA53NJMDDGOUB/9iNFZAxUwAAAAAAAWIdA",
            "dtype": "f8",
            "shape": "25, 3"
           },
           "hovertemplate": "<b>%{hovertext}</b><br><br>Month-Year=Feb 2024<br>Arrests=%{marker.color}<extra></extra>",
           "hovertext": [
            "Newark",
            "Houston",
            "Harlingen",
            "New York City",
            "Chicago",
            "San Diego",
            "San Antonio",
            "Boston",
            "Dallas",
            "St. Paul",
            "Salt Lake City",
            "El Paso",
            "San Francisco",
            "Phoenix",
            "Baltimore",
            "Washington DC",
            "Seattle",
            "Los Angeles",
            "Detroit",
            "Buffalo",
            "Atlanta",
            "Denver",
            "Philadelphia",
            "New Orleans",
            "Miami"
           ],
           "lat": {
            "bdata": "aAkyAipeREBjrxzGScI9QEUSGEbVMDpAWTikrDpbREAU0QpnEvBEQLE+1GzUW0BABOBEmbJsPUD7c3bXfi1FQOKmq+BcY0BAkvWKXZF5RkBxMrs4O2FEQDwnB/2Wwj9AY4+awL7jQkDAabBfZrlAQAuBt5s7pUNAtlvckJByQ0Az48heSs1HQOHL6VffBkFAzTqIQnAqRUAA6fbtf3FFQO15o/ve30BAowFhTJ/eQ0Djz6bZ8vlDQJxzSwbb+T1A53NJMDDGOUA=",
            "dtype": "f8"
           },
           "legendgroup": "",
           "lon": {
            "bdata": "2NpWDgiLUsDA9KxaiNdXwKaj0j6MbFjA2dGTjWKAUsB2O1aE9udVwBctQNtqSl3ANZvHYbCfWMAXg4dp38NRwPqH46//MljAoEpyZfVFV8A4TDRIwfhbwCt1f6srn1rAwtGfR9aaXsC8kuS5vgRcwDav6qwWJ1PAFVoxt1ZCU8DA6V28H5VewCulZ3qJj13APsuYJ/zCVMDvA+uTN7hTwMKyiBf6GFXAr0Sg+gc/WsCCQpg2d8pSwHAo128BhVbAf/YjRWQMVMA=",
            "dtype": "f8"
           },
           "marker": {
            "color": {
             "bdata": "4ACpApwBUgF0AhwAIwJjAOICpQDaAGoAtAA6ATkAZwCTAJUBeQAVAHkBsQBcAOcC6wI=",
             "dtype": "i2"
            },
            "coloraxis": "coloraxis",
            "size": {
             "bdata": "4ACpApwBUgF0AhwAIwJjAOICpQDaAGoAtAA6ATkAZwCTAJUBeQAVAHkBsQBcAOcC6wI=",
             "dtype": "i2"
            },
            "sizemode": "area",
            "sizeref": 0.49207100591715974
           },
           "mode": "markers",
           "name": "",
           "showlegend": false,
           "subplot": "mapbox",
           "type": "scattermapbox"
          }
         ],
         "name": "Feb 2024"
        },
        {
         "data": [
          {
           "customdata": {
            "bdata": "FNEKZxLwREB2O1aE9udVwAAAAAAAIIZAtlvckJByQ0AVWjG3VkJTwAAAAAAAQFhAowFhTJ/eQ0CvRKD6Bz9awAAAAAAAgEhA4cvpV98GQUArpWd6iY9dwAAAAAAA0HRAaAkyAipeREDY2lYOCItSwAAAAAAAAGZAwGmwX2a5QEC8kuS5vgRcwAAAAAAAAHRAkvWKXZF5RkCgSnJl9UVXwAAAAAAAIGBA+3N2134tRUAXg4dp38NRwAAAAAAAQFVA7Xmj+97fQEDCsogX+hhVwAAAAAAAYHhAzTqIQnAqRUA+y5gn/MJUwAAAAAAAgFlAY4+awL7jQkDC0Z9H1ppewAAAAAAA4GRABOBEmbJsPUA1m8dhsJ9YwAAAAAAAYIBAY68cxknCPUDA9KxaiNdXwAAAAAAAKIVAC4G3mzulQ0A2r+qsFidTwAAAAAAAAEVAWTikrDpbREDZ0ZONYoBSwAAAAAAAUHVA4qar4FxjQED6h+Ov/zJYwAAAAAAAmIhAAOn27X9xRUDvA+uTN7hTwAAAAAAAAEBAcTK7ODthREA4TDRIwfhbwAAAAAAA4GpA48+m2fL5Q0CCQpg2d8pSwAAAAAAAQFZAnHNLBtv5PUBwKNdvAYVWwAAAAAAAiIZAPCcH/ZbCP0ArdX+rK59awAAAAAAAgFlA53NJMDDGOUB/9iNFZAxUwAAAAAAAcIlAM+PIXkrNR0DA6V28H5VewAAAAAAAQGBARRIYRtUwOkCmo9I+jGxYwAAAAAAAuIBAsT7UbNRbQEAXLUDbakpdwAAAAAAAADZA",
            "dtype": "f8",
            "shape": "25, 3"
           },
           "hovertemplate": "<b>%{hovertext}</b><br><br>Month-Year=Mar 2024<br>Arrests=%{marker.color}<extra></extra>",
           "hovertext": [
            "Chicago",
            "Washington DC",
            "Denver",
            "Los Angeles",
            "Newark",
            "Phoenix",
            "St. Paul",
            "Boston",
            "Atlanta",
            "Detroit",
            "San Francisco",
            "San Antonio",
            "Houston",
            "Baltimore",
            "New York City",
            "Dallas",
            "Buffalo",
            "Salt Lake City",
            "Philadelphia",
            "New Orleans",
            "El Paso",
            "Miami",
            "Seattle",
            "Harlingen",
            "San Diego"
           ],
           "lat": {
            "bdata": "FNEKZxLwREC2W9yQkHJDQKMBYUyf3kNA4cvpV98GQUBoCTICKl5EQMBpsF9muUBAkvWKXZF5RkD7c3bXfi1FQO15o/ve30BAzTqIQnAqRUBjj5rAvuNCQATgRJmybD1AY68cxknCPUALgbebO6VDQFk4pKw6W0RA4qar4FxjQEAA6fbtf3FFQHEyuzg7YURA48+m2fL5Q0Ccc0sG2/k9QDwnB/2Wwj9A53NJMDDGOUAz48heSs1HQEUSGEbVMDpAsT7UbNRbQEA=",
            "dtype": "f8"
           },
           "legendgroup": "",
           "lon": {
            "bdata": "djtWhPbnVcAVWjG3VkJTwK9EoPoHP1rAK6VneomPXcDY2lYOCItSwLyS5Lm+BFzAoEpyZfVFV8AXg4dp38NRwMKyiBf6GFXAPsuYJ/zCVMDC0Z9H1ppewDWbx2Gwn1jAwPSsWojXV8A2r+qsFidTwNnRk41igFLA+ofjr/8yWMDvA+uTN7hTwDhMNEjB+FvAgkKYNnfKUsBwKNdvAYVWwCt1f6srn1rAf/YjRWQMVMDA6V28H5VewKaj0j6MbFjAFy1A22pKXcA=",
            "dtype": "f8"
           },
           "marker": {
            "color": {
             "bdata": "xAJhADEATQGwAEABgQBVAIYBZgCnAAwCpQIqAFUBEwMgANcAWQDRAmYALgOCABcCFgA=",
             "dtype": "i2"
            },
            "coloraxis": "coloraxis",
            "size": {
             "bdata": "xAJhADEATQGwAEABgQBVAIYBZgCnAAwCpQIqAFUBEwMgANcAWQDRAmYALgOCABcCFgA=",
             "dtype": "i2"
            },
            "sizemode": "area",
            "sizeref": 0.49207100591715974
           },
           "mode": "markers",
           "name": "",
           "showlegend": false,
           "subplot": "mapbox",
           "type": "scattermapbox"
          }
         ],
         "name": "Mar 2024"
        },
        {
         "data": [
          {
           "customdata": {
            "bdata": "BOBEmbJsPUA1m8dhsJ9YwAAAAAAAwIFA4cvpV98GQUArpWd6iY9dwAAAAAAAkHtAowFhTJ/eQ0CvRKD6Bz9awAAAAAAAQF5AaAkyAipeREDY2lYOCItSwAAAAAAAAHBAWTikrDpbREDZ0ZONYoBSwAAAAAAA4GxAcTK7ODthREA4TDRIwfhbwAAAAAAAkHFA48+m2fL5Q0CCQpg2d8pSwAAAAAAAQFtA7Xmj+97fQEDCsogX+hhVwAAAAAAAIHpAzTqIQnAqRUA+y5gn/MJUwAAAAAAAwF1AAOn27X9xRUDvA+uTN7hTwAAAAAAAACxAsT7UbNRbQEAXLUDbakpdwAAAAAAAADZAFNEKZxLwREB2O1aE9udVwAAAAAAA4IdAY68cxknCPUDA9KxaiNdXwAAAAAAA+IZA4qar4FxjQED6h+Ov/zJYwAAAAAAAgIlAwGmwX2a5QEC8kuS5vgRcwAAAAAAAEHJAM+PIXkrNR0DA6V28H5VewAAAAAAAAGNAtlvckJByQ0AVWjG3VkJTwAAAAAAAwF9A53NJMDDGOUB/9iNFZAxUwAAAAAAAqIxAC4G3mzulQ0A2r+qsFidTwAAAAAAAAFFAPCcH/ZbCP0ArdX+rK59awAAAAAAAwFpA+3N2134tRUAXg4dp38NRwAAAAAAA4GBAnHNLBtv5PUBwKNdvAYVWwAAAAAAAgIpARRIYRtUwOkCmo9I+jGxYwAAAAAAA0HFAkvWKXZF5RkCgSnJl9UVXwAAAAAAAYGdAY4+awL7jQkDC0Z9H1ppewAAAAAAAIGNA",
            "dtype": "f8",
            "shape": "25, 3"
           },
           "hovertemplate": "<b>%{hovertext}</b><br><br>Month-Year=Apr 2024<br>Arrests=%{marker.color}<extra></extra>",
           "hovertext": [
            "San Antonio",
            "Los Angeles",
            "Denver",
            "Newark",
            "New York City",
            "Salt Lake City",
            "Philadelphia",
            "Atlanta",
            "Detroit",
            "Buffalo",
            "San Diego",
            "Chicago",
            "Houston",
            "Dallas",
            "Phoenix",
            "Seattle",
            "Washington DC",
            "Miami",
            "Baltimore",
            "El Paso",
            "Boston",
            "New Orleans",
            "Harlingen",
            "St. Paul",
            "San Francisco"
           ],
           "lat": {
            "bdata": "BOBEmbJsPUDhy+lX3wZBQKMBYUyf3kNAaAkyAipeREBZOKSsOltEQHEyuzg7YURA48+m2fL5Q0DteaP73t9AQM06iEJwKkVAAOn27X9xRUCxPtRs1FtAQBTRCmcS8ERAY68cxknCPUDipqvgXGNAQMBpsF9muUBAM+PIXkrNR0C2W9yQkHJDQOdzSTAwxjlAC4G3mzulQ0A8Jwf9lsI/QPtzdtd+LUVAnHNLBtv5PUBFEhhG1TA6QJL1il2ReUZAY4+awL7jQkA=",
            "dtype": "f8"
           },
           "legendgroup": "",
           "lon": {
            "bdata": "NZvHYbCfWMArpWd6iY9dwK9EoPoHP1rA2NpWDgiLUsDZ0ZONYoBSwDhMNEjB+FvAgkKYNnfKUsDCsogX+hhVwD7LmCf8wlTA7wPrkze4U8AXLUDbakpdwHY7VoT251XAwPSsWojXV8D6h+Ov/zJYwLyS5Lm+BFzAwOldvB+VXsAVWjG3VkJTwH/2I0VkDFTANq/qrBYnU8ArdX+rK59awBeDh2nfw1HAcCjXbwGFVsCmo9I+jGxYwKBKcmX1RVfAwtGfR9aaXsA=",
            "dtype": "f8"
           },
           "marker": {
            "color": {
             "bdata": "OAK5AXkAAAHnABkBbQCiAXcADgAWAPwC3wIwAyEBmAB/AJUDRABrAIcAUAMdAbsAmQA=",
             "dtype": "i2"
            },
            "coloraxis": "coloraxis",
            "size": {
             "bdata": "OAK5AXkAAAHnABkBbQCiAXcADgAWAPwC3wIwAyEBmAB/AJUDRABrAIcAUAMdAbsAmQA=",
             "dtype": "i2"
            },
            "sizemode": "area",
            "sizeref": 0.49207100591715974
           },
           "mode": "markers",
           "name": "",
           "showlegend": false,
           "subplot": "mapbox",
           "type": "scattermapbox"
          }
         ],
         "name": "Apr 2024"
        },
        {
         "data": [
          {
           "customdata": {
            "bdata": "kvWKXZF5RkCgSnJl9UVXwAAAAAAAAGZAM+PIXkrNR0DA6V28H5VewAAAAAAAwFJAtlvckJByQ0AVWjG3VkJTwAAAAAAAwFlA53NJMDDGOUB/9iNFZAxUwAAAAAAAkIxAAOn27X9xRUDvA+uTN7hTwAAAAAAAACZAY68cxknCPUDA9KxaiNdXwAAAAAAACIhAnHNLBtv5PUBwKNdvAYVWwAAAAAAAIIxARRIYRtUwOkCmo9I+jGxYwAAAAAAAMH1AWTikrDpbREDZ0ZONYoBSwAAAAAAAoGZAC4G3mzulQ0A2r+qsFidTwAAAAAAAgEdA+3N2134tRUAXg4dp38NRwAAAAAAAQFJAPCcH/ZbCP0ArdX+rK59awAAAAAAAQFpAaAkyAipeREDY2lYOCItSwAAAAAAAwGpAzTqIQnAqRUA+y5gn/MJUwAAAAAAAQFVA48+m2fL5Q0CCQpg2d8pSwAAAAAAAAFlAowFhTJ/eQ0CvRKD6Bz9awAAAAAAAwGBAwGmwX2a5QEC8kuS5vgRcwAAAAAAAEHVAcTK7ODthREA4TDRIwfhbwAAAAAAAcHFA7Xmj+97fQEDCsogX+hhVwAAAAAAAUH5A4qar4FxjQED6h+Ov/zJYwAAAAAAAAItA4cvpV98GQUArpWd6iY9dwAAAAAAAsHdABOBEmbJsPUA1m8dhsJ9YwAAAAAAAAIBAFNEKZxLwREB2O1aE9udVwAAAAAAAGIlAY4+awL7jQkDC0Z9H1ppewAAAAAAAoGRAsT7UbNRbQEAXLUDbakpdwAAAAAAAADJA",
            "dtype": "f8",
            "shape": "25, 3"
           },
           "hovertemplate": "<b>%{hovertext}</b><br><br>Month-Year=May 2024<br>Arrests=%{marker.color}<extra></extra>",
           "hovertext": [
            "St. Paul",
            "Seattle",
            "Washington DC",
            "Miami",
            "Buffalo",
            "Houston",
            "New Orleans",
            "Harlingen",
            "New York City",
            "Baltimore",
            "Boston",
            "El Paso",
            "Newark",
            "Detroit",
            "Philadelphia",
            "Denver",
            "Phoenix",
            "Salt Lake City",
            "Atlanta",
            "Dallas",
            "Los Angeles",
            "San Antonio",
            "Chicago",
            "San Francisco",
            "San Diego"
           ],
           "lat": {
            "bdata": "kvWKXZF5RkAz48heSs1HQLZb3JCQckNA53NJMDDGOUAA6fbtf3FFQGOvHMZJwj1AnHNLBtv5PUBFEhhG1TA6QFk4pKw6W0RAC4G3mzulQ0D7c3bXfi1FQDwnB/2Wwj9AaAkyAipeREDNOohCcCpFQOPPptny+UNAowFhTJ/eQ0DAabBfZrlAQHEyuzg7YURA7Xmj+97fQEDipqvgXGNAQOHL6VffBkFABOBEmbJsPUAU0QpnEvBEQGOPmsC+40JAsT7UbNRbQEA=",
            "dtype": "f8"
           },
           "legendgroup": "",
           "lon": {
            "bdata": "oEpyZfVFV8DA6V28H5VewBVaMbdWQlPAf/YjRWQMVMDvA+uTN7hTwMD0rFqI11fAcCjXbwGFVsCmo9I+jGxYwNnRk41igFLANq/qrBYnU8AXg4dp38NRwCt1f6srn1rA2NpWDgiLUsA+y5gn/MJUwIJCmDZ3ylLAr0Sg+gc/WsC8kuS5vgRcwDhMNEjB+FvAwrKIF/oYVcD6h+Ov/zJYwCulZ3qJj13ANZvHYbCfWMB2O1aE9udVwMLRn0fWml7AFy1A22pKXcA=",
            "dtype": "f8"
           },
           "marker": {
            "color": {
             "bdata": "sABLAGcAkgMLAAEDhAPTAbUALwBJAGkA1gBVAGQAhgBRARcB5QFgA3sBAAIjA6UAEgA=",
             "dtype": "i2"
            },
            "coloraxis": "coloraxis",
            "size": {
             "bdata": "sABLAGcAkgMLAAEDhAPTAbUALwBJAGkA1gBVAGQAhgBRARcB5QFgA3sBAAIjA6UAEgA=",
             "dtype": "i2"
            },
            "sizemode": "area",
            "sizeref": 0.49207100591715974
           },
           "mode": "markers",
           "name": "",
           "showlegend": false,
           "subplot": "mapbox",
           "type": "scattermapbox"
          }
         ],
         "name": "May 2024"
        },
        {
         "data": [
          {
           "customdata": {
            "bdata": "BOBEmbJsPUA1m8dhsJ9YwAAAAAAAsHVA4qar4FxjQED6h+Ov/zJYwAAAAAAAUIVAFNEKZxLwREB2O1aE9udVwAAAAAAASIFAM+PIXkrNR0DA6V28H5VewAAAAAAAQFFAWTikrDpbREDZ0ZONYoBSwAAAAAAAwGFAY4+awL7jQkDC0Z9H1ppewAAAAAAA4GBAnHNLBtv5PUBwKNdvAYVWwAAAAAAAkIdA+3N2134tRUAXg4dp38NRwAAAAAAAgE9AY68cxknCPUDA9KxaiNdXwAAAAAAAmIZA53NJMDDGOUB/9iNFZAxUwAAAAAAA6IZAkvWKXZF5RkCgSnJl9UVXwAAAAAAAwFdARRIYRtUwOkCmo9I+jGxYwAAAAAAAcH9AC4G3mzulQ0A2r+qsFidTwAAAAAAAgEpAaAkyAipeREDY2lYOCItSwAAAAAAAoGdAsT7UbNRbQEAXLUDbakpdwAAAAAAAADlA48+m2fL5Q0CCQpg2d8pSwAAAAAAAwFFAtlvckJByQ0AVWjG3VkJTwAAAAAAAAFdAzTqIQnAqRUA+y5gn/MJUwAAAAAAAQFRA4cvpV98GQUArpWd6iY9dwAAAAAAAoHFAcTK7ODthREA4TDRIwfhbwAAAAAAAAGRAAOn27X9xRUDvA+uTN7hTwAAAAAAAACpAwGmwX2a5QEC8kuS5vgRcwAAAAAAA4GxAPCcH/ZbCP0ArdX+rK59awAAAAAAAgFRA7Xmj+97fQEDCsogX+hhVwAAAAAAAMHhAowFhTJ/eQ0CvRKD6Bz9awAAAAAAAQFVA",
            "dtype": "f8",
            "shape": "25, 3"
           },
           "hovertemplate": "<b>%{hovertext}</b><br><br>Month-Year=Jun 2024<br>Arrests=%{marker.color}<extra></extra>",
           "hovertext": [
            "San Antonio",
            "Dallas",
            "Chicago",
            "Seattle",
            "New York City",
            "San Francisco",
            "New Orleans",
            "Boston",
            "Houston",
            "Miami",
            "St. Paul",
            "Harlingen",
            "Baltimore",
            "Newark",
            "San Diego",
            "Philadelphia",
            "Washington DC",
            "Detroit",
            "Los Angeles",
            "Salt Lake City",
            "Buffalo",
            "Phoenix",
            "El Paso",
            "Atlanta",
            "Denver"
           ],
           "lat": {
            "bdata": "BOBEmbJsPUDipqvgXGNAQBTRCmcS8ERAM+PIXkrNR0BZOKSsOltEQGOPmsC+40JAnHNLBtv5PUD7c3bXfi1FQGOvHMZJwj1A53NJMDDGOUCS9YpdkXlGQEUSGEbVMDpAC4G3mzulQ0BoCTICKl5EQLE+1GzUW0BA48+m2fL5Q0C2W9yQkHJDQM06iEJwKkVA4cvpV98GQUBxMrs4O2FEQADp9u1/cUVAwGmwX2a5QEA8Jwf9lsI/QO15o/ve30BAowFhTJ/eQ0A=",
            "dtype": "f8"
           },
           "legendgroup": "",
           "lon": {
            "bdata": "NZvHYbCfWMD6h+Ov/zJYwHY7VoT251XAwOldvB+VXsDZ0ZONYoBSwMLRn0fWml7AcCjXbwGFVsAXg4dp38NRwMD0rFqI11fAf/YjRWQMVMCgSnJl9UVXwKaj0j6MbFjANq/qrBYnU8DY2lYOCItSwBctQNtqSl3AgkKYNnfKUsAVWjG3VkJTwD7LmCf8wlTAK6VneomPXcA4TDRIwfhbwO8D65M3uFPAvJLkub4EXMArdX+rK59awMKyiBf6GFXAr0Sg+gc/WsA=",
            "dtype": "f8"
           },
           "marker": {
            "color": {
             "bdata": "WwGqAikCRQCOAIcA8gI/ANMC3QJfAPcBNQC9ABkARwBcAFEAGgGgAA0A5wBSAIMBVQA=",
             "dtype": "i2"
            },
            "coloraxis": "coloraxis",
            "size": {
             "bdata": "WwGqAikCRQCOAIcA8gI/ANMC3QJfAPcBNQC9ABkARwBcAFEAGgGgAA0A5wBSAIMBVQA=",
             "dtype": "i2"
            },
            "sizemode": "area",
            "sizeref": 0.49207100591715974
           },
           "mode": "markers",
           "name": "",
           "showlegend": false,
           "subplot": "mapbox",
           "type": "scattermapbox"
          }
         ],
         "name": "Jun 2024"
        },
        {
         "data": [
          {
           "customdata": {
            "bdata": "PCcH/ZbCP0ArdX+rK59awAAAAAAAAFtA4cvpV98GQUArpWd6iY9dwAAAAAAAQHJAtlvckJByQ0AVWjG3VkJTwAAAAAAAQGBA4qar4FxjQED6h+Ov/zJYwAAAAAAAOIpAY68cxknCPUDA9KxaiNdXwAAAAAAA8IZAAOn27X9xRUDvA+uTN7hTwAAAAAAAADpARRIYRtUwOkCmo9I+jGxYwAAAAAAAcHNAFNEKZxLwREB2O1aE9udVwAAAAAAAgIJAowFhTJ/eQ0CvRKD6Bz9awAAAAAAAgGZAzTqIQnAqRUA+y5gn/MJUwAAAAAAAgF5AM+PIXkrNR0DA6V28H5VewAAAAAAAwFNA48+m2fL5Q0CCQpg2d8pSwAAAAAAAQFhA+3N2134tRUAXg4dp38NRwAAAAAAAgE1AwGmwX2a5QEC8kuS5vgRcwAAAAAAAoHFAcTK7ODthREA4TDRIwfhbwAAAAAAAgGZAaAkyAipeREDY2lYOCItSwAAAAAAAIGpABOBEmbJsPUA1m8dhsJ9YwAAAAAAAoHtAC4G3mzulQ0A2r+qsFidTwAAAAAAAgERAnHNLBtv5PUBwKNdvAYVWwAAAAAAAwItAWTikrDpbREDZ0ZONYoBSwAAAAAAAAGdAkvWKXZF5RkCgSnJl9UVXwAAAAAAAwF9A7Xmj+97fQEDCsogX+hhVwAAAAAAAIHxAY4+awL7jQkDC0Z9H1ppewAAAAAAAAGNA53NJMDDGOUB/9iNFZAxUwAAAAAAAaIhAsT7UbNRbQEAXLUDbakpdwAAAAAAAADhA",
            "dtype": "f8",
            "shape": "25, 3"
           },
           "hovertemplate": "<b>%{hovertext}</b><br><br>Month-Year=Jul 2024<br>Arrests=%{marker.color}<extra></extra>",
           "hovertext": [
            "El Paso",
            "Los Angeles",
            "Washington DC",
            "Dallas",
            "Houston",
            "Buffalo",
            "Harlingen",
            "Chicago",
            "Denver",
            "Detroit",
            "Seattle",
            "Philadelphia",
            "Boston",
            "Phoenix",
            "Salt Lake City",
            "Newark",
            "San Antonio",
            "Baltimore",
            "New Orleans",
            "New York City",
            "St. Paul",
            "Atlanta",
            "San Francisco",
            "Miami",
            "San Diego"
           ],
           "lat": {
            "bdata": "PCcH/ZbCP0Dhy+lX3wZBQLZb3JCQckNA4qar4FxjQEBjrxzGScI9QADp9u1/cUVARRIYRtUwOkAU0QpnEvBEQKMBYUyf3kNAzTqIQnAqRUAz48heSs1HQOPPptny+UNA+3N2134tRUDAabBfZrlAQHEyuzg7YURAaAkyAipeREAE4ESZsmw9QAuBt5s7pUNAnHNLBtv5PUBZOKSsOltEQJL1il2ReUZA7Xmj+97fQEBjj5rAvuNCQOdzSTAwxjlAsT7UbNRbQEA=",
            "dtype": "f8"
           },
           "legendgroup": "",
           "lon": {
            "bdata": "K3V/qyufWsArpWd6iY9dwBVaMbdWQlPA+ofjr/8yWMDA9KxaiNdXwO8D65M3uFPApqPSPoxsWMB2O1aE9udVwK9EoPoHP1rAPsuYJ/zCVMDA6V28H5VewIJCmDZ3ylLAF4OHad/DUcC8kuS5vgRcwDhMNEjB+FvA2NpWDgiLUsA1m8dhsJ9YwDav6qwWJ1PAcCjXbwGFVsDZ0ZONYoBSwKBKcmX1RVfAwrKIF/oYVcDC0Z9H1ppewH/2I0VkDFTAFy1A22pKXcA=",
            "dtype": "f8"
           },
           "marker": {
            "color": {
             "bdata": "bAAkAYIARwPeAhoANwFQArQAegBPAGEAOwAaAbQA0QC6ASkAeAO4AH8AwgGYAA0DGAA=",
             "dtype": "i2"
            },
            "coloraxis": "coloraxis",
            "size": {
             "bdata": "bAAkAYIARwPeAhoANwFQArQAegBPAGEAOwAaAbQA0QC6ASkAeAO4AH8AwgGYAA0DGAA=",
             "dtype": "i2"
            },
            "sizemode": "area",
            "sizeref": 0.49207100591715974
           },
           "mode": "markers",
           "name": "",
           "showlegend": false,
           "subplot": "mapbox",
           "type": "scattermapbox"
          }
         ],
         "name": "Jul 2024"
        },
        {
         "data": [
          {
           "customdata": {
            "bdata": "4qar4FxjQED6h+Ov/zJYwAAAAAAAsIpAsT7UbNRbQEAXLUDbakpdwAAAAAAAADxABOBEmbJsPUA1m8dhsJ9YwAAAAAAAIHxAY4+awL7jQkDC0Z9H1ppewAAAAAAAoGBAowFhTJ/eQ0CvRKD6Bz9awAAAAAAAgFNAcTK7ODthREA4TDRIwfhbwAAAAAAAwGlAC4G3mzulQ0A2r+qsFidTwAAAAAAAgFFA7Xmj+97fQEDCsogX+hhVwAAAAAAAwHtAzTqIQnAqRUA+y5gn/MJUwAAAAAAAwFZA53NJMDDGOUB/9iNFZAxUwAAAAAAAIIdAwGmwX2a5QEC8kuS5vgRcwAAAAAAAQHFA4cvpV98GQUArpWd6iY9dwAAAAAAAgHJAM+PIXkrNR0DA6V28H5VewAAAAAAAwFRA+3N2134tRUAXg4dp38NRwAAAAAAAgEpAFNEKZxLwREB2O1aE9udVwAAAAAAAoIJAY68cxknCPUDA9KxaiNdXwAAAAAAAIIhAWTikrDpbREDZ0ZONYoBSwAAAAAAAQF5AtlvckJByQ0AVWjG3VkJTwAAAAAAAYGNARRIYRtUwOkCmo9I+jGxYwAAAAAAAIHpA48+m2fL5Q0CCQpg2d8pSwAAAAAAAAFNAkvWKXZF5RkCgSnJl9UVXwAAAAAAAQFxAPCcH/ZbCP0ArdX+rK59awAAAAAAAAF1AAOn27X9xRUDvA+uTN7hTwAAAAAAAAChAaAkyAipeREDY2lYOCItSwAAAAAAAIGxAnHNLBtv5PUBwKNdvAYVWwAAAAAAAUIxA",
            "dtype": "f8",
            "shape": "25, 3"
           },
           "hovertemplate": "<b>%{hovertext}</b><br><br>Month-Year=Aug 2024<br>Arrests=%{marker.color}<extra></extra>",
           "hovertext": [
            "Dallas",
            "San Diego",
            "San Antonio",
            "San Francisco",
            "Denver",
            "Salt Lake City",
            "Baltimore",
            "Atlanta",
            "Detroit",
            "Miami",
            "Phoenix",
            "Los Angeles",
            "Seattle",
            "Boston",
            "Chicago",
            "Houston",
            "New York City",
            "Washington DC",
            "Harlingen",
            "Philadelphia",
            "St. Paul",
            "El Paso",
            "Buffalo",
            "Newark",
            "New Orleans"
           ],
           "lat": {
            "bdata": "4qar4FxjQECxPtRs1FtAQATgRJmybD1AY4+awL7jQkCjAWFMn95DQHEyuzg7YURAC4G3mzulQ0DteaP73t9AQM06iEJwKkVA53NJMDDGOUDAabBfZrlAQOHL6VffBkFAM+PIXkrNR0D7c3bXfi1FQBTRCmcS8ERAY68cxknCPUBZOKSsOltEQLZb3JCQckNARRIYRtUwOkDjz6bZ8vlDQJL1il2ReUZAPCcH/ZbCP0AA6fbtf3FFQGgJMgIqXkRAnHNLBtv5PUA=",
            "dtype": "f8"
           },
           "legendgroup": "",
           "lon": {
            "bdata": "+ofjr/8yWMAXLUDbakpdwDWbx2Gwn1jAwtGfR9aaXsCvRKD6Bz9awDhMNEjB+FvANq/qrBYnU8DCsogX+hhVwD7LmCf8wlTAf/YjRWQMVMC8kuS5vgRcwCulZ3qJj13AwOldvB+VXsAXg4dp38NRwHY7VoT251XAwPSsWojXV8DZ0ZONYoBSwBVaMbdWQlPApqPSPoxsWMCCQpg2d8pSwKBKcmX1RVfAK3V/qyufWsDvA+uTN7hTwNjaVg4Ii1LAcCjXbwGFVsA=",
            "dtype": "f8"
           },
           "marker": {
            "color": {
             "bdata": "VgMcAMIBhQBOAM4ARgC8AVsA5AIUASgBUwA1AFQCBAN5AJsAogFMAHEAdAAMAOEAigM=",
             "dtype": "i2"
            },
            "coloraxis": "coloraxis",
            "size": {
             "bdata": "VgMcAMIBhQBOAM4ARgC8AVsA5AIUASgBUwA1AFQCBAN5AJsAogFMAHEAdAAMAOEAigM=",
             "dtype": "i2"
            },
            "sizemode": "area",
            "sizeref": 0.49207100591715974
           },
           "mode": "markers",
           "name": "",
           "showlegend": false,
           "subplot": "mapbox",
           "type": "scattermapbox"
          }
         ],
         "name": "Aug 2024"
        },
        {
         "data": [
          {
           "customdata": {
            "bdata": "+3N2134tRUAXg4dp38NRwAAAAAAAgElAC4G3mzulQ0A2r+qsFidTwAAAAAAAgFlA7Xmj+97fQEDCsogX+hhVwAAAAAAAgHhAY68cxknCPUDA9KxaiNdXwAAAAAAAOIhAFNEKZxLwREB2O1aE9udVwAAAAAAA2IZAY4+awL7jQkDC0Z9H1ppewAAAAAAAQFpAsT7UbNRbQEAXLUDbakpdwAAAAAAAADNABOBEmbJsPUA1m8dhsJ9YwAAAAAAAYHlAcTK7ODthREA4TDRIwfhbwAAAAAAAYGRAwGmwX2a5QEC8kuS5vgRcwAAAAAAAoHFAM+PIXkrNR0DA6V28H5VewAAAAAAAQFJA48+m2fL5Q0CCQpg2d8pSwAAAAAAAAExAaAkyAipeREDY2lYOCItSwAAAAAAAAGxAAOn27X9xRUDvA+uTN7hTwAAAAAAAACRAWTikrDpbREDZ0ZONYoBSwAAAAAAAgFJA53NJMDDGOUB/9iNFZAxUwAAAAAAAYINA4cvpV98GQUArpWd6iY9dwAAAAAAAYGtARRIYRtUwOkCmo9I+jGxYwAAAAAAAEHJAPCcH/ZbCP0ArdX+rK59awAAAAAAAAFdAkvWKXZF5RkCgSnJl9UVXwAAAAAAAwFtAzTqIQnAqRUA+y5gn/MJUwAAAAAAAwFJAowFhTJ/eQ0CvRKD6Bz9awAAAAAAAgFJA4qar4FxjQED6h+Ov/zJYwAAAAAAA+IdAnHNLBtv5PUBwKNdvAYVWwAAAAAAAkIdAtlvckJByQ0AVWjG3VkJTwAAAAAAAAF5A",
            "dtype": "f8",
            "shape": "25, 3"
           },
           "hovertemplate": "<b>%{hovertext}</b><br><br>Month-Year=Sep 2024<br>Arrests=%{marker.color}<extra></extra>",
           "hovertext": [
            "Boston",
            "Baltimore",
            "Atlanta",
            "Houston",
            "Chicago",
            "San Francisco",
            "San Diego",
            "San Antonio",
            "Salt Lake City",
            "Phoenix",
            "Seattle",
            "Philadelphia",
            "Newark",
            "Buffalo",
            "New York City",
            "Miami",
            "Los Angeles",
            "Harlingen",
            "El Paso",
            "St. Paul",
            "Detroit",
            "Denver",
            "Dallas",
            "New Orleans",
            "Washington DC"
           ],
           "lat": {
            "bdata": "+3N2134tRUALgbebO6VDQO15o/ve30BAY68cxknCPUAU0QpnEvBEQGOPmsC+40JAsT7UbNRbQEAE4ESZsmw9QHEyuzg7YURAwGmwX2a5QEAz48heSs1HQOPPptny+UNAaAkyAipeREAA6fbtf3FFQFk4pKw6W0RA53NJMDDGOUDhy+lX3wZBQEUSGEbVMDpAPCcH/ZbCP0CS9YpdkXlGQM06iEJwKkVAowFhTJ/eQ0DipqvgXGNAQJxzSwbb+T1AtlvckJByQ0A=",
            "dtype": "f8"
           },
           "legendgroup": "",
           "lon": {
            "bdata": "F4OHad/DUcA2r+qsFidTwMKyiBf6GFXAwPSsWojXV8B2O1aE9udVwMLRn0fWml7AFy1A22pKXcA1m8dhsJ9YwDhMNEjB+FvAvJLkub4EXMDA6V28H5VewIJCmDZ3ylLA2NpWDgiLUsDvA+uTN7hTwNnRk41igFLAf/YjRWQMVMArpWd6iY9dwKaj0j6MbFjAK3V/qyufWsCgSnJl9UVXwD7LmCf8wlTAr0Sg+gc/WsD6h+Ov/zJYwHAo128BhVbAFVoxt1ZCU8A=",
            "dtype": "f8"
           },
           "marker": {
            "color": {
             "bdata": "MwBmAIgBBwPbAmkAEwCWAaMAGgFJADgA4AAKAEoAbALbACEBXABvAEsASgD/AvICeAA=",
             "dtype": "i2"
            },
            "coloraxis": "coloraxis",
            "size": {
             "bdata": "MwBmAIgBBwPbAmkAEwCWAaMAGgFJADgA4AAKAEoAbALbACEBXABvAEsASgD/AvICeAA=",
             "dtype": "i2"
            },
            "sizemode": "area",
            "sizeref": 0.49207100591715974
           },
           "mode": "markers",
           "name": "",
           "showlegend": false,
           "subplot": "mapbox",
           "type": "scattermapbox"
          }
         ],
         "name": "Sep 2024"
        }
       ],
       "layout": {
        "coloraxis": {
         "colorbar": {
          "title": {
           "text": "Arrests"
          }
         },
         "colorscale": [
          [
           0,
           "#0d0887"
          ],
          [
           0.1111111111111111,
           "#46039f"
          ],
          [
           0.2222222222222222,
           "#7201a8"
          ],
          [
           0.3333333333333333,
           "#9c179e"
          ],
          [
           0.4444444444444444,
           "#bd3786"
          ],
          [
           0.5555555555555556,
           "#d8576b"
          ],
          [
           0.6666666666666666,
           "#ed7953"
          ],
          [
           0.7777777777777778,
           "#fb9f3a"
          ],
          [
           0.8888888888888888,
           "#fdca26"
          ],
          [
           1,
           "#f0f921"
          ]
         ]
        },
        "legend": {
         "itemsizing": "constant",
         "tracegroupgap": 0
        },
        "mapbox": {
         "center": {
          "lat": 36.80708309656358,
          "lon": -94.21409738659794
         },
         "domain": {
          "x": [
           0,
           1
          ],
          "y": [
           0,
           1
          ]
         },
         "style": "carto-darkmatter",
         "zoom": 3
        },
        "margin": {
         "b": 0,
         "l": 0,
         "r": 0,
         "t": 50
        },
        "sliders": [
         {
          "active": 0,
          "currentvalue": {
           "prefix": "Month-Year="
          },
          "len": 0.9,
          "pad": {
           "b": 10,
           "t": 60
          },
          "steps": [
           {
            "args": [
             [
              "Oct 2020"
             ],
             {
              "frame": {
               "duration": 0,
               "redraw": true
              },
              "fromcurrent": true,
              "mode": "immediate",
              "transition": {
               "duration": 0,
               "easing": "linear"
              }
             }
            ],
            "label": "Oct 2020",
            "method": "animate"
           },
           {
            "args": [
             [
              "Nov 2020"
             ],
             {
              "frame": {
               "duration": 0,
               "redraw": true
              },
              "fromcurrent": true,
              "mode": "immediate",
              "transition": {
               "duration": 0,
               "easing": "linear"
              }
             }
            ],
            "label": "Nov 2020",
            "method": "animate"
           },
           {
            "args": [
             [
              "Dec 2020"
             ],
             {
              "frame": {
               "duration": 0,
               "redraw": true
              },
              "fromcurrent": true,
              "mode": "immediate",
              "transition": {
               "duration": 0,
               "easing": "linear"
              }
             }
            ],
            "label": "Dec 2020",
            "method": "animate"
           },
           {
            "args": [
             [
              "Jan 2021"
             ],
             {
              "frame": {
               "duration": 0,
               "redraw": true
              },
              "fromcurrent": true,
              "mode": "immediate",
              "transition": {
               "duration": 0,
               "easing": "linear"
              }
             }
            ],
            "label": "Jan 2021",
            "method": "animate"
           },
           {
            "args": [
             [
              "Feb 2021"
             ],
             {
              "frame": {
               "duration": 0,
               "redraw": true
              },
              "fromcurrent": true,
              "mode": "immediate",
              "transition": {
               "duration": 0,
               "easing": "linear"
              }
             }
            ],
            "label": "Feb 2021",
            "method": "animate"
           },
           {
            "args": [
             [
              "Mar 2021"
             ],
             {
              "frame": {
               "duration": 0,
               "redraw": true
              },
              "fromcurrent": true,
              "mode": "immediate",
              "transition": {
               "duration": 0,
               "easing": "linear"
              }
             }
            ],
            "label": "Mar 2021",
            "method": "animate"
           },
           {
            "args": [
             [
              "Apr 2021"
             ],
             {
              "frame": {
               "duration": 0,
               "redraw": true
              },
              "fromcurrent": true,
              "mode": "immediate",
              "transition": {
               "duration": 0,
               "easing": "linear"
              }
             }
            ],
            "label": "Apr 2021",
            "method": "animate"
           },
           {
            "args": [
             [
              "May 2021"
             ],
             {
              "frame": {
               "duration": 0,
               "redraw": true
              },
              "fromcurrent": true,
              "mode": "immediate",
              "transition": {
               "duration": 0,
               "easing": "linear"
              }
             }
            ],
            "label": "May 2021",
            "method": "animate"
           },
           {
            "args": [
             [
              "Jun 2021"
             ],
             {
              "frame": {
               "duration": 0,
               "redraw": true
              },
              "fromcurrent": true,
              "mode": "immediate",
              "transition": {
               "duration": 0,
               "easing": "linear"
              }
             }
            ],
            "label": "Jun 2021",
            "method": "animate"
           },
           {
            "args": [
             [
              "Jul 2021"
             ],
             {
              "frame": {
               "duration": 0,
               "redraw": true
              },
              "fromcurrent": true,
              "mode": "immediate",
              "transition": {
               "duration": 0,
               "easing": "linear"
              }
             }
            ],
            "label": "Jul 2021",
            "method": "animate"
           },
           {
            "args": [
             [
              "Aug 2021"
             ],
             {
              "frame": {
               "duration": 0,
               "redraw": true
              },
              "fromcurrent": true,
              "mode": "immediate",
              "transition": {
               "duration": 0,
               "easing": "linear"
              }
             }
            ],
            "label": "Aug 2021",
            "method": "animate"
           },
           {
            "args": [
             [
              "Sep 2021"
             ],
             {
              "frame": {
               "duration": 0,
               "redraw": true
              },
              "fromcurrent": true,
              "mode": "immediate",
              "transition": {
               "duration": 0,
               "easing": "linear"
              }
             }
            ],
            "label": "Sep 2021",
            "method": "animate"
           },
           {
            "args": [
             [
              "Oct 2021"
             ],
             {
              "frame": {
               "duration": 0,
               "redraw": true
              },
              "fromcurrent": true,
              "mode": "immediate",
              "transition": {
               "duration": 0,
               "easing": "linear"
              }
             }
            ],
            "label": "Oct 2021",
            "method": "animate"
           },
           {
            "args": [
             [
              "Nov 2021"
             ],
             {
              "frame": {
               "duration": 0,
               "redraw": true
              },
              "fromcurrent": true,
              "mode": "immediate",
              "transition": {
               "duration": 0,
               "easing": "linear"
              }
             }
            ],
            "label": "Nov 2021",
            "method": "animate"
           },
           {
            "args": [
             [
              "Dec 2021"
             ],
             {
              "frame": {
               "duration": 0,
               "redraw": true
              },
              "fromcurrent": true,
              "mode": "immediate",
              "transition": {
               "duration": 0,
               "easing": "linear"
              }
             }
            ],
            "label": "Dec 2021",
            "method": "animate"
           },
           {
            "args": [
             [
              "Jan 2022"
             ],
             {
              "frame": {
               "duration": 0,
               "redraw": true
              },
              "fromcurrent": true,
              "mode": "immediate",
              "transition": {
               "duration": 0,
               "easing": "linear"
              }
             }
            ],
            "label": "Jan 2022",
            "method": "animate"
           },
           {
            "args": [
             [
              "Feb 2022"
             ],
             {
              "frame": {
               "duration": 0,
               "redraw": true
              },
              "fromcurrent": true,
              "mode": "immediate",
              "transition": {
               "duration": 0,
               "easing": "linear"
              }
             }
            ],
            "label": "Feb 2022",
            "method": "animate"
           },
           {
            "args": [
             [
              "Mar 2022"
             ],
             {
              "frame": {
               "duration": 0,
               "redraw": true
              },
              "fromcurrent": true,
              "mode": "immediate",
              "transition": {
               "duration": 0,
               "easing": "linear"
              }
             }
            ],
            "label": "Mar 2022",
            "method": "animate"
           },
           {
            "args": [
             [
              "Apr 2022"
             ],
             {
              "frame": {
               "duration": 0,
               "redraw": true
              },
              "fromcurrent": true,
              "mode": "immediate",
              "transition": {
               "duration": 0,
               "easing": "linear"
              }
             }
            ],
            "label": "Apr 2022",
            "method": "animate"
           },
           {
            "args": [
             [
              "May 2022"
             ],
             {
              "frame": {
               "duration": 0,
               "redraw": true
              },
              "fromcurrent": true,
              "mode": "immediate",
              "transition": {
               "duration": 0,
               "easing": "linear"
              }
             }
            ],
            "label": "May 2022",
            "method": "animate"
           },
           {
            "args": [
             [
              "Jun 2022"
             ],
             {
              "frame": {
               "duration": 0,
               "redraw": true
              },
              "fromcurrent": true,
              "mode": "immediate",
              "transition": {
               "duration": 0,
               "easing": "linear"
              }
             }
            ],
            "label": "Jun 2022",
            "method": "animate"
           },
           {
            "args": [
             [
              "Jul 2022"
             ],
             {
              "frame": {
               "duration": 0,
               "redraw": true
              },
              "fromcurrent": true,
              "mode": "immediate",
              "transition": {
               "duration": 0,
               "easing": "linear"
              }
             }
            ],
            "label": "Jul 2022",
            "method": "animate"
           },
           {
            "args": [
             [
              "Aug 2022"
             ],
             {
              "frame": {
               "duration": 0,
               "redraw": true
              },
              "fromcurrent": true,
              "mode": "immediate",
              "transition": {
               "duration": 0,
               "easing": "linear"
              }
             }
            ],
            "label": "Aug 2022",
            "method": "animate"
           },
           {
            "args": [
             [
              "Sep 2022"
             ],
             {
              "frame": {
               "duration": 0,
               "redraw": true
              },
              "fromcurrent": true,
              "mode": "immediate",
              "transition": {
               "duration": 0,
               "easing": "linear"
              }
             }
            ],
            "label": "Sep 2022",
            "method": "animate"
           },
           {
            "args": [
             [
              "Oct 2022"
             ],
             {
              "frame": {
               "duration": 0,
               "redraw": true
              },
              "fromcurrent": true,
              "mode": "immediate",
              "transition": {
               "duration": 0,
               "easing": "linear"
              }
             }
            ],
            "label": "Oct 2022",
            "method": "animate"
           },
           {
            "args": [
             [
              "Nov 2022"
             ],
             {
              "frame": {
               "duration": 0,
               "redraw": true
              },
              "fromcurrent": true,
              "mode": "immediate",
              "transition": {
               "duration": 0,
               "easing": "linear"
              }
             }
            ],
            "label": "Nov 2022",
            "method": "animate"
           },
           {
            "args": [
             [
              "Dec 2022"
             ],
             {
              "frame": {
               "duration": 0,
               "redraw": true
              },
              "fromcurrent": true,
              "mode": "immediate",
              "transition": {
               "duration": 0,
               "easing": "linear"
              }
             }
            ],
            "label": "Dec 2022",
            "method": "animate"
           },
           {
            "args": [
             [
              "Jan 2023"
             ],
             {
              "frame": {
               "duration": 0,
               "redraw": true
              },
              "fromcurrent": true,
              "mode": "immediate",
              "transition": {
               "duration": 0,
               "easing": "linear"
              }
             }
            ],
            "label": "Jan 2023",
            "method": "animate"
           },
           {
            "args": [
             [
              "Feb 2023"
             ],
             {
              "frame": {
               "duration": 0,
               "redraw": true
              },
              "fromcurrent": true,
              "mode": "immediate",
              "transition": {
               "duration": 0,
               "easing": "linear"
              }
             }
            ],
            "label": "Feb 2023",
            "method": "animate"
           },
           {
            "args": [
             [
              "Mar 2023"
             ],
             {
              "frame": {
               "duration": 0,
               "redraw": true
              },
              "fromcurrent": true,
              "mode": "immediate",
              "transition": {
               "duration": 0,
               "easing": "linear"
              }
             }
            ],
            "label": "Mar 2023",
            "method": "animate"
           },
           {
            "args": [
             [
              "Apr 2023"
             ],
             {
              "frame": {
               "duration": 0,
               "redraw": true
              },
              "fromcurrent": true,
              "mode": "immediate",
              "transition": {
               "duration": 0,
               "easing": "linear"
              }
             }
            ],
            "label": "Apr 2023",
            "method": "animate"
           },
           {
            "args": [
             [
              "May 2023"
             ],
             {
              "frame": {
               "duration": 0,
               "redraw": true
              },
              "fromcurrent": true,
              "mode": "immediate",
              "transition": {
               "duration": 0,
               "easing": "linear"
              }
             }
            ],
            "label": "May 2023",
            "method": "animate"
           },
           {
            "args": [
             [
              "Jun 2023"
             ],
             {
              "frame": {
               "duration": 0,
               "redraw": true
              },
              "fromcurrent": true,
              "mode": "immediate",
              "transition": {
               "duration": 0,
               "easing": "linear"
              }
             }
            ],
            "label": "Jun 2023",
            "method": "animate"
           },
           {
            "args": [
             [
              "Jul 2023"
             ],
             {
              "frame": {
               "duration": 0,
               "redraw": true
              },
              "fromcurrent": true,
              "mode": "immediate",
              "transition": {
               "duration": 0,
               "easing": "linear"
              }
             }
            ],
            "label": "Jul 2023",
            "method": "animate"
           },
           {
            "args": [
             [
              "Aug 2023"
             ],
             {
              "frame": {
               "duration": 0,
               "redraw": true
              },
              "fromcurrent": true,
              "mode": "immediate",
              "transition": {
               "duration": 0,
               "easing": "linear"
              }
             }
            ],
            "label": "Aug 2023",
            "method": "animate"
           },
           {
            "args": [
             [
              "Sep 2023"
             ],
             {
              "frame": {
               "duration": 0,
               "redraw": true
              },
              "fromcurrent": true,
              "mode": "immediate",
              "transition": {
               "duration": 0,
               "easing": "linear"
              }
             }
            ],
            "label": "Sep 2023",
            "method": "animate"
           },
           {
            "args": [
             [
              "Oct 2023"
             ],
             {
              "frame": {
               "duration": 0,
               "redraw": true
              },
              "fromcurrent": true,
              "mode": "immediate",
              "transition": {
               "duration": 0,
               "easing": "linear"
              }
             }
            ],
            "label": "Oct 2023",
            "method": "animate"
           },
           {
            "args": [
             [
              "Nov 2023"
             ],
             {
              "frame": {
               "duration": 0,
               "redraw": true
              },
              "fromcurrent": true,
              "mode": "immediate",
              "transition": {
               "duration": 0,
               "easing": "linear"
              }
             }
            ],
            "label": "Nov 2023",
            "method": "animate"
           },
           {
            "args": [
             [
              "Dec 2023"
             ],
             {
              "frame": {
               "duration": 0,
               "redraw": true
              },
              "fromcurrent": true,
              "mode": "immediate",
              "transition": {
               "duration": 0,
               "easing": "linear"
              }
             }
            ],
            "label": "Dec 2023",
            "method": "animate"
           },
           {
            "args": [
             [
              "Jan 2024"
             ],
             {
              "frame": {
               "duration": 0,
               "redraw": true
              },
              "fromcurrent": true,
              "mode": "immediate",
              "transition": {
               "duration": 0,
               "easing": "linear"
              }
             }
            ],
            "label": "Jan 2024",
            "method": "animate"
           },
           {
            "args": [
             [
              "Feb 2024"
             ],
             {
              "frame": {
               "duration": 0,
               "redraw": true
              },
              "fromcurrent": true,
              "mode": "immediate",
              "transition": {
               "duration": 0,
               "easing": "linear"
              }
             }
            ],
            "label": "Feb 2024",
            "method": "animate"
           },
           {
            "args": [
             [
              "Mar 2024"
             ],
             {
              "frame": {
               "duration": 0,
               "redraw": true
              },
              "fromcurrent": true,
              "mode": "immediate",
              "transition": {
               "duration": 0,
               "easing": "linear"
              }
             }
            ],
            "label": "Mar 2024",
            "method": "animate"
           },
           {
            "args": [
             [
              "Apr 2024"
             ],
             {
              "frame": {
               "duration": 0,
               "redraw": true
              },
              "fromcurrent": true,
              "mode": "immediate",
              "transition": {
               "duration": 0,
               "easing": "linear"
              }
             }
            ],
            "label": "Apr 2024",
            "method": "animate"
           },
           {
            "args": [
             [
              "May 2024"
             ],
             {
              "frame": {
               "duration": 0,
               "redraw": true
              },
              "fromcurrent": true,
              "mode": "immediate",
              "transition": {
               "duration": 0,
               "easing": "linear"
              }
             }
            ],
            "label": "May 2024",
            "method": "animate"
           },
           {
            "args": [
             [
              "Jun 2024"
             ],
             {
              "frame": {
               "duration": 0,
               "redraw": true
              },
              "fromcurrent": true,
              "mode": "immediate",
              "transition": {
               "duration": 0,
               "easing": "linear"
              }
             }
            ],
            "label": "Jun 2024",
            "method": "animate"
           },
           {
            "args": [
             [
              "Jul 2024"
             ],
             {
              "frame": {
               "duration": 0,
               "redraw": true
              },
              "fromcurrent": true,
              "mode": "immediate",
              "transition": {
               "duration": 0,
               "easing": "linear"
              }
             }
            ],
            "label": "Jul 2024",
            "method": "animate"
           },
           {
            "args": [
             [
              "Aug 2024"
             ],
             {
              "frame": {
               "duration": 0,
               "redraw": true
              },
              "fromcurrent": true,
              "mode": "immediate",
              "transition": {
               "duration": 0,
               "easing": "linear"
              }
             }
            ],
            "label": "Aug 2024",
            "method": "animate"
           },
           {
            "args": [
             [
              "Sep 2024"
             ],
             {
              "frame": {
               "duration": 0,
               "redraw": true
              },
              "fromcurrent": true,
              "mode": "immediate",
              "transition": {
               "duration": 0,
               "easing": "linear"
              }
             }
            ],
            "label": "Sep 2024",
            "method": "animate"
           }
          ],
          "x": 0.1,
          "xanchor": "left",
          "y": 0,
          "yanchor": "top"
         }
        ],
        "template": {
         "data": {
          "bar": [
           {
            "error_x": {
             "color": "#2a3f5f"
            },
            "error_y": {
             "color": "#2a3f5f"
            },
            "marker": {
             "line": {
              "color": "#E5ECF6",
              "width": 0.5
             },
             "pattern": {
              "fillmode": "overlay",
              "size": 10,
              "solidity": 0.2
             }
            },
            "type": "bar"
           }
          ],
          "barpolar": [
           {
            "marker": {
             "line": {
              "color": "#E5ECF6",
              "width": 0.5
             },
             "pattern": {
              "fillmode": "overlay",
              "size": 10,
              "solidity": 0.2
             }
            },
            "type": "barpolar"
           }
          ],
          "carpet": [
           {
            "aaxis": {
             "endlinecolor": "#2a3f5f",
             "gridcolor": "white",
             "linecolor": "white",
             "minorgridcolor": "white",
             "startlinecolor": "#2a3f5f"
            },
            "baxis": {
             "endlinecolor": "#2a3f5f",
             "gridcolor": "white",
             "linecolor": "white",
             "minorgridcolor": "white",
             "startlinecolor": "#2a3f5f"
            },
            "type": "carpet"
           }
          ],
          "choropleth": [
           {
            "colorbar": {
             "outlinewidth": 0,
             "ticks": ""
            },
            "type": "choropleth"
           }
          ],
          "contour": [
           {
            "colorbar": {
             "outlinewidth": 0,
             "ticks": ""
            },
            "colorscale": [
             [
              0,
              "#0d0887"
             ],
             [
              0.1111111111111111,
              "#46039f"
             ],
             [
              0.2222222222222222,
              "#7201a8"
             ],
             [
              0.3333333333333333,
              "#9c179e"
             ],
             [
              0.4444444444444444,
              "#bd3786"
             ],
             [
              0.5555555555555556,
              "#d8576b"
             ],
             [
              0.6666666666666666,
              "#ed7953"
             ],
             [
              0.7777777777777778,
              "#fb9f3a"
             ],
             [
              0.8888888888888888,
              "#fdca26"
             ],
             [
              1,
              "#f0f921"
             ]
            ],
            "type": "contour"
           }
          ],
          "contourcarpet": [
           {
            "colorbar": {
             "outlinewidth": 0,
             "ticks": ""
            },
            "type": "contourcarpet"
           }
          ],
          "heatmap": [
           {
            "colorbar": {
             "outlinewidth": 0,
             "ticks": ""
            },
            "colorscale": [
             [
              0,
              "#0d0887"
             ],
             [
              0.1111111111111111,
              "#46039f"
             ],
             [
              0.2222222222222222,
              "#7201a8"
             ],
             [
              0.3333333333333333,
              "#9c179e"
             ],
             [
              0.4444444444444444,
              "#bd3786"
             ],
             [
              0.5555555555555556,
              "#d8576b"
             ],
             [
              0.6666666666666666,
              "#ed7953"
             ],
             [
              0.7777777777777778,
              "#fb9f3a"
             ],
             [
              0.8888888888888888,
              "#fdca26"
             ],
             [
              1,
              "#f0f921"
             ]
            ],
            "type": "heatmap"
           }
          ],
          "histogram": [
           {
            "marker": {
             "pattern": {
              "fillmode": "overlay",
              "size": 10,
              "solidity": 0.2
             }
            },
            "type": "histogram"
           }
          ],
          "histogram2d": [
           {
            "colorbar": {
             "outlinewidth": 0,
             "ticks": ""
            },
            "colorscale": [
             [
              0,
              "#0d0887"
             ],
             [
              0.1111111111111111,
              "#46039f"
             ],
             [
              0.2222222222222222,
              "#7201a8"
             ],
             [
              0.3333333333333333,
              "#9c179e"
             ],
             [
              0.4444444444444444,
              "#bd3786"
             ],
             [
              0.5555555555555556,
              "#d8576b"
             ],
             [
              0.6666666666666666,
              "#ed7953"
             ],
             [
              0.7777777777777778,
              "#fb9f3a"
             ],
             [
              0.8888888888888888,
              "#fdca26"
             ],
             [
              1,
              "#f0f921"
             ]
            ],
            "type": "histogram2d"
           }
          ],
          "histogram2dcontour": [
           {
            "colorbar": {
             "outlinewidth": 0,
             "ticks": ""
            },
            "colorscale": [
             [
              0,
              "#0d0887"
             ],
             [
              0.1111111111111111,
              "#46039f"
             ],
             [
              0.2222222222222222,
              "#7201a8"
             ],
             [
              0.3333333333333333,
              "#9c179e"
             ],
             [
              0.4444444444444444,
              "#bd3786"
             ],
             [
              0.5555555555555556,
              "#d8576b"
             ],
             [
              0.6666666666666666,
              "#ed7953"
             ],
             [
              0.7777777777777778,
              "#fb9f3a"
             ],
             [
              0.8888888888888888,
              "#fdca26"
             ],
             [
              1,
              "#f0f921"
             ]
            ],
            "type": "histogram2dcontour"
           }
          ],
          "mesh3d": [
           {
            "colorbar": {
             "outlinewidth": 0,
             "ticks": ""
            },
            "type": "mesh3d"
           }
          ],
          "parcoords": [
           {
            "line": {
             "colorbar": {
              "outlinewidth": 0,
              "ticks": ""
             }
            },
            "type": "parcoords"
           }
          ],
          "pie": [
           {
            "automargin": true,
            "type": "pie"
           }
          ],
          "scatter": [
           {
            "fillpattern": {
             "fillmode": "overlay",
             "size": 10,
             "solidity": 0.2
            },
            "type": "scatter"
           }
          ],
          "scatter3d": [
           {
            "line": {
             "colorbar": {
              "outlinewidth": 0,
              "ticks": ""
             }
            },
            "marker": {
             "colorbar": {
              "outlinewidth": 0,
              "ticks": ""
             }
            },
            "type": "scatter3d"
           }
          ],
          "scattercarpet": [
           {
            "marker": {
             "colorbar": {
              "outlinewidth": 0,
              "ticks": ""
             }
            },
            "type": "scattercarpet"
           }
          ],
          "scattergeo": [
           {
            "marker": {
             "colorbar": {
              "outlinewidth": 0,
              "ticks": ""
             }
            },
            "type": "scattergeo"
           }
          ],
          "scattergl": [
           {
            "marker": {
             "colorbar": {
              "outlinewidth": 0,
              "ticks": ""
             }
            },
            "type": "scattergl"
           }
          ],
          "scattermap": [
           {
            "marker": {
             "colorbar": {
              "outlinewidth": 0,
              "ticks": ""
             }
            },
            "type": "scattermap"
           }
          ],
          "scattermapbox": [
           {
            "marker": {
             "colorbar": {
              "outlinewidth": 0,
              "ticks": ""
             }
            },
            "type": "scattermapbox"
           }
          ],
          "scatterpolar": [
           {
            "marker": {
             "colorbar": {
              "outlinewidth": 0,
              "ticks": ""
             }
            },
            "type": "scatterpolar"
           }
          ],
          "scatterpolargl": [
           {
            "marker": {
             "colorbar": {
              "outlinewidth": 0,
              "ticks": ""
             }
            },
            "type": "scatterpolargl"
           }
          ],
          "scatterternary": [
           {
            "marker": {
             "colorbar": {
              "outlinewidth": 0,
              "ticks": ""
             }
            },
            "type": "scatterternary"
           }
          ],
          "surface": [
           {
            "colorbar": {
             "outlinewidth": 0,
             "ticks": ""
            },
            "colorscale": [
             [
              0,
              "#0d0887"
             ],
             [
              0.1111111111111111,
              "#46039f"
             ],
             [
              0.2222222222222222,
              "#7201a8"
             ],
             [
              0.3333333333333333,
              "#9c179e"
             ],
             [
              0.4444444444444444,
              "#bd3786"
             ],
             [
              0.5555555555555556,
              "#d8576b"
             ],
             [
              0.6666666666666666,
              "#ed7953"
             ],
             [
              0.7777777777777778,
              "#fb9f3a"
             ],
             [
              0.8888888888888888,
              "#fdca26"
             ],
             [
              1,
              "#f0f921"
             ]
            ],
            "type": "surface"
           }
          ],
          "table": [
           {
            "cells": {
             "fill": {
              "color": "#EBF0F8"
             },
             "line": {
              "color": "white"
             }
            },
            "header": {
             "fill": {
              "color": "#C8D4E3"
             },
             "line": {
              "color": "white"
             }
            },
            "type": "table"
           }
          ]
         },
         "layout": {
          "annotationdefaults": {
           "arrowcolor": "#2a3f5f",
           "arrowhead": 0,
           "arrowwidth": 1
          },
          "autotypenumbers": "strict",
          "coloraxis": {
           "colorbar": {
            "outlinewidth": 0,
            "ticks": ""
           }
          },
          "colorscale": {
           "diverging": [
            [
             0,
             "#8e0152"
            ],
            [
             0.1,
             "#c51b7d"
            ],
            [
             0.2,
             "#de77ae"
            ],
            [
             0.3,
             "#f1b6da"
            ],
            [
             0.4,
             "#fde0ef"
            ],
            [
             0.5,
             "#f7f7f7"
            ],
            [
             0.6,
             "#e6f5d0"
            ],
            [
             0.7,
             "#b8e186"
            ],
            [
             0.8,
             "#7fbc41"
            ],
            [
             0.9,
             "#4d9221"
            ],
            [
             1,
             "#276419"
            ]
           ],
           "sequential": [
            [
             0,
             "#0d0887"
            ],
            [
             0.1111111111111111,
             "#46039f"
            ],
            [
             0.2222222222222222,
             "#7201a8"
            ],
            [
             0.3333333333333333,
             "#9c179e"
            ],
            [
             0.4444444444444444,
             "#bd3786"
            ],
            [
             0.5555555555555556,
             "#d8576b"
            ],
            [
             0.6666666666666666,
             "#ed7953"
            ],
            [
             0.7777777777777778,
             "#fb9f3a"
            ],
            [
             0.8888888888888888,
             "#fdca26"
            ],
            [
             1,
             "#f0f921"
            ]
           ],
           "sequentialminus": [
            [
             0,
             "#0d0887"
            ],
            [
             0.1111111111111111,
             "#46039f"
            ],
            [
             0.2222222222222222,
             "#7201a8"
            ],
            [
             0.3333333333333333,
             "#9c179e"
            ],
            [
             0.4444444444444444,
             "#bd3786"
            ],
            [
             0.5555555555555556,
             "#d8576b"
            ],
            [
             0.6666666666666666,
             "#ed7953"
            ],
            [
             0.7777777777777778,
             "#fb9f3a"
            ],
            [
             0.8888888888888888,
             "#fdca26"
            ],
            [
             1,
             "#f0f921"
            ]
           ]
          },
          "colorway": [
           "#636efa",
           "#EF553B",
           "#00cc96",
           "#ab63fa",
           "#FFA15A",
           "#19d3f3",
           "#FF6692",
           "#B6E880",
           "#FF97FF",
           "#FECB52"
          ],
          "font": {
           "color": "#2a3f5f"
          },
          "geo": {
           "bgcolor": "white",
           "lakecolor": "white",
           "landcolor": "#E5ECF6",
           "showlakes": true,
           "showland": true,
           "subunitcolor": "white"
          },
          "hoverlabel": {
           "align": "left"
          },
          "hovermode": "closest",
          "mapbox": {
           "style": "light"
          },
          "paper_bgcolor": "white",
          "plot_bgcolor": "#E5ECF6",
          "polar": {
           "angularaxis": {
            "gridcolor": "white",
            "linecolor": "white",
            "ticks": ""
           },
           "bgcolor": "#E5ECF6",
           "radialaxis": {
            "gridcolor": "white",
            "linecolor": "white",
            "ticks": ""
           }
          },
          "scene": {
           "xaxis": {
            "backgroundcolor": "#E5ECF6",
            "gridcolor": "white",
            "gridwidth": 2,
            "linecolor": "white",
            "showbackground": true,
            "ticks": "",
            "zerolinecolor": "white"
           },
           "yaxis": {
            "backgroundcolor": "#E5ECF6",
            "gridcolor": "white",
            "gridwidth": 2,
            "linecolor": "white",
            "showbackground": true,
            "ticks": "",
            "zerolinecolor": "white"
           },
           "zaxis": {
            "backgroundcolor": "#E5ECF6",
            "gridcolor": "white",
            "gridwidth": 2,
            "linecolor": "white",
            "showbackground": true,
            "ticks": "",
            "zerolinecolor": "white"
           }
          },
          "shapedefaults": {
           "line": {
            "color": "#2a3f5f"
           }
          },
          "ternary": {
           "aaxis": {
            "gridcolor": "white",
            "linecolor": "white",
            "ticks": ""
           },
           "baxis": {
            "gridcolor": "white",
            "linecolor": "white",
            "ticks": ""
           },
           "bgcolor": "#E5ECF6",
           "caxis": {
            "gridcolor": "white",
            "linecolor": "white",
            "ticks": ""
           }
          },
          "title": {
           "x": 0.05
          },
          "xaxis": {
           "automargin": true,
           "gridcolor": "white",
           "linecolor": "white",
           "ticks": "",
           "title": {
            "standoff": 15
           },
           "zerolinecolor": "white",
           "zerolinewidth": 2
          },
          "yaxis": {
           "automargin": true,
           "gridcolor": "white",
           "linecolor": "white",
           "ticks": "",
           "title": {
            "standoff": 15
           },
           "zerolinecolor": "white",
           "zerolinewidth": 2
          }
         }
        },
        "title": {
         "text": "ICE Arrests by AOR Monthly (2021–2024)"
        },
        "updatemenus": [
         {
          "buttons": [
           {
            "args": [
             null,
             {
              "frame": {
               "duration": 500,
               "redraw": true
              },
              "fromcurrent": true,
              "mode": "immediate",
              "transition": {
               "duration": 500,
               "easing": "linear"
              }
             }
            ],
            "label": "&#9654;",
            "method": "animate"
           },
           {
            "args": [
             [
              null
             ],
             {
              "frame": {
               "duration": 0,
               "redraw": true
              },
              "fromcurrent": true,
              "mode": "immediate",
              "transition": {
               "duration": 0,
               "easing": "linear"
              }
             }
            ],
            "label": "&#9724;",
            "method": "animate"
           }
          ],
          "direction": "left",
          "pad": {
           "r": 10,
           "t": 70
          },
          "showactive": false,
          "type": "buttons",
          "x": 0.1,
          "xanchor": "right",
          "y": 0,
          "yanchor": "top"
         }
        ]
       }
      }
     },
     "metadata": {},
     "output_type": "display_data"
    }
   ],
   "source": [
    "monthly_arrest_counts_per_AOR: DataFrame = arrests_in_aor_by_month_year(df)\n",
    "arrest_density_bubble_mapped(monthly_arrest_counts_per_AOR)\n",
    "print(df.head())"
   ]
  }
 ],
 "metadata": {
  "kernelspec": {
   "display_name": ".venv",
   "language": "python",
   "name": "python3"
  },
  "language_info": {
   "codemirror_mode": {
    "name": "ipython",
    "version": 3
   },
   "file_extension": ".py",
   "mimetype": "text/x-python",
   "name": "python",
   "nbconvert_exporter": "python",
   "pygments_lexer": "ipython3",
   "version": "3.13.3"
  }
 },
 "nbformat": 4,
 "nbformat_minor": 2
}
